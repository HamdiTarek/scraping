{
 "cells": [
  {
   "cell_type": "markdown",
   "metadata": {},
   "source": [
    "# Introduction au Web scraping\n",
    "\n",
    "* Préréquis (souhaités): HTML, Java Script, CSS, Python"
   ]
  },
  {
   "cell_type": "markdown",
   "metadata": {},
   "source": [
    "# Table of content\n",
    "* [Data privacy and protection](#data-protection)\n",
    "    * [Data](#licence-de-donnees)\n",
    "    * [Open data](#open-data)\n",
    "* Data retrieving via an API\n",
    "    * [API: what's it ?](#definition-api)\n",
    "    * [HTTP requests](#requete-http)\n",
    "    * [Examples](#exemples-api)\n",
    "* Data extraction from the Web\n",
    "    * Web scraping: what's it ?\n",
    "    * Use cases\n",
    "    * Examples\n",
    "    * Terminologies\n",
    "* Web scraping: let's go !\n",
    "    * Static pages\n",
    "    * Dynamic pages\n",
    "* To go further\n",
    "    * Proxies\n",
    "    * Cookies\n",
    "    * Authentification\n",
    "    * Session\n",
    "    * HTTP erroes\n",
    "    * Web agents"
   ]
  },
  {
   "cell_type": "code",
   "execution_count": null,
   "metadata": {},
   "outputs": [],
   "source": []
  },
  {
   "cell_type": "markdown",
   "metadata": {},
   "source": [
    "# API <div id=\"definition-api\"></div>\n",
    "\n",
    "> An **API**, or [Application Programming Interface](https://en.wikipedia.org/wiki/Application_programming_interface), is an interface or communication protocol between different parts of a computer program intended to simplify the implementation and maintenance of software."
   ]
  },
  {
   "cell_type": "markdown",
   "metadata": {},
   "source": [
    "A class of useful APIs is Web based APIs. A *Web API* is a server that you can use to retrieve and send data to using code. APIs are most commonly used to retrieve data, and that will be the focus of this beginner tutorial."
   ]
  },
  {
   "cell_type": "code",
   "execution_count": null,
   "metadata": {},
   "outputs": [],
   "source": []
  },
  {
   "cell_type": "markdown",
   "metadata": {},
   "source": [
    "When you navigate to https://www.google.com/ , you're actualy sending a request which looks like :"
   ]
  },
  {
   "cell_type": "markdown",
   "metadata": {},
   "source": [
    "**Request URL**: http://google.com/  \n",
    "**Request Method**: GET  \n",
    "**Status Code**: 200   \n",
    "**Remote Address**: 172.217.18.  \n",
    "**Referrer Policy**: no-referrer-when-downgrade  \n",
    "**Cache-Control**: public, max-age=2592000  \n",
    "**Content-Length**: 219  \n",
    "**Content-Type**: text/html; charset=UTF-8  \n",
    "**Date**: Mon, 06 Jan 2020 03:08:42 GMT   \n",
    "**Expires**: Wed, 05 Feb 2020 03:08:42 GMT  \n",
    "**Location**: http://www.google.com/  "
   ]
  },
  {
   "cell_type": "code",
   "execution_count": null,
   "metadata": {},
   "outputs": [],
   "source": []
  },
  {
   "cell_type": "markdown",
   "metadata": {},
   "source": [
    "To pull data from the web, some web sites offer a documented **API** that can be HTTP requested.\n",
    "\n",
    "HTTP (HyperText Transfer Protocol) is a protocol designed to enable communications between clients and servers. When surfing on the Web, your web browser may be the client, and an application on a computer that hosts a web site may be the server. There are different HTTP methods: **GET**, **POST**, **PUT**, **DELETE** ... The most used ones are **GET** and **POST**."
   ]
  },
  {
   "cell_type": "markdown",
   "metadata": {},
   "source": []
  },
  {
   "cell_type": "markdown",
   "metadata": {},
   "source": [
    "# Surfing without your web browser"
   ]
  },
  {
   "cell_type": "markdown",
   "metadata": {},
   "source": [
    "* Open your OS terminal (Win + \"cmd\" + Enter or Ctrl+Alt+T on Linux )\n",
    "* Type: `curl -X GET www.google.com`\n",
    "* You will see the server's response on your screen. It's a raw HTML code that could be pretty printed by any HTML reader."
   ]
  },
  {
   "cell_type": "code",
   "execution_count": null,
   "metadata": {},
   "outputs": [],
   "source": []
  },
  {
   "cell_type": "code",
   "execution_count": 3,
   "metadata": {},
   "outputs": [],
   "source": [
    "import requests"
   ]
  },
  {
   "cell_type": "markdown",
   "metadata": {},
   "source": [
    "# Send a `GET` request"
   ]
  },
  {
   "cell_type": "markdown",
   "metadata": {},
   "source": [
    "To make a `GET` request, we'll use the requests.<font color=\"blue\">get()</font> function, which requires one argument — the URL we want to make the request to."
   ]
  },
  {
   "cell_type": "code",
   "execution_count": 4,
   "metadata": {},
   "outputs": [],
   "source": [
    "response = requests.get(\" https://api.ratesapi.io/api/2010-01-12\")"
   ]
  },
  {
   "cell_type": "markdown",
   "metadata": {},
   "source": [
    "When you send a `GET` request to the server, you will normally receive an HTTP response. In Python and with the requests module, this http response is actually requesented as `requests.models.Response` object as you can see it bellow:"
   ]
  },
  {
   "cell_type": "code",
   "execution_count": 8,
   "metadata": {},
   "outputs": [
    {
     "data": {
      "text/plain": [
       "requests.models.Response"
      ]
     },
     "execution_count": 8,
     "metadata": {},
     "output_type": "execute_result"
    }
   ],
   "source": [
    "type(response)"
   ]
  },
  {
   "cell_type": "code",
   "execution_count": 6,
   "metadata": {},
   "outputs": [
    {
     "data": {
      "text/plain": [
       "200"
      ]
     },
     "execution_count": 6,
     "metadata": {},
     "output_type": "execute_result"
    }
   ],
   "source": [
    "response.status_code"
   ]
  },
  {
   "cell_type": "code",
   "execution_count": 7,
   "metadata": {},
   "outputs": [
    {
     "data": {
      "text/plain": [
       "'{\"base\":\"EUR\",\"rates\":{\"GBP\":0.8972,\"HKD\":11.2301,\"IDR\":13281.14,\"PLN\":4.0838,\"DKK\":7.4405,\"LVL\":0.7093,\"INR\":66.21,\"CHF\":1.4743,\"MXN\":18.4995,\"CZK\":26.258,\"SGD\":2.0133,\"THB\":47.839,\"BGN\":1.9558,\"MYR\":4.8424,\"NOK\":8.1825,\"CNY\":9.8863,\"HRK\":7.2753,\"PHP\":66.106,\"SEK\":10.2215,\"LTL\":3.4528,\"ZAR\":10.8264,\"CAD\":1.4959,\"BRL\":2.5309,\"RON\":4.1405,\"EEK\":15.6466,\"NZD\":1.9573,\"TRY\":2.1084,\"JPY\":132.41,\"RUB\":42.6974,\"KRW\":1627.4,\"USD\":1.4481,\"HUF\":268.18,\"AUD\":1.5668},\"date\":\"2010-01-12\"}'"
      ]
     },
     "execution_count": 7,
     "metadata": {},
     "output_type": "execute_result"
    }
   ],
   "source": [
    "response.text"
   ]
  }
 ],
 "metadata": {
  "kernelspec": {
   "display_name": "Python 3",
   "language": "python",
   "name": "python3"
  },
  "language_info": {
   "codemirror_mode": {
    "name": "ipython",
    "version": 3
   },
   "file_extension": ".py",
   "mimetype": "text/x-python",
   "name": "python",
   "nbconvert_exporter": "python",
   "pygments_lexer": "ipython3",
   "version": "3.7.4"
  }
 },
 "nbformat": 4,
 "nbformat_minor": 2
}
