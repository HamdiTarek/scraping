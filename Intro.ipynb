{
 "cells": [
  {
   "cell_type": "markdown",
   "metadata": {},
   "source": [
    "# Introduction au Web scraping\n",
    "\n",
    "* Préréquis (souhaités): HTML, Java Script, CSS, Python"
   ]
  },
  {
   "cell_type": "markdown",
   "metadata": {},
   "source": [
    "# Table of content\n",
    "* [Data privacy and protection](#data-protection)\n",
    "    * [Data](#licence-de-donnees)\n",
    "    * [Open data](#open-data)\n",
    "* Data retrieving via an API\n",
    "    * [API: what's it ?](#definition-api)\n",
    "    * [HTTP requests](#requete-http)\n",
    "    * [Examples](#exemples-api)\n",
    "* Data extraction from the Web\n",
    "    * Web scraping: what's it ?\n",
    "    * Use cases\n",
    "    * Examples\n",
    "    * Terminologies\n",
    "* Web scraping: let's go !\n",
    "    * Static pages\n",
    "    * Dynamic pages\n",
    "* To go further\n",
    "    * Proxies\n",
    "    * Cookies\n",
    "    * Authentification\n",
    "    * Session\n",
    "    * HTTP errors\n",
    "    * Web agents"
   ]
  },
  {
   "cell_type": "markdown",
   "metadata": {},
   "source": [
    "# API <div id=\"definition-api\"></div>\n",
    "\n",
    "> Une **API**, ou [Application Programming Interface](https://en.wikipedia.org/wiki/Application_programming_interface), est une interface ou un protocole de communication entre différentes parties d'un programme informatique destiné à simplifier la mise en œuvre et la maintenance des logiciels"
   ]
  },
  {
   "cell_type": "markdown",
   "metadata": {},
   "source": [
    "Une classe d'API très utiles est celle des API basées sur le Web. Une *Api Web* est un serveur que vous pouvez utiliser pour récupérer et envoyer des données à l'aide de code. Les API sont le plus souvent utilisées pour récupérer des données, et ce sera en grande partie l'objet de ce cours."
   ]
  },
  {
   "cell_type": "code",
   "execution_count": null,
   "metadata": {},
   "outputs": [],
   "source": []
  },
  {
   "cell_type": "markdown",
   "metadata": {},
   "source": [
    "Lorsque vous naviguez sur https://www.google.com/ , vous envoyez actuellement une requête qui ressemble à :"
   ]
  },
  {
   "cell_type": "markdown",
   "metadata": {},
   "source": [
    "**Request URL**: http://google.com/  \n",
    "**Request Method**: GET  \n",
    "**Status Code**: 200   \n",
    "**Remote Address**: 172.217.18.  \n",
    "**Referrer Policy**: no-referrer-when-downgrade  \n",
    "**Cache-Control**: public, max-age=2592000  \n",
    "**Content-Length**: 219  \n",
    "**Content-Type**: text/html; charset=UTF-8  \n",
    "**Date**: Mon, 06 Jan 2020 03:08:42 GMT   \n",
    "**Expires**: Wed, 05 Feb 2020 03:08:42 GMT  \n",
    "**Location**: http://www.google.com/  "
   ]
  },
  {
   "cell_type": "code",
   "execution_count": null,
   "metadata": {},
   "outputs": [],
   "source": []
  },
  {
   "cell_type": "markdown",
   "metadata": {},
   "source": [
    "Pour extraire des données du web, certains sites web offrent une **API** documentée qui peut être requêtée par HTTP.\n",
    "\n",
    "HTTP (HyperText Transfer Protocol) est un protocole conçu pour permettre la communication entre  clients et serveurs. Lorsque vous surfez sur le Web, votre navigateur Web peut être le client, et une application Web  hébergée sur un ordinateur distant peut être le serveur. Il existe différentes méthodes HTTP : **GET**, **POST**, **PUT**, **DELETE** ... Les plus utilisées sont **GET** et **POST**."
   ]
  },
  {
   "cell_type": "code",
   "execution_count": null,
   "metadata": {},
   "outputs": [],
   "source": []
  },
  {
   "cell_type": "markdown",
   "metadata": {},
   "source": [
    "# Surfer sur le net sans son navigateur web"
   ]
  },
  {
   "cell_type": "markdown",
   "metadata": {},
   "source": [
    "* Ouvrir un terminal sur votre OS (Win + \"cmd\" + Enter ou Ctrl+Alt+T sur Linux )\n",
    "* Taper: `curl -X GET www.google.com`\n",
    "* Vous verrez la réponse du serveur sur votre écran. C'est un code HTML brut qui pourrait être visionné par n'importe quel lecteur HTML."
   ]
  },
  {
   "cell_type": "code",
   "execution_count": null,
   "metadata": {},
   "outputs": [],
   "source": []
  },
  {
   "cell_type": "markdown",
   "metadata": {},
   "source": [
    "# Envoyer une requête `GET`"
   ]
  },
  {
   "cell_type": "markdown",
   "metadata": {},
   "source": [
    "Pour faire une requête `GET`, nous utiliserons le module **requests** et sa fonction **requests**.<b><font color=\"blue\">get()</font></b>, qui nécessite un argument: l'**URL** (**U**niversal **R**essource **L**ocator) de notre requête."
   ]
  },
  {
   "cell_type": "code",
   "execution_count": 15,
   "metadata": {},
   "outputs": [],
   "source": [
    "import requests # Ne pas oublier d'exécuter cette ligne"
   ]
  },
  {
   "cell_type": "code",
   "execution_count": 16,
   "metadata": {},
   "outputs": [],
   "source": [
    "# Nous envoyons une requête `GET` à l'URL 'https://api.ratesapi.io/api/2010-01-12'\n",
    "response = requests.get(\"https://api.ratesapi.io/api/2010-01-12\")"
   ]
  },
  {
   "cell_type": "markdown",
   "metadata": {},
   "source": [
    "Lorsque vous envoyez une requête `GET` au serveur, vous recevez normalement une réponse HTTP. En Python et avec le module **requests**, cette réponse http est représentée sous forme d'un objet `requests.models.Response` comme vous pouvez le voir ci-dessous :"
   ]
  },
  {
   "cell_type": "code",
   "execution_count": 17,
   "metadata": {},
   "outputs": [
    {
     "data": {
      "text/plain": [
       "requests.models.Response"
      ]
     },
     "execution_count": 17,
     "metadata": {},
     "output_type": "execute_result"
    }
   ],
   "source": [
    "type(response)"
   ]
  },
  {
   "cell_type": "markdown",
   "metadata": {},
   "source": [
    "Ce type d'objet possède un attribut **status_code**; c'est le **code d'état** de votre requête et il vous permet de vérifier si la requête a réussi ou pas."
   ]
  },
  {
   "cell_type": "code",
   "execution_count": 18,
   "metadata": {},
   "outputs": [
    {
     "data": {
      "text/plain": [
       "200"
      ]
     },
     "execution_count": 18,
     "metadata": {},
     "output_type": "execute_result"
    }
   ],
   "source": [
    "response.status_code"
   ]
  },
  {
   "cell_type": "markdown",
   "metadata": {},
   "source": [
    ">Le protocole HTTP possède différents types de **code d'état** dont les plus importants sont:\n",
    "* **200** : succès de la requête ;\n",
    "* **301** et **302** : redirection, respectivement permanente et temporaire ;\n",
    "* **401** : utilisateur non authentifié ;\n",
    "* **403** : accès refusé ;\n",
    "* **404** : page non trouvée (vous le reconnaîtrez sûrement 😈);\n",
    "* **500** et **503** : erreur serveur ;\n",
    "* **504** : le serveur n'a pas répondu.\n",
    "\n",
    "[Visiter ce lien pour une liste plus complète](https://fr.wikipedia.org/wiki/Liste_des_codes_HTTP)."
   ]
  },
  {
   "cell_type": "code",
   "execution_count": 22,
   "metadata": {},
   "outputs": [
    {
     "data": {
      "text/plain": [
       "<Response [200]>"
      ]
     },
     "execution_count": 22,
     "metadata": {},
     "output_type": "execute_result"
    }
   ],
   "source": [
    "requests.get(\"https://api.ratesapi.io/api/2010-01-12\", params={\"a\": \"é ~ `` ''\"})"
   ]
  },
  {
   "cell_type": "code",
   "execution_count": 23,
   "metadata": {},
   "outputs": [
    {
     "data": {
      "text/plain": [
       "'https://api.ratesapi.io/api/2010-01-12'"
      ]
     },
     "execution_count": 23,
     "metadata": {},
     "output_type": "execute_result"
    }
   ],
   "source": [
    "response.url"
   ]
  },
  {
   "cell_type": "code",
   "execution_count": 26,
   "metadata": {},
   "outputs": [
    {
     "data": {
      "text/plain": [
       "{'Date': 'Tue, 07 Jan 2020 07:04:21 GMT', 'Content-Type': 'application/json', 'Transfer-Encoding': 'chunked', 'Connection': 'keep-alive', 'Set-Cookie': '__cfduid=d47ef5cd2b50a1afd5882a5fbaab6da661578380661; expires=Thu, 06-Feb-20 07:04:21 GMT; path=/; domain=.ratesapi.io; HttpOnly; SameSite=Lax', 'Vary': 'Accept-Encoding', 'Access-Control-Allow-Methods': 'GET', 'Access-Control-Allow-Credentials': 'true', 'Access-Control-Allow-Origin': '*', 'Content-Encoding': 'gzip', 'Cache-Control': 'max-age=14400', 'CF-Cache-Status': 'HIT', 'Age': '922', 'Expect-CT': 'max-age=604800, report-uri=\"https://report-uri.cloudflare.com/cdn-cgi/beacon/expect-ct\"', 'Server': 'cloudflare', 'CF-RAY': '551413bc4b7897f6-FRA'}"
      ]
     },
     "execution_count": 26,
     "metadata": {},
     "output_type": "execute_result"
    }
   ],
   "source": [
    "response.headers"
   ]
  },
  {
   "cell_type": "markdown",
   "metadata": {},
   "source": [
    "**Q1** <font face=\"sans-serif\">Alors, l'URL précédemment requêtée existe t-elle ou pas ?</font>"
   ]
  },
  {
   "cell_type": "code",
   "execution_count": null,
   "metadata": {},
   "outputs": [],
   "source": []
  },
  {
   "cell_type": "code",
   "execution_count": 7,
   "metadata": {},
   "outputs": [
    {
     "data": {
      "text/plain": [
       "'{\"base\":\"EUR\",\"rates\":{\"GBP\":0.8972,\"HKD\":11.2301,\"IDR\":13281.14,\"PLN\":4.0838,\"DKK\":7.4405,\"LVL\":0.7093,\"INR\":66.21,\"CHF\":1.4743,\"MXN\":18.4995,\"CZK\":26.258,\"SGD\":2.0133,\"THB\":47.839,\"BGN\":1.9558,\"MYR\":4.8424,\"NOK\":8.1825,\"CNY\":9.8863,\"HRK\":7.2753,\"PHP\":66.106,\"SEK\":10.2215,\"LTL\":3.4528,\"ZAR\":10.8264,\"CAD\":1.4959,\"BRL\":2.5309,\"RON\":4.1405,\"EEK\":15.6466,\"NZD\":1.9573,\"TRY\":2.1084,\"JPY\":132.41,\"RUB\":42.6974,\"KRW\":1627.4,\"USD\":1.4481,\"HUF\":268.18,\"AUD\":1.5668},\"date\":\"2010-01-12\"}'"
      ]
     },
     "execution_count": 7,
     "metadata": {},
     "output_type": "execute_result"
    }
   ],
   "source": [
    "response.text"
   ]
  }
 ],
 "metadata": {
  "kernelspec": {
   "display_name": "Python 3",
   "language": "python",
   "name": "python3"
  },
  "language_info": {
   "codemirror_mode": {
    "name": "ipython",
    "version": 3
   },
   "file_extension": ".py",
   "mimetype": "text/x-python",
   "name": "python",
   "nbconvert_exporter": "python",
   "pygments_lexer": "ipython3",
   "version": "3.7.4"
  }
 },
 "nbformat": 4,
 "nbformat_minor": 2
}
