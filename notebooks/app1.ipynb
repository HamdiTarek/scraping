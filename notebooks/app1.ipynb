{
 "cells": [
  {
   "cell_type": "markdown",
   "metadata": {},
   "source": [
    "# Application 1"
   ]
  },
  {
   "cell_type": "code",
   "execution_count": 1,
   "metadata": {},
   "outputs": [
    {
     "name": "stdout",
     "output_type": "stream",
     "text": [
      "code d'état : 200\n"
     ]
    }
   ],
   "source": [
    "import requests # Envoyer des requêtes, Ouvrir un apge Web\n",
    "from bs4 import BeautifulSoup # Parser du HTML\n",
    "# Récupérer la page HTML\n",
    "msn = requests.get(\"https://www.msn.com/en-us/money/markets/currencies\")\n",
    "print( \"code d'état :\", msn.status_code)"
   ]
  },
  {
   "cell_type": "code",
   "execution_count": 2,
   "metadata": {},
   "outputs": [],
   "source": [
    "soup = BeautifulSoup(msn.text)"
   ]
  },
  {
   "cell_type": "code",
   "execution_count": 29,
   "metadata": {},
   "outputs": [],
   "source": [
    "# msn.content.decode(\"utf-8\")"
   ]
  },
  {
   "cell_type": "code",
   "execution_count": 3,
   "metadata": {},
   "outputs": [
    {
     "data": {
      "text/plain": [
       "113306"
      ]
     },
     "execution_count": 3,
     "metadata": {},
     "output_type": "execute_result"
    }
   ],
   "source": [
    "len(msn.text)"
   ]
  },
  {
   "cell_type": "code",
   "execution_count": 4,
   "metadata": {},
   "outputs": [
    {
     "data": {
      "text/plain": [
       "'<?xml version=\"1.0\" encoding=\"UTF-8\" ?>\\r\\n<!DOCTYPE HTML PUBLIC \"-//WAPFORUM//DTD XHTML Mobile 1.2//EN\" \"http://www.openmobilealliance.org/tech/DTD/xhtml-mobile12.dtd\">\\r\\n<html xmlns=\"http://www.w3.org/1999/xhtml\" xml:lang=\"en-US\" dir=\"ltr\">\\n\\n<head>\\n <!-- data-info:v:20200103_20520765;a:ff824755-de11-42cf-824e-3dfe9cb4be45;cn:82;az:{did:8df28e8681774be6b41666cd5d52d6db, rid: 82, sn: neurope-prod-entertainment, dt: 2020-01-13T06:08:24.3741403Z, bt: 2020-01-04T01:15:23.2477716Z};ddpi:1;dpio:;dpi:1;dg:downlevel.pc;th:green;PageName:currenciesPage;m:en-us;cb:;l:en-us;mu:en-us;ud:{cid:,vk:finance,n:,l:en-us,ck:Markets%2CCurrencies};xd:;ovc:f;al:;f:msnallexpusers,muidflt12cf,muidflt259cf,muidflt299cf,muidflt312cf,mmxandroid1cf,audexedge2cf,moneyedge2cf,samrtb-n,audexhp2cf,moneyhp1cf,moneyhp2cf,bingcollabhp3cf,audexhz3cf,artgly5cf,article4cf,gallery5cf,jslltelemetry;userOptOut:false;userOptOutOptions: -->\\n <meta name=\"robots\" content=\"index, follow\"/>\\n \\n \\n\\n <title>Currency Converter - MSN Money'"
      ]
     },
     "execution_count": 4,
     "metadata": {},
     "output_type": "execute_result"
    }
   ],
   "source": [
    "msn.text[:1000]"
   ]
  },
  {
   "cell_type": "code",
   "execution_count": null,
   "metadata": {},
   "outputs": [],
   "source": []
  },
  {
   "cell_type": "markdown",
   "metadata": {},
   "source": [
    "### Q1 : Quelle est la plus petite classe qui englobe notre table d’intérêt ? Appelons cette classe currency_class. Modifiez le code ci-dessous pour ne sélectionner que la classe currency_class"
   ]
  },
  {
   "cell_type": "code",
   "execution_count": 5,
   "metadata": {},
   "outputs": [],
   "source": [
    "currency_class = \"mjrcurrncsitem\""
   ]
  },
  {
   "cell_type": "code",
   "execution_count": 30,
   "metadata": {},
   "outputs": [
    {
     "name": "stdout",
     "output_type": "stream",
     "text": [
      "Bravo: il semblerait que j'ai trouvé la classe!\n"
     ]
    }
   ],
   "source": [
    "# cur = soup.find( class_ =  currency_class) \n",
    "cur = soup.find( attrs = {\"class\": currency_class}) \n",
    "# Retenez cette syntaxe, elle permet d'extraire une classe quelconque\n",
    "if cur and len(cur) :\n",
    "  print(\"Bravo: il semblerait que j'ai trouvé la classe!\")\n",
    "else:\n",
    "  print(\"Je n'ai toujours pas trouvé la classe mère\")"
   ]
  },
  {
   "cell_type": "code",
   "execution_count": null,
   "metadata": {},
   "outputs": [],
   "source": []
  },
  {
   "cell_type": "markdown",
   "metadata": {},
   "source": [
    "### Q2 : Quelle est la classe qui représente l’en-tête de la table ? Notons-la thead_class. Alors l’en-tête s’extrait de la façon suivante "
   ]
  },
  {
   "cell_type": "code",
   "execution_count": 7,
   "metadata": {},
   "outputs": [],
   "source": [
    "thead_class = 'mjrcurrncsrow tblheaderrow'"
   ]
  },
  {
   "cell_type": "code",
   "execution_count": 8,
   "metadata": {},
   "outputs": [],
   "source": [
    "#.mjrcurrncsrow.tblheaderrow   [class=* \"pricecol\"]"
   ]
  },
  {
   "cell_type": "code",
   "execution_count": 31,
   "metadata": {},
   "outputs": [
    {
     "name": "stdout",
     "output_type": "stream",
     "text": [
      "['Major Currencies', 'Price', 'Change', 'Change%', '52 Week High', '52 Week Low']\n"
     ]
    }
   ],
   "source": [
    "header = cur.find(class_ = thead_class)\n",
    "headers = header.find_all(class_ = \"mctblheading\") # Avez-vous pu retrouver la classe `mctblheading`  de vous mêmes ?\n",
    "header_values = []\n",
    "for header_element in headers :\n",
    "    header_values.append(header_element.find(\"p\").attrs[\"title\"])\n",
    "print(header_values)"
   ]
  },
  {
   "cell_type": "code",
   "execution_count": null,
   "metadata": {},
   "outputs": [],
   "source": []
  },
  {
   "cell_type": "markdown",
   "metadata": {},
   "source": [
    "### Q3 : Quelle est la classe qui englobe toutes les lignes de la table ? Elle sera notée trows_class. Pouvez-vous identifier la classe qui caractérise une ligne dans la table ? Notons cette classe `trow_class`"
   ]
  },
  {
   "cell_type": "code",
   "execution_count": 10,
   "metadata": {},
   "outputs": [],
   "source": [
    "trows_class = \"mjcurrncs-data\""
   ]
  },
  {
   "cell_type": "code",
   "execution_count": 41,
   "metadata": {},
   "outputs": [
    {
     "name": "stdout",
     "output_type": "stream",
     "text": [
      "<div class=\"mcrow\">\n",
      "<span aria-hidden=\"True\" class=\"flagcol\"><span class=\"cntryflag\" id=\"GBR\"> </span></span>\n",
      "<div class=\"cntrycnvrsn\">\n",
      "<span class=\"cntrycol\"><p class=\"truncated-string\" title=\"British Pound\">British Pound</p></span>\n",
      "<span class=\"cnvrsncol\"><p class=\"truncated-string\" title=\"GBP/USD\">GBP/USD</p></span>\n",
      "</div>\n",
      "<span class=\"pricecol\"><p aria-label=\"Price 1.2979\" class=\"truncated-string\" title=\"1.2979\">1.2979</p></span>\n",
      "<div class=\"chcpclub\">\n",
      "<span class=\"chngcol chng-value decrease\"><p aria-label=\"Change -0.0080\" class=\"truncated-string\" title=\"-0.0080\">-0.0080</p></span>\n",
      "<span class=\"chpcol chp-value decrease\"><p aria-label=\"Change% -0.6126%\" class=\"truncated-string\" title=\"-0.6126%\">-0.6126%</p></span>\n",
      "</div>\n",
      "<span class=\"rng52wkcol\"><p aria-label=\"52 Week High 1.3514\" class=\"truncated-string\" title=\"1.3514\">1.3514</p></span>\n",
      "<span class=\"rng52wkcol\"><p aria-label=\"52 Week Low 1.1957\" class=\"truncated-string\" title=\"1.1957\">1.1957</p></span>\n",
      "</div>\n"
     ]
    }
   ],
   "source": [
    "rows_container = cur.find(class_ = trows_class)\n",
    "rows = rows_container.find_all(class_ = \"mcrow\")\n",
    "row = rows[2]\n",
    "print(row)"
   ]
  },
  {
   "cell_type": "code",
   "execution_count": null,
   "metadata": {},
   "outputs": [],
   "source": []
  },
  {
   "cell_type": "code",
   "execution_count": 38,
   "metadata": {},
   "outputs": [],
   "source": [
    "# Cette fonction extraie les différentes colonnes d'une ligen quelconque\n",
    "\n",
    "def get_row(row):\n",
    "    flag = row.find(class_ = \"cntryflag\").attrs[\"id\"]\n",
    "    \n",
    "    cur_names = row.find(class_ = \"cntrycnvrsn\")#.attrs[\"id\"]\n",
    "    cur_name1 =  cur_names.find( class_ = \"cntrycol\").p.attrs[\"title\"]\n",
    "    cur_name2 =  cur_names.find( class_ = \"cnvrsncol\").find(\"p\").attrs[\"title\"]\n",
    "    \n",
    "    price = row.find(class_ = \"pricecol\").p.attrs[\"title\"]\n",
    "    \n",
    "    changes = row.find(class_ = \"chcpclub\")\n",
    "    chg_absolute = changes.find(class_  = \"chngcol\").p.attrs[\"title\"]\n",
    "    chg_perc  = changes.find(class_  = \"chpcol\").p.attrs[\"title\"]\n",
    "    \n",
    "    return {\"flag\": flag, \"cur_name1\": cur_name1, \"cur_name2\":cur_name2,  \"price\": price, \n",
    "            \"chg_absolute\": chg_absolute,  \"chg_perc\": chg_perc}"
   ]
  },
  {
   "cell_type": "code",
   "execution_count": 43,
   "metadata": {},
   "outputs": [
    {
     "data": {
      "text/plain": [
       "{'flag': 'GBR',\n",
       " 'cur_name1': 'British Pound',\n",
       " 'cur_name2': 'GBP/USD',\n",
       " 'price': '1.2979',\n",
       " 'chg_absolute': '-0.0080',\n",
       " 'chg_perc': '-0.6126%'}"
      ]
     },
     "execution_count": 43,
     "metadata": {},
     "output_type": "execute_result"
    }
   ],
   "source": [
    "get_row(row)"
   ]
  },
  {
   "cell_type": "code",
   "execution_count": 39,
   "metadata": {},
   "outputs": [
    {
     "data": {
      "text/plain": [
       "[{'flag': 'EUR',\n",
       "  'cur_name1': 'Euro',\n",
       "  'cur_name2': 'USD/EUR',\n",
       "  'price': '0.8979',\n",
       "  'chg_absolute': '-0.0015',\n",
       "  'chg_perc': '-0.1668%'},\n",
       " {'flag': 'JPN',\n",
       "  'cur_name1': 'Japanese Yen',\n",
       "  'cur_name2': 'USD/JPY',\n",
       "  'price': '109.8900',\n",
       "  'chg_absolute': '+0.4300',\n",
       "  'chg_perc': '+0.3928%'}]"
      ]
     },
     "execution_count": 39,
     "metadata": {},
     "output_type": "execute_result"
    }
   ],
   "source": [
    "data = [get_row(row) for row in rows]\n",
    "data[:2]"
   ]
  },
  {
   "cell_type": "code",
   "execution_count": null,
   "metadata": {},
   "outputs": [],
   "source": []
  },
  {
   "cell_type": "markdown",
   "metadata": {},
   "source": [
    "### Convertir la donnée en DataFrame Pandas"
   ]
  },
  {
   "cell_type": "code",
   "execution_count": 14,
   "metadata": {},
   "outputs": [],
   "source": [
    "import pandas as pd"
   ]
  },
  {
   "cell_type": "code",
   "execution_count": 15,
   "metadata": {},
   "outputs": [
    {
     "data": {
      "text/html": [
       "<div>\n",
       "<style scoped>\n",
       "    .dataframe tbody tr th:only-of-type {\n",
       "        vertical-align: middle;\n",
       "    }\n",
       "\n",
       "    .dataframe tbody tr th {\n",
       "        vertical-align: top;\n",
       "    }\n",
       "\n",
       "    .dataframe thead th {\n",
       "        text-align: right;\n",
       "    }\n",
       "</style>\n",
       "<table border=\"1\" class=\"dataframe\">\n",
       "  <thead>\n",
       "    <tr style=\"text-align: right;\">\n",
       "      <th></th>\n",
       "      <th>flag</th>\n",
       "      <th>cur_name1</th>\n",
       "      <th>cur_name2</th>\n",
       "      <th>price</th>\n",
       "      <th>chg_absolute</th>\n",
       "      <th>chg_perc</th>\n",
       "    </tr>\n",
       "  </thead>\n",
       "  <tbody>\n",
       "    <tr>\n",
       "      <td>0</td>\n",
       "      <td>EUR</td>\n",
       "      <td>Euro</td>\n",
       "      <td>USD/EUR</td>\n",
       "      <td>0.8979</td>\n",
       "      <td>-0.0015</td>\n",
       "      <td>-0.1668%</td>\n",
       "    </tr>\n",
       "    <tr>\n",
       "      <td>1</td>\n",
       "      <td>JPN</td>\n",
       "      <td>Japanese Yen</td>\n",
       "      <td>USD/JPY</td>\n",
       "      <td>109.8900</td>\n",
       "      <td>+0.4300</td>\n",
       "      <td>+0.3928%</td>\n",
       "    </tr>\n",
       "    <tr>\n",
       "      <td>2</td>\n",
       "      <td>GBR</td>\n",
       "      <td>British Pound</td>\n",
       "      <td>GBP/USD</td>\n",
       "      <td>1.2979</td>\n",
       "      <td>-0.0080</td>\n",
       "      <td>-0.6126%</td>\n",
       "    </tr>\n",
       "    <tr>\n",
       "      <td>3</td>\n",
       "      <td>CAN</td>\n",
       "      <td>Canadian Dollar</td>\n",
       "      <td>USD/CAD</td>\n",
       "      <td>1.3050</td>\n",
       "      <td>0.0000</td>\n",
       "      <td>0.0000%</td>\n",
       "    </tr>\n",
       "    <tr>\n",
       "      <td>4</td>\n",
       "      <td>AUS</td>\n",
       "      <td>Australian Dollar</td>\n",
       "      <td>USD/AUD</td>\n",
       "      <td>1.4474</td>\n",
       "      <td>-0.0012</td>\n",
       "      <td>-0.0828%</td>\n",
       "    </tr>\n",
       "  </tbody>\n",
       "</table>\n",
       "</div>"
      ],
      "text/plain": [
       "  flag          cur_name1 cur_name2     price chg_absolute  chg_perc\n",
       "0  EUR               Euro   USD/EUR    0.8979      -0.0015  -0.1668%\n",
       "1  JPN       Japanese Yen   USD/JPY  109.8900      +0.4300  +0.3928%\n",
       "2  GBR      British Pound   GBP/USD    1.2979      -0.0080  -0.6126%\n",
       "3  CAN    Canadian Dollar   USD/CAD    1.3050       0.0000   0.0000%\n",
       "4  AUS  Australian Dollar   USD/AUD    1.4474      -0.0012  -0.0828%"
      ]
     },
     "execution_count": 15,
     "metadata": {},
     "output_type": "execute_result"
    }
   ],
   "source": [
    "df = pd.DataFrame(data)\n",
    "df.head()"
   ]
  },
  {
   "cell_type": "code",
   "execution_count": 16,
   "metadata": {},
   "outputs": [],
   "source": [
    "df.to_csv(\"msn_currencies.csv\") # Sauvegarder au format csv\n",
    "# df.to_excel(\"msn_currencies.excel\") # Sauvegarder au format excel"
   ]
  },
  {
   "cell_type": "code",
   "execution_count": 44,
   "metadata": {},
   "outputs": [],
   "source": [
    "# df.to_"
   ]
  },
  {
   "cell_type": "code",
   "execution_count": 45,
   "metadata": {},
   "outputs": [
    {
     "name": "stdout",
     "output_type": "stream",
     "text": [
      "<class 'pandas.core.frame.DataFrame'>\n",
      "RangeIndex: 15 entries, 0 to 14\n",
      "Data columns (total 6 columns):\n",
      "flag            15 non-null object\n",
      "cur_name1       15 non-null object\n",
      "cur_name2       15 non-null object\n",
      "price           15 non-null float64\n",
      "chg_absolute    15 non-null object\n",
      "chg_perc        15 non-null object\n",
      "dtypes: float64(1), object(5)\n",
      "memory usage: 848.0+ bytes\n"
     ]
    }
   ],
   "source": [
    "df.info()"
   ]
  },
  {
   "cell_type": "code",
   "execution_count": null,
   "metadata": {},
   "outputs": [],
   "source": []
  },
  {
   "cell_type": "markdown",
   "metadata": {},
   "source": [
    "### On peut aussi faire quelques analyses statistiques "
   ]
  },
  {
   "cell_type": "code",
   "execution_count": 18,
   "metadata": {},
   "outputs": [],
   "source": [
    "df[\"price\"] = df[\"price\"].str.replace(\",\", \"\").astype(float) # Conversion en numérique"
   ]
  },
  {
   "cell_type": "code",
   "execution_count": 19,
   "metadata": {},
   "outputs": [
    {
     "name": "stdout",
     "output_type": "stream",
     "text": [
      "<class 'pandas.core.frame.DataFrame'>\n",
      "RangeIndex: 15 entries, 0 to 14\n",
      "Data columns (total 6 columns):\n",
      "flag            15 non-null object\n",
      "cur_name1       15 non-null object\n",
      "cur_name2       15 non-null object\n",
      "price           15 non-null float64\n",
      "chg_absolute    15 non-null object\n",
      "chg_perc        15 non-null object\n",
      "dtypes: float64(1), object(5)\n",
      "memory usage: 848.0+ bytes\n"
     ]
    }
   ],
   "source": [
    "df.info()"
   ]
  },
  {
   "cell_type": "code",
   "execution_count": 20,
   "metadata": {},
   "outputs": [
    {
     "data": {
      "text/plain": [
       "1156.61"
      ]
     },
     "execution_count": 20,
     "metadata": {},
     "output_type": "execute_result"
    }
   ],
   "source": [
    "df.price.max()"
   ]
  },
  {
   "cell_type": "code",
   "execution_count": null,
   "metadata": {},
   "outputs": [],
   "source": []
  },
  {
   "cell_type": "markdown",
   "metadata": {},
   "source": [
    "### Et un peu de la visualisation"
   ]
  },
  {
   "cell_type": "code",
   "execution_count": 21,
   "metadata": {},
   "outputs": [],
   "source": [
    "import seaborn as sns"
   ]
  },
  {
   "cell_type": "code",
   "execution_count": 22,
   "metadata": {},
   "outputs": [
    {
     "data": {
      "text/html": [
       "<div>\n",
       "<style scoped>\n",
       "    .dataframe tbody tr th:only-of-type {\n",
       "        vertical-align: middle;\n",
       "    }\n",
       "\n",
       "    .dataframe tbody tr th {\n",
       "        vertical-align: top;\n",
       "    }\n",
       "\n",
       "    .dataframe thead th {\n",
       "        text-align: right;\n",
       "    }\n",
       "</style>\n",
       "<table border=\"1\" class=\"dataframe\">\n",
       "  <thead>\n",
       "    <tr style=\"text-align: right;\">\n",
       "      <th></th>\n",
       "      <th>flag</th>\n",
       "      <th>cur_name1</th>\n",
       "      <th>cur_name2</th>\n",
       "      <th>price</th>\n",
       "      <th>chg_absolute</th>\n",
       "      <th>chg_perc</th>\n",
       "    </tr>\n",
       "  </thead>\n",
       "  <tbody>\n",
       "    <tr>\n",
       "      <td>0</td>\n",
       "      <td>EUR</td>\n",
       "      <td>Euro</td>\n",
       "      <td>USD/EUR</td>\n",
       "      <td>0.8979</td>\n",
       "      <td>-0.0015</td>\n",
       "      <td>-0.1668%</td>\n",
       "    </tr>\n",
       "    <tr>\n",
       "      <td>1</td>\n",
       "      <td>JPN</td>\n",
       "      <td>Japanese Yen</td>\n",
       "      <td>USD/JPY</td>\n",
       "      <td>109.8900</td>\n",
       "      <td>+0.4300</td>\n",
       "      <td>+0.3928%</td>\n",
       "    </tr>\n",
       "    <tr>\n",
       "      <td>2</td>\n",
       "      <td>GBR</td>\n",
       "      <td>British Pound</td>\n",
       "      <td>GBP/USD</td>\n",
       "      <td>1.2979</td>\n",
       "      <td>-0.0080</td>\n",
       "      <td>-0.6126%</td>\n",
       "    </tr>\n",
       "    <tr>\n",
       "      <td>3</td>\n",
       "      <td>CAN</td>\n",
       "      <td>Canadian Dollar</td>\n",
       "      <td>USD/CAD</td>\n",
       "      <td>1.3050</td>\n",
       "      <td>0.0000</td>\n",
       "      <td>0.0000%</td>\n",
       "    </tr>\n",
       "    <tr>\n",
       "      <td>4</td>\n",
       "      <td>AUS</td>\n",
       "      <td>Australian Dollar</td>\n",
       "      <td>USD/AUD</td>\n",
       "      <td>1.4474</td>\n",
       "      <td>-0.0012</td>\n",
       "      <td>-0.0828%</td>\n",
       "    </tr>\n",
       "  </tbody>\n",
       "</table>\n",
       "</div>"
      ],
      "text/plain": [
       "  flag          cur_name1 cur_name2     price chg_absolute  chg_perc\n",
       "0  EUR               Euro   USD/EUR    0.8979      -0.0015  -0.1668%\n",
       "1  JPN       Japanese Yen   USD/JPY  109.8900      +0.4300  +0.3928%\n",
       "2  GBR      British Pound   GBP/USD    1.2979      -0.0080  -0.6126%\n",
       "3  CAN    Canadian Dollar   USD/CAD    1.3050       0.0000   0.0000%\n",
       "4  AUS  Australian Dollar   USD/AUD    1.4474      -0.0012  -0.0828%"
      ]
     },
     "execution_count": 22,
     "metadata": {},
     "output_type": "execute_result"
    }
   ],
   "source": [
    "df.head()"
   ]
  },
  {
   "cell_type": "code",
   "execution_count": 23,
   "metadata": {},
   "outputs": [],
   "source": [
    "df2 = df.sort_values(\"price\")"
   ]
  },
  {
   "cell_type": "code",
   "execution_count": 24,
   "metadata": {},
   "outputs": [
    {
     "data": {
      "text/plain": [
       "<matplotlib.axes._subplots.AxesSubplot at 0x1c8435a41c8>"
      ]
     },
     "execution_count": 24,
     "metadata": {},
     "output_type": "execute_result"
    },
    {
     "data": {
      "image/png": "[encoded data removed]",
      "text/plain": [
       "<Figure size 432x288 with 1 Axes>"
      ]
     },
     "metadata": {
      "needs_background": "light"
     },
     "output_type": "display_data"
    }
   ],
   "source": [
    "sns.barplot(df2.flag, df2.price, orient = \"v\")"
   ]
  },
  {
   "cell_type": "code",
   "execution_count": null,
   "metadata": {},
   "outputs": [],
   "source": []
  },
  {
   "cell_type": "code",
   "execution_count": null,
   "metadata": {},
   "outputs": [],
   "source": []
  },
  {
   "cell_type": "markdown",
   "metadata": {},
   "source": [
    "# Partie sélecteurs CSS"
   ]
  },
  {
   "cell_type": "code",
   "execution_count": null,
   "metadata": {},
   "outputs": [],
   "source": []
  }
 ],
 "metadata": {
  "kernelspec": {
   "display_name": "Python 3",
   "language": "python",
   "name": "python3"
  },
  "language_info": {
   "codemirror_mode": {
    "name": "ipython",
    "version": 3
   },
   "file_extension": ".py",
   "mimetype": "text/x-python",
   "name": "python",
   "nbconvert_exporter": "python",
   "pygments_lexer": "ipython3",
   "version": "3.7.4"
  }
 },
 "nbformat": 4,
 "nbformat_minor": 2
}
