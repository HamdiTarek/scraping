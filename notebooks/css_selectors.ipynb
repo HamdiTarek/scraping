{
 "cells": [
  {
   "cell_type": "code",
   "execution_count": 1,
   "metadata": {},
   "outputs": [],
   "source": [
    "import requests # Envoyer des requêtes, Ouvrir un apge Web\n",
    "from bs4 import BeautifulSoup # Parser du HTML"
   ]
  },
  {
   "cell_type": "code",
   "execution_count": 2,
   "metadata": {},
   "outputs": [
    {
     "name": "stdout",
     "output_type": "stream",
     "text": [
      "code d'état : 200\n"
     ]
    }
   ],
   "source": [
    "msn = requests.get(\"https://www.msn.com/en-us/money/markets/currencies\")\n",
    "print( \"code d'état :\", msn.status_code)"
   ]
  },
  {
   "cell_type": "code",
   "execution_count": 3,
   "metadata": {},
   "outputs": [],
   "source": [
    "soup = BeautifulSoup(msn.text)"
   ]
  },
  {
   "cell_type": "code",
   "execution_count": 4,
   "metadata": {},
   "outputs": [],
   "source": [
    "currency_class = \".mjrcurrncsitem\""
   ]
  },
  {
   "cell_type": "code",
   "execution_count": 5,
   "metadata": {},
   "outputs": [
    {
     "name": "stdout",
     "output_type": "stream",
     "text": [
      "Bravo: il semblerait que j'ai trouvé la classe!\n"
     ]
    }
   ],
   "source": [
    "# cur = soup.find( class_ =  currency_class) \n",
    "cur = soup.select_one( currency_class) \n",
    "# Retenez cette syntaxe, elle permet d'extraire une classe quelconque\n",
    "if cur and len(cur) :\n",
    "  print(\"Bravo: il semblerait que j'ai trouvé la classe!\")\n",
    "else:\n",
    "  print(\"Je n'ai toujours pas trouvé la classe mère\")"
   ]
  },
  {
   "cell_type": "code",
   "execution_count": 6,
   "metadata": {},
   "outputs": [],
   "source": [
    "thead_class = '.mjrcurrncsrow.tblheaderrow'"
   ]
  },
  {
   "cell_type": "code",
   "execution_count": 15,
   "metadata": {},
   "outputs": [
    {
     "name": "stdout",
     "output_type": "stream",
     "text": [
      "['Major Currencies', 'Price', 'Change', 'Change%', '52 Week High', '52 Week Low']\n"
     ]
    }
   ],
   "source": [
    "header = cur.select_one(thead_class)\n",
    "headers = header.select(\".mctblheading\") # Avez-vous pu retrouver la classe `mctblheading`  de vous mêmes ?\n",
    "header_values = []\n",
    "for header_element in headers :\n",
    "#     header_values.append(header_element.select_one(\"p\").attrs[\"title\"])\n",
    "    header_values.append(header_element.select_one(\"p[title]\").attrs[\"title\"])\n",
    "print(header_values)"
   ]
  },
  {
   "cell_type": "code",
   "execution_count": null,
   "metadata": {},
   "outputs": [],
   "source": []
  },
  {
   "cell_type": "markdown",
   "metadata": {},
   "source": [
    "# Corps de la table"
   ]
  },
  {
   "cell_type": "code",
   "execution_count": 17,
   "metadata": {},
   "outputs": [],
   "source": [
    "trows_class = \".mjcurrncs-data\""
   ]
  },
  {
   "cell_type": "code",
   "execution_count": 18,
   "metadata": {},
   "outputs": [
    {
     "name": "stdout",
     "output_type": "stream",
     "text": [
      "<div class=\"mcrow\">\n",
      "<span aria-hidden=\"True\" class=\"flagcol\"><span class=\"cntryflag\" id=\"JPN\"> </span></span>\n",
      "<div class=\"cntrycnvrsn\">\n",
      "<span class=\"cntrycol\"><p class=\"truncated-string\" title=\"Japanese Yen\">Japanese Yen</p></span>\n",
      "<span class=\"cnvrsncol\"><p class=\"truncated-string\" title=\"USD/JPY\">USD/JPY</p></span>\n",
      "</div>\n",
      "<span class=\"pricecol\"><p aria-label=\"Price 110.0100\" class=\"truncated-string\" title=\"110.0100\">110.0100</p></span>\n",
      "<div class=\"chcpclub\">\n",
      "<span class=\"chngcol chng-value increase\"><p aria-label=\"Change +0.0800\" class=\"truncated-string\" title=\"+0.0800\">+0.0800</p></span>\n",
      "<span class=\"chpcol chp-value increase\"><p aria-label=\"Change% +0.0728%\" class=\"truncated-string\" title=\"+0.0728%\">+0.0728%</p></span>\n",
      "</div>\n",
      "<span class=\"rng52wkcol\"><p aria-label=\"52 Week High 112.3900\" class=\"truncated-string\" title=\"112.3900\">112.3900</p></span>\n",
      "<span class=\"rng52wkcol\"><p aria-label=\"52 Week Low 104.4400\" class=\"truncated-string\" title=\"104.4400\">104.4400</p></span>\n",
      "</div>\n"
     ]
    }
   ],
   "source": [
    "rows_container = cur.select_one(trows_class)\n",
    "rows = rows_container.select( \".mcrow\")\n",
    "row = rows[1]\n",
    "print(row)"
   ]
  },
  {
   "cell_type": "code",
   "execution_count": 19,
   "metadata": {},
   "outputs": [],
   "source": [
    "# Cette fonction extraie les différentes colonnes d'une ligen quelconque\n",
    "\n",
    "def get_row(row):\n",
    "    flag = row.select_one( \".cntryflag\").attrs[\"id\"]\n",
    "    \n",
    "    cur_names = row.select_one( \".cntrycnvrsn\")\n",
    "#     cur_name1 =  cur_names.select_one(  \".cntrycol\").p.attrs[\"title\"]\n",
    "    cur_name1 =  cur_names.select_one(  \".cntrycol p\").attrs[\"title\"]\n",
    "#     cur_name2 =  cur_names.find( class_ = \"cnvrsncol\").find(\"p\").attrs[\"title\"]\n",
    "    cur_name2 =  cur_names.select_one(  \".cnvrsncol p\").attrs[\"title\"]\n",
    "    \n",
    "    price = row.select_one(\".pricecol\").select_one(\"p\").attrs[\"title\"]\n",
    "    \n",
    "    changes = row.select_one(\".chcpclub\")\n",
    "    chg_absolute = changes.select_one( \".chngcol p\").attrs[\"title\"]\n",
    "    chg_perc  = changes.select_one(  \".chpcol p\").attrs[\"title\"]\n",
    "    \n",
    "    return {\"flag\": flag, \"cur_name1\": cur_name1, \"cur_name2\":cur_name2,  \"price\": price, \n",
    "            \"chg_absolute\": chg_absolute,  \"chg_perc\": chg_perc}"
   ]
  },
  {
   "cell_type": "code",
   "execution_count": 20,
   "metadata": {},
   "outputs": [
    {
     "data": {
      "text/plain": [
       "{'flag': 'JPN',\n",
       " 'cur_name1': 'Japanese Yen',\n",
       " 'cur_name2': 'USD/JPY',\n",
       " 'price': '110.0100',\n",
       " 'chg_absolute': '+0.0800',\n",
       " 'chg_perc': '+0.0728%'}"
      ]
     },
     "execution_count": 20,
     "metadata": {},
     "output_type": "execute_result"
    }
   ],
   "source": [
    "get_row(row)"
   ]
  },
  {
   "cell_type": "code",
   "execution_count": 21,
   "metadata": {},
   "outputs": [
    {
     "data": {
      "text/plain": [
       "[{'flag': 'EUR',\n",
       "  'cur_name1': 'Euro',\n",
       "  'cur_name2': 'USD/EUR',\n",
       "  'price': '0.8982',\n",
       "  'chg_absolute': '+0.0003',\n",
       "  'chg_perc': '+0.0334%'},\n",
       " {'flag': 'JPN',\n",
       "  'cur_name1': 'Japanese Yen',\n",
       "  'cur_name2': 'USD/JPY',\n",
       "  'price': '110.0100',\n",
       "  'chg_absolute': '+0.0800',\n",
       "  'chg_perc': '+0.0728%'}]"
      ]
     },
     "execution_count": 21,
     "metadata": {},
     "output_type": "execute_result"
    }
   ],
   "source": [
    "data = [get_row(row) for row in rows]\n",
    "data[:2]"
   ]
  },
  {
   "cell_type": "code",
   "execution_count": 22,
   "metadata": {},
   "outputs": [],
   "source": [
    "import pandas as pd"
   ]
  },
  {
   "cell_type": "code",
   "execution_count": 23,
   "metadata": {},
   "outputs": [
    {
     "data": {
      "text/html": [
       "<div>\n",
       "<style scoped>\n",
       "    .dataframe tbody tr th:only-of-type {\n",
       "        vertical-align: middle;\n",
       "    }\n",
       "\n",
       "    .dataframe tbody tr th {\n",
       "        vertical-align: top;\n",
       "    }\n",
       "\n",
       "    .dataframe thead th {\n",
       "        text-align: right;\n",
       "    }\n",
       "</style>\n",
       "<table border=\"1\" class=\"dataframe\">\n",
       "  <thead>\n",
       "    <tr style=\"text-align: right;\">\n",
       "      <th></th>\n",
       "      <th>flag</th>\n",
       "      <th>cur_name1</th>\n",
       "      <th>cur_name2</th>\n",
       "      <th>price</th>\n",
       "      <th>chg_absolute</th>\n",
       "      <th>chg_perc</th>\n",
       "    </tr>\n",
       "  </thead>\n",
       "  <tbody>\n",
       "    <tr>\n",
       "      <td>0</td>\n",
       "      <td>EUR</td>\n",
       "      <td>Euro</td>\n",
       "      <td>USD/EUR</td>\n",
       "      <td>0.8982</td>\n",
       "      <td>+0.0003</td>\n",
       "      <td>+0.0334%</td>\n",
       "    </tr>\n",
       "    <tr>\n",
       "      <td>1</td>\n",
       "      <td>JPN</td>\n",
       "      <td>Japanese Yen</td>\n",
       "      <td>USD/JPY</td>\n",
       "      <td>110.0100</td>\n",
       "      <td>+0.0800</td>\n",
       "      <td>+0.0728%</td>\n",
       "    </tr>\n",
       "    <tr>\n",
       "      <td>2</td>\n",
       "      <td>GBR</td>\n",
       "      <td>British Pound</td>\n",
       "      <td>GBP/USD</td>\n",
       "      <td>1.2968</td>\n",
       "      <td>-0.0020</td>\n",
       "      <td>-0.1540%</td>\n",
       "    </tr>\n",
       "    <tr>\n",
       "      <td>3</td>\n",
       "      <td>CAN</td>\n",
       "      <td>Canadian Dollar</td>\n",
       "      <td>USD/CAD</td>\n",
       "      <td>1.3074</td>\n",
       "      <td>+0.0018</td>\n",
       "      <td>+0.1379%</td>\n",
       "    </tr>\n",
       "    <tr>\n",
       "      <td>4</td>\n",
       "      <td>AUS</td>\n",
       "      <td>Australian Dollar</td>\n",
       "      <td>USD/AUD</td>\n",
       "      <td>1.4497</td>\n",
       "      <td>+0.0013</td>\n",
       "      <td>+0.0898%</td>\n",
       "    </tr>\n",
       "  </tbody>\n",
       "</table>\n",
       "</div>"
      ],
      "text/plain": [
       "  flag          cur_name1 cur_name2     price chg_absolute  chg_perc\n",
       "0  EUR               Euro   USD/EUR    0.8982      +0.0003  +0.0334%\n",
       "1  JPN       Japanese Yen   USD/JPY  110.0100      +0.0800  +0.0728%\n",
       "2  GBR      British Pound   GBP/USD    1.2968      -0.0020  -0.1540%\n",
       "3  CAN    Canadian Dollar   USD/CAD    1.3074      +0.0018  +0.1379%\n",
       "4  AUS  Australian Dollar   USD/AUD    1.4497      +0.0013  +0.0898%"
      ]
     },
     "execution_count": 23,
     "metadata": {},
     "output_type": "execute_result"
    }
   ],
   "source": [
    "df = pd.DataFrame(data)\n",
    "df.head()"
   ]
  },
  {
   "cell_type": "code",
   "execution_count": null,
   "metadata": {},
   "outputs": [],
   "source": []
  }
 ],
 "metadata": {
  "kernelspec": {
   "display_name": "Python 3",
   "language": "python",
   "name": "python3"
  },
  "language_info": {
   "codemirror_mode": {
    "name": "ipython",
    "version": 3
   },
   "file_extension": ".py",
   "mimetype": "text/x-python",
   "name": "python",
   "nbconvert_exporter": "python",
   "pygments_lexer": "ipython3",
   "version": "3.7.4"
  }
 },
 "nbformat": 4,
 "nbformat_minor": 2
}
