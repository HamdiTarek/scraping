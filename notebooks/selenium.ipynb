{
 "cells": [
  {
   "cell_type": "markdown",
   "metadata": {},
   "source": [
    "# Extraction des données de vols sur [Google Flight ](https://www.google.com/flights?hl=fr&gl=fr)  grâce à  Selenium\n",
    "\n",
    "> Dans ce projet, nous allons utiliser l'outil de navigation automatique **Selenium** pour interagir avec le navigateur chrome afin d'obliger le serveur à nous fournir les informations d'intérêt sur les vols d'avion : prix, escales, compagnies ... Une fois ces informations affichées, nous allons passer à **BeautifulSoup** qui est une librairie assez efficiente pour analyser et récupérer les données des pages HTML/XML ."
   ]
  },
  {
   "cell_type": "markdown",
   "metadata": {},
   "source": [
    "Dans ce tutoriel vous allez apprendre :\n",
    "* A lancer un navigateur automatisé\n",
    "* A naviguer sur le Web de façon automatisée\n",
    "* A cliquer & remplir les formulaires de façon automatisée\n",
    "* A extraire les données d'une page Web"
   ]
  },
  {
   "cell_type": "code",
   "execution_count": null,
   "metadata": {},
   "outputs": [],
   "source": []
  },
  {
   "cell_type": "markdown",
   "metadata": {},
   "source": [
    "# 1. Installation de selenium"
   ]
  },
  {
   "cell_type": "markdown",
   "metadata": {},
   "source": [
    "Pour pouvoir utiliser l'outil de navigation automatique **selenium**, vous devez l'installer. Cela peut se faire soit avec les gestionnaires de paquets **pip** ou  **conda**."
   ]
  },
  {
   "cell_type": "code",
   "execution_count": 1,
   "metadata": {},
   "outputs": [],
   "source": [
    "# Décommetez et exécutez le code ci-dessous si selenium n'est pa encore installé\n",
    "#! pip install selenium\n",
    "#! conda install selenium"
   ]
  },
  {
   "cell_type": "markdown",
   "metadata": {},
   "source": [
    "Si votre installation de Selenium  réussi, ils vous manque plus qu'un seul composant essentiel pour pouvoir passer à la navigation automatique : le **driver** . Le **driver** est le **pilote** qui peremt à Selenium de lancer et manipuler le navigateur. Si vous êtes sur Chrome, vous [pouvez télécharger le pilote chromium à cette adresse](https://chromedriver.chromium.org/downloads), pour Firefox, [allez plutôt à cette adresse](https://github.com/mozilla/geckodriver/releases). <font color=\"red\">Veuillez à choisir une version de pilote qui correspond à la version de votre navigateur. Autrement Selenium ne marchera pas !</font>"
   ]
  },
  {
   "cell_type": "code",
   "execution_count": null,
   "metadata": {},
   "outputs": [],
   "source": []
  },
  {
   "cell_type": "markdown",
   "metadata": {},
   "source": [
    "# 2. Importation des librairies"
   ]
  },
  {
   "cell_type": "markdown",
   "metadata": {},
   "source": [
    "Nous importons ici, les quelques librairies que nous allons utiliser dans ce tutoriel."
   ]
  },
  {
   "cell_type": "code",
   "execution_count": 2,
   "metadata": {},
   "outputs": [],
   "source": [
    "from selenium import  webdriver\n",
    "import time # Pour pouvoir utiliser la fonction sleep\n",
    "import re # Expression regulière\n",
    "from bs4 import BeautifulSoup # Pour parser du code HTML"
   ]
  },
  {
   "cell_type": "code",
   "execution_count": null,
   "metadata": {},
   "outputs": [],
   "source": []
  },
  {
   "cell_type": "markdown",
   "metadata": {},
   "source": [
    "# 3. Lancer le navigateur automatique"
   ]
  },
  {
   "cell_type": "markdown",
   "metadata": {},
   "source": [
    "Pour lancer le navigateur automatique, il vous faut connaître le chemin qui pointe vers le driver précédemment téléchargé. Pour moi le driver se trouvait à l'adresse \"**C:/Users/NKA/Downloads/chromedriver.exe**\". Ca peut être différent pour vous, chercher le bon chemin ! Et surtout, si le fichier téléchargé est au format **.zip**, n'oubliez pas de le \"dézipper\" ! "
   ]
  },
  {
   "cell_type": "code",
   "execution_count": 3,
   "metadata": {},
   "outputs": [],
   "source": [
    "driver_path = \"C:/Users/NKA/Downloads/chromedriver.exe\" # Mettez le bon chemin sur votre PC ici"
   ]
  },
  {
   "cell_type": "markdown",
   "metadata": {},
   "source": [
    "Pour lancer le navigateur **Chrome**, on passe à la fonction <font color=\"blue\">webdriver.Chrome</font> le chemin vers le driver de Chrome. De même, pour lancer le navigateur **Firefox**, on passe à la fonction <font color=\"blue\">webdriver.Firefox</font> le chemin vers le driver de Firefox."
   ]
  },
  {
   "cell_type": "code",
   "execution_count": 4,
   "metadata": {},
   "outputs": [],
   "source": [
    "# Créer un navigateur\n",
    "driver = webdriver.Chrome(executable_path = driver_path)\n",
    "# driver = webdriver.Firefox(executable_path= driver_path) # Décommentez cette ligne si vous êtes sur Firefox"
   ]
  },
  {
   "cell_type": "code",
   "execution_count": null,
   "metadata": {},
   "outputs": [],
   "source": []
  },
  {
   "cell_type": "markdown",
   "metadata": {},
   "source": [
    "# 4. Naviguer vers un site Web"
   ]
  },
  {
   "cell_type": "markdown",
   "metadata": {},
   "source": [
    "Si vous avez bien observé, le navigateur précédemment lancé n'est allé sur aucune page web, c'est pour cela que vous ne voyez qu'une page blanche. Pour visiter une quelconque, on appelle la fonction <font color=\"blue\">driver.get</font> en lui passant l'**URL** de la page."
   ]
  },
  {
   "cell_type": "code",
   "execution_count": 5,
   "metadata": {},
   "outputs": [],
   "source": [
    "driver.get(\"https://www.google.com/flights?hl=fr&gl=fr\") # Visiter le site google flight"
   ]
  },
  {
   "cell_type": "markdown",
   "metadata": {},
   "source": [
    "Après avoir exécuté la page ci-dessus, regardez à nouveau votre navigateur automatique. Vous verrez qu'il est allé sur la page [google flight](https://www.google.com/flights?hl=fr&gl=fr). On est bon ! C'est comme cela que nous pouvons visiter n'importe quelle page !"
   ]
  },
  {
   "cell_type": "code",
   "execution_count": null,
   "metadata": {},
   "outputs": [],
   "source": []
  },
  {
   "cell_type": "markdown",
   "metadata": {},
   "source": [
    "# 5. Remplir le point de départ"
   ]
  },
  {
   "cell_type": "markdown",
   "metadata": {},
   "source": [
    "Avez-vous été sur le site google flight ? On a aucun vol pour le moement. Ce qui est normal puisque nous n'avons saisi aucun départ ni destination . Pour peremettre à google de nous afficher les prix, nous allons devoir saisir les points de départ et d'arrivée, comme ferait un vrai humain. Comment peut-on faire ça ? Suivez-moi !"
   ]
  },
  {
   "cell_type": "markdown",
   "metadata": {},
   "source": [
    "## 5.1. Sélectionner la zone de saisie"
   ]
  },
  {
   "cell_type": "markdown",
   "metadata": {},
   "source": [
    "Pour remplier le point de départ, on commence par chercher le **sélecteur css** du point de départ. Si vous aviez suivi [mon cours sur les sélecteurs css](https://neroksi.github.io/scraping/chap3.html), ces derniers ne devraient plus avoir de secrets pour vous. Si vous n'avez pas suivi ce cours, je vous conseille d'aller jeter un coup d'oeil et de regarder aussi [cette page qui résume bien les sélecteurs css](https://www.w3schools.com/cssref/css_selectors.asp). Ci-dessous, le sélecteur que moi j'ai trouvé :"
   ]
  },
  {
   "cell_type": "code",
   "execution_count": 6,
   "metadata": {},
   "outputs": [],
   "source": [
    "origin_airport_css = \"div[data-flt-ve='origin_airport'][class*='flt-input']\""
   ]
  },
  {
   "cell_type": "code",
   "execution_count": null,
   "metadata": {},
   "outputs": [],
   "source": []
  },
  {
   "cell_type": "markdown",
   "metadata": {},
   "source": [
    "Vous pouvez copier ce sélecteur et aller sur le site [google flight](https://www.google.com/flights?hl=fr&gl=fr). Faites maintenant \"**CTRL + SHIFT + I**\", faites encore **CTRL + F** et collez (**CTRL + C**) votre sélecteur. Vous verrez la zone de saisie de point de départ est bien coloriée en bleu, c'est que votre sélecteur est bon."
   ]
  },
  {
   "cell_type": "markdown",
   "metadata": {},
   "source": [
    "Une fois votre sélecteur en main, il suffit d'appeler la fonction <font color=\"blue\">driver.find_element_by_css_selector</font> pour sélectionner l'**élément HTML** qui caractérise la zone de saisie du point de départ. "
   ]
  },
  {
   "cell_type": "code",
   "execution_count": 7,
   "metadata": {},
   "outputs": [
    {
     "name": "stdout",
     "output_type": "stream",
     "text": [
      "<selenium.webdriver.remote.webelement.WebElement (session=\"3860e8541bbff47a7eb8074468be3a96\", element=\"7f68b075-bb10-41ea-ad06-9f3caf97eb0a\")>\n"
     ]
    }
   ],
   "source": [
    "origin_airport = driver.find_element_by_css_selector(css_selector= origin_airport_css)\n",
    "print(origin_airport)"
   ]
  },
  {
   "cell_type": "markdown",
   "metadata": {},
   "source": [
    "Vous avez vu, quand on \"print\" un **élément  Web**, Selenium n'affiche rien d'intéressant à part de longues chaînes de caractères bizarroïdes qui constituent en fait la modélisation interne de l'élément dans Selenium. On va devoir trouver un autre moyen de regarder à l'intérieur d'un élément HTML."
   ]
  },
  {
   "cell_type": "code",
   "execution_count": null,
   "metadata": {},
   "outputs": [],
   "source": []
  },
  {
   "cell_type": "code",
   "execution_count": 8,
   "metadata": {},
   "outputs": [
    {
     "data": {
      "text/plain": [
       "'<div data-flt-ve=\"origin_airport\" jsaction=\"jsl._;f_f:jsl._;ica_bc:jsl._;keydown:jsl._\" jsl=\"$x 1;$t t-ch-jmKqQoDY;$x 0;\" jssc=\"t-ch-jmKqQoDY:n2-\" class=\"flt-input gws-flights-form__input-container gws-flights__flex-box gws-flights-form__airport-input gws-flights-form__swapper-right\" role=\"presentation\" jsan=\"0.data-flt-ve,22.jsaction,t-ch-jmKqQoDY,21.jssc,7.flt-input,7.gws-flights-form__input-container,7.gws-flights__flex-box,7.gws-flights-form__airport-input,7.gws-flights-form__swapper-right,0.role\"><div jsl=\"$x 1;$t t-bpjJ2taF8BA;$x 0;\" jssc=\"t-bpjJ2taF8BA:F0m\" jscontroller=\"pSNSIe\" class=\"gws-flights-widgets-inputcapturearea__capture-area-wrapper\" jsaction=\"rcuQ6b:npT2md\"><span jsname=\"bOjMyf\" style=\"display:none\" aria-live=\"polite\" jsl=\"$x 1;$t t-uU8ghUBFeaU;$x 0;\" jsvs=\"\\'bOjMyf\\';\" jsan=\"0.jsname,5.display,0.aria-live,t-uU8ghUBFeaU\" id=\"flt-ica-1\"> <span jsl=\"$x 1;$t t-qoTycjZOEvo;$x 0;\" jssc=\"t-qoTycjZOEvo:DRl\" jsan=\"t-qoTycjZOEvo,21.jssc\">D\\'où partez-vous&nbsp;?</span> <jsl jsl=\"$x 2;\"><span><span>Paris</span></span></jsl> </span><textarea jsname=\"LlUqIb\" class=\"gws-flights-widgets-inputcapturearea__capture-area\" role=\"textbox\" tabindex=\"0\" jsaction=\"keyup:dbqUTd;focus:h06R8;blur:zjh6rb\" jsl=\"$x 2;\" jsvs=\"\\'LlUqIb\\';\\'keyup:dbqUTd;focus:h06R8;blur:zjh6rb\\';\" jsan=\"0.jsname,7.gws-flights-widgets-inputcapturearea__capture-area,0.role,0.tabindex,22.jsaction\" aria-labelledby=\"flt-ica-1\"></textarea></div><span jsl=\"$x 2;\" class=\"gws-flights-form__location-icon gws-flights-form__origin-icon\" jsan=\"7.gws-flights-form__location-icon,7.gws-flights-form__origin-icon\"><span style=\"height:16px;line-height:16px;width:16px\" class=\"z1asCe y6ox5\"><svg focusable=\"false\" xmlns=\"http://www.w3.org/2000/svg\" viewBox=\"0 0 24 24\"><path d=\"M2 12C2 6.48 6.48 2 12 2s10 4.48 10 10-4.48 10-10 10S2 17.52 2 12zm10 6c3.31 0 6-2.69 6-6s-2.69-6-6-6-6 2.69-6 6 2.69 6 6 6z\"></path></svg></span></span><div class=\"gws-flights-form__location-text gws-flights__flex-filler gws-flights__ellipsize gws-flights-form__input-target\" aria-hidden=\"true\" jsl=\"$x 3;$t t-F18OH-9izcM;$x 0;\" jssc=\"t-F18OH-9izcM:oEp\" jsan=\"7.gws-flights-form__location-text,7.gws-flights__flex-filler,7.gws-flights__ellipsize,7.gws-flights-form__input-target,0.aria-hidden,t-F18OH-9izcM,21.jssc\"><span jsl=\"$x 1;\" style=\"display:none\" jsan=\"5.display\"></span><span class=\"gws-flights-form__location-list\" jsl=\"$x 2;\"><span><span>Paris</span></span></span><input jsl=\"$x 3;\" style=\"display:none\" jsan=\"5.display\"></div><div class=\"gws-flights-form__swapper-half-circle\" jsl=\"$x 5;\" jsan=\"7.gws-flights-form__swapper-half-circle\"></div></div>'"
      ]
     },
     "execution_count": 8,
     "metadata": {},
     "output_type": "execute_result"
    }
   ],
   "source": [
    "origin_airport.get_attribute(\"outerHTML\") # Pour vérifier visuellement"
   ]
  },
  {
   "cell_type": "code",
   "execution_count": null,
   "metadata": {},
   "outputs": [],
   "source": []
  },
  {
   "cell_type": "markdown",
   "metadata": {},
   "source": [
    "Vous conviendrez avec moi que l'affichage ci-dessus est nettement plus parlant ! En effet, c'est le code HTML de l'élément. Ce code est exactement le même que vous verrez si vous faites **Clic droit + Inspecter**  sur l'élément. Ainsi, on peut vérifier visuellement si l'élément sélectionné est bien celui recherché."
   ]
  },
  {
   "cell_type": "code",
   "execution_count": null,
   "metadata": {},
   "outputs": [],
   "source": []
  },
  {
   "cell_type": "markdown",
   "metadata": {},
   "source": [
    "# 5.2. Cliquer sur la zone de saisie"
   ]
  },
  {
   "cell_type": "markdown",
   "metadata": {},
   "source": [
    "Jusqu'ici, nos avons sélectionné la zone de saisie mais google ne nous a pas encore donné la main pour saisir notre point de départ. Pour le faire, il va falloir cliquer sur la zone de saisie afin de faire apparaître le curseur **clignotant**. C'est d'ailleurs ce que ferait un vrai humain !"
   ]
  },
  {
   "cell_type": "code",
   "execution_count": null,
   "metadata": {},
   "outputs": [],
   "source": []
  },
  {
   "cell_type": "code",
   "execution_count": 9,
   "metadata": {},
   "outputs": [],
   "source": [
    "origin_airport.click() # Pour cliquer et faire apparaître le formulaire "
   ]
  },
  {
   "cell_type": "code",
   "execution_count": null,
   "metadata": {},
   "outputs": [],
   "source": []
  },
  {
   "cell_type": "markdown",
   "metadata": {},
   "source": [
    "# 5.3. Saisir le point de départ"
   ]
  },
  {
   "cell_type": "markdown",
   "metadata": {},
   "source": [
    "Maintenant que Google nous a donné la main pour saisir le point de départ (si vous regardez vous verrez un curseur clignotant), il nous faut trouver à  nouveau le sélecteur qui caractérise la nouvelle zone de saisie à curseur. Moi j'ai trouvé ce *sélecteur css* ci-dessous :"
   ]
  },
  {
   "cell_type": "code",
   "execution_count": 10,
   "metadata": {},
   "outputs": [],
   "source": [
    "# origin_airport.send_keys(\"abidjan\")"
   ]
  },
  {
   "cell_type": "code",
   "execution_count": 11,
   "metadata": {},
   "outputs": [],
   "source": [
    "zone_clignotant_css = \"input[placeholder*='partez-vous']\" # Veuillez voir le chapitre 3 pour comprendre ce CSS"
   ]
  },
  {
   "cell_type": "code",
   "execution_count": 12,
   "metadata": {},
   "outputs": [],
   "source": [
    "origin_airport2 = driver.find_element_by_css_selector(zone_clignotant_css)"
   ]
  },
  {
   "cell_type": "code",
   "execution_count": null,
   "metadata": {},
   "outputs": [],
   "source": []
  },
  {
   "cell_type": "markdown",
   "metadata": {},
   "source": [
    "une fois la zone clignotant sélectionnée, on peut saisir le point de départ en appelant la fonction<font color=\"blue\">send_keys</font> . Mais bien avant, on s'assure que la zone de saisie soit bien vide en la nettoyant  avec la fonction <font color=\"blue\">clear</font>. "
   ]
  },
  {
   "cell_type": "code",
   "execution_count": 13,
   "metadata": {},
   "outputs": [],
   "source": [
    "origin_airport2.clear() # vider la zone de saisie\n",
    "origin_airport2.send_keys(\"Paris\") # Remplir la zone de saisie\n",
    "time.sleep(3)"
   ]
  },
  {
   "cell_type": "code",
   "execution_count": null,
   "metadata": {},
   "outputs": [],
   "source": []
  },
  {
   "cell_type": "markdown",
   "metadata": {},
   "source": [
    "# 5.4. Validation du premier aéroport de la liste de proposition"
   ]
  },
  {
   "cell_type": "markdown",
   "metadata": {},
   "source": [
    "Si vous regardez le navigateur automatique à  nouveau, la zone de saisie a bien reçu la chaîne de caractère \"**Paris**\" qui est notre point de départ. Ensuite, Google nous propose la liste des aéroports qui correspondent plus ou moins à ce que nous avons saisi. Nous allons nous contenter de sélectionner le premier aéroport de cette liste. C'est souvent le plus pertinent d'ailleurs."
   ]
  },
  {
   "cell_type": "code",
   "execution_count": null,
   "metadata": {},
   "outputs": [],
   "source": []
  },
  {
   "cell_type": "code",
   "execution_count": 14,
   "metadata": {},
   "outputs": [],
   "source": [
    "first_origin_airport = driver.find_element_by_css_selector(\n",
    "                                        \".fsapp-option-content .fsapp-option-city-name\")\n",
    "first_origin_airport.click() # On clique pour valider le 1er aéroport de la liste"
   ]
  },
  {
   "cell_type": "code",
   "execution_count": null,
   "metadata": {},
   "outputs": [],
   "source": []
  },
  {
   "cell_type": "markdown",
   "metadata": {},
   "source": [
    "# 6. Remplir le point d'arrivée"
   ]
  },
  {
   "cell_type": "markdown",
   "metadata": {},
   "source": [
    "Cette partie ressemble beaucoup à ce qui a été fait dans la partie précédente. Nous serons alors assez bref."
   ]
  },
  {
   "cell_type": "markdown",
   "metadata": {},
   "source": [
    " "
   ]
  },
  {
   "cell_type": "markdown",
   "metadata": {},
   "source": [
    "## 6.1. Sélectionner la zone de saisie"
   ]
  },
  {
   "cell_type": "code",
   "execution_count": 15,
   "metadata": {},
   "outputs": [],
   "source": [
    "destination_airport = driver.find_element_by_css_selector(\n",
    "    \"div[data-flt-ve='destination_airport'][class*='flt-input']\")"
   ]
  },
  {
   "cell_type": "markdown",
   "metadata": {},
   "source": [
    " "
   ]
  },
  {
   "cell_type": "markdown",
   "metadata": {},
   "source": [
    "# 6.2. Cliquer sur la zone de saisie"
   ]
  },
  {
   "cell_type": "code",
   "execution_count": 16,
   "metadata": {},
   "outputs": [],
   "source": [
    "destination_airport.click()"
   ]
  },
  {
   "cell_type": "markdown",
   "metadata": {},
   "source": [
    " "
   ]
  },
  {
   "cell_type": "markdown",
   "metadata": {},
   "source": [
    "# 6.3. Saisir le point d'arrivée"
   ]
  },
  {
   "cell_type": "code",
   "execution_count": 17,
   "metadata": {},
   "outputs": [],
   "source": [
    "destination_airport2 = driver.find_element_by_css_selector(\n",
    "    \"input[placeholder*='allez-vous']\")"
   ]
  },
  {
   "cell_type": "code",
   "execution_count": 18,
   "metadata": {},
   "outputs": [],
   "source": [
    "destination_airport2.clear() # vider la zone de saisie\n",
    "destination_airport2.send_keys(\"New York\")\n",
    "time.sleep(3)"
   ]
  },
  {
   "cell_type": "code",
   "execution_count": null,
   "metadata": {},
   "outputs": [],
   "source": []
  },
  {
   "cell_type": "markdown",
   "metadata": {},
   "source": [
    "# 6.4. Validation du premier aéroport de la liste de proposition"
   ]
  },
  {
   "cell_type": "code",
   "execution_count": 19,
   "metadata": {},
   "outputs": [],
   "source": [
    "first_destination_airport = driver.find_element_by_css_selector(\n",
    "                                \".fsapp-option-content .fsapp-option-city-name\")\n",
    "first_destination_airport.click() # On clique pour valider le 1er aéroport de la liste"
   ]
  },
  {
   "cell_type": "code",
   "execution_count": null,
   "metadata": {},
   "outputs": [],
   "source": []
  },
  {
   "cell_type": "markdown",
   "metadata": {},
   "source": [
    "# 7. Lancer la rechercher"
   ]
  },
  {
   "cell_type": "markdown",
   "metadata": {},
   "source": [
    "Maintenant que les informations obligatoires ont été remplies, nous allons pouvoir lancer la recherche de vols. Les dates, la classe et le nombre de passager seront laissés à leurs valeurs par défaut pour le moment."
   ]
  },
  {
   "cell_type": "code",
   "execution_count": null,
   "metadata": {},
   "outputs": [],
   "source": []
  },
  {
   "cell_type": "code",
   "execution_count": 20,
   "metadata": {},
   "outputs": [],
   "source": [
    "search_button = driver.find_element_by_css_selector(\"floating-action-button.gws-flights-form__search-button\")"
   ]
  },
  {
   "cell_type": "code",
   "execution_count": 21,
   "metadata": {},
   "outputs": [],
   "source": [
    "search_button.click() # On clique pour lancer la recherche\n",
    "time.sleep(5)"
   ]
  },
  {
   "cell_type": "code",
   "execution_count": null,
   "metadata": {},
   "outputs": [],
   "source": []
  },
  {
   "cell_type": "markdown",
   "metadata": {},
   "source": [
    "# 8. Dérouler la banderole des résultats"
   ]
  },
  {
   "cell_type": "markdown",
   "metadata": {},
   "source": [
    "Voyez-vous comment google a limité le nombre de résultats ? Il une bannière un peu en bas sur laquelle il faut cliquer pour afficher le reste des résultats. Nous allons le faire !"
   ]
  },
  {
   "cell_type": "code",
   "execution_count": null,
   "metadata": {},
   "outputs": [],
   "source": []
  },
  {
   "cell_type": "code",
   "execution_count": 22,
   "metadata": {},
   "outputs": [],
   "source": [
    "expand_button = driver.find_element_by_css_selector(\".gws-flights-results__dominated-toggle\")"
   ]
  },
  {
   "cell_type": "code",
   "execution_count": 23,
   "metadata": {},
   "outputs": [],
   "source": [
    "expand_button.click() # Cliquer pour dérouler la banderole\n",
    "time.sleep(2)"
   ]
  },
  {
   "cell_type": "code",
   "execution_count": null,
   "metadata": {},
   "outputs": [],
   "source": []
  },
  {
   "cell_type": "markdown",
   "metadata": {},
   "source": [
    "> Boom boom  boom !!! Nous avons maintenant tous les prix des vols de Paris à New York. Nous pouvons scraper ces informations soit avec Selenium soit avec BeautifulSoup qui est plus rapide. Mais bien avant, nous allons encapsuler tout le travail réalisé jusqu'ici dans de petites et jolies fonctions :) ."
   ]
  },
  {
   "cell_type": "code",
   "execution_count": null,
   "metadata": {},
   "outputs": [],
   "source": []
  },
  {
   "cell_type": "markdown",
   "metadata": {},
   "source": [
    "# 9. Tout encapsuler dans de petites fonctions"
   ]
  },
  {
   "cell_type": "code",
   "execution_count": 24,
   "metadata": {},
   "outputs": [],
   "source": [
    "def remplir_depart(depart):\n",
    "    css_origin_airport = \"div[data-flt-ve='origin_airport'][class*='flt-input']\"\n",
    "    origin_airport = driver.find_element_by_css_selector(css_origin_airport)\n",
    "    origin_airport.click() # Pour cliquer et faire apparaître le formulaire \n",
    "    time.sleep(1)\n",
    "    \n",
    "    css_origin_airport2 = \"input[placeholder*='partez-vous']\"\n",
    "    origin_airport2 = driver.find_element_by_css_selector(\n",
    "                                            css_origin_airport2)\n",
    "    origin_airport2.clear()\n",
    "    origin_airport2.send_keys(depart)\n",
    "    time.sleep(3)\n",
    "\n",
    "    first_origin_airport_css = \".fsapp-option-content .fsapp-option-city-name\"\n",
    "    first_origin_airport = driver.find_element_by_css_selector(first_origin_airport_css)\n",
    "    first_origin_airport.click()"
   ]
  },
  {
   "cell_type": "code",
   "execution_count": 25,
   "metadata": {},
   "outputs": [],
   "source": [
    "def remplir_arrivee(arrivee):\n",
    "    css_destination_airport = \"div[data-flt-ve='destination_airport'][class*='flt-input']\"\n",
    "    destination_airport = driver.find_element_by_css_selector(\n",
    "        css_destination_airport)\n",
    "    destination_airport.click() # Pour cliquer et faire apparaître le formulaire \n",
    "    time.sleep(1)\n",
    "    \n",
    "    css_destination_airport2 = \"input[placeholder*='allez-vous']\"\n",
    "    destination_airport2 = driver.find_element_by_css_selector(\n",
    "                                            css_destination_airport2)\n",
    "    destination_airport2.clear()\n",
    "    destination_airport2.send_keys(arrivee)\n",
    "    time.sleep(3)\n",
    "\n",
    "    first_destination_airport_css = \".fsapp-option-content .fsapp-option-city-name\"\n",
    "    first_destination_airport = driver.find_element_by_css_selector(first_destination_airport_css)\n",
    "    first_destination_airport.click()"
   ]
  },
  {
   "cell_type": "code",
   "execution_count": 26,
   "metadata": {},
   "outputs": [],
   "source": [
    "def rechercher():\n",
    "    search_button = driver.find_element_by_css_selector(\n",
    "            \".gws-flights-form__search-button-wrapper \" \n",
    "        + \"floating-action-button.gws-flights-form__search-button\")\n",
    "    search_button.click()\n",
    "    \n",
    "def derouler():\n",
    "    expand_button = driver.find_element_by_css_selector(\n",
    "                        \".gws-flights-results__dominated-toggle\")\n",
    "    expand_button.click()"
   ]
  },
  {
   "cell_type": "code",
   "execution_count": 27,
   "metadata": {},
   "outputs": [],
   "source": [
    "def prix_vol(depart = \"Paris\", arrivee = \"Abidjan\"):\n",
    "    driver.get(\"https://www.google.com/flights?hl=fr&gl=fr\")\n",
    "    time.sleep(1)\n",
    "    remplir_depart(depart)\n",
    "    time.sleep(1)\n",
    "    remplir_arrivee(arrivee)\n",
    "    rechercher()\n",
    "    time.sleep(5)\n",
    "    derouler()\n",
    "    time.sleep(2)"
   ]
  },
  {
   "cell_type": "code",
   "execution_count": null,
   "metadata": {},
   "outputs": [],
   "source": []
  },
  {
   "cell_type": "code",
   "execution_count": 28,
   "metadata": {},
   "outputs": [],
   "source": [
    "# On test le tout !\n",
    "prix_vol(\"Paris\", \"New York\")"
   ]
  },
  {
   "cell_type": "code",
   "execution_count": null,
   "metadata": {},
   "outputs": [],
   "source": []
  },
  {
   "cell_type": "code",
   "execution_count": null,
   "metadata": {},
   "outputs": [],
   "source": []
  },
  {
   "cell_type": "markdown",
   "metadata": {},
   "source": [
    "# 10. Scrapper les informations"
   ]
  },
  {
   "cell_type": "code",
   "execution_count": 29,
   "metadata": {},
   "outputs": [],
   "source": [
    "# Recupérer le code source de la page\n",
    "page_source = driver.page_source"
   ]
  },
  {
   "cell_type": "code",
   "execution_count": 30,
   "metadata": {},
   "outputs": [],
   "source": [
    "# Créer un objet bs\n",
    "soup = BeautifulSoup(page_source)"
   ]
  },
  {
   "cell_type": "code",
   "execution_count": null,
   "metadata": {},
   "outputs": [],
   "source": []
  },
  {
   "cell_type": "markdown",
   "metadata": {},
   "source": [
    "## 10.1. Sélection  de toutes les lignes de la table"
   ]
  },
  {
   "cell_type": "code",
   "execution_count": 31,
   "metadata": {},
   "outputs": [],
   "source": [
    "rows = soup.select( \n",
    " \".gws-flights-results__result-list .gws-flights-results__result-item\")"
   ]
  },
  {
   "cell_type": "code",
   "execution_count": 32,
   "metadata": {},
   "outputs": [],
   "source": [
    "row = rows[0] # Prendre une ligne quelconque"
   ]
  },
  {
   "cell_type": "code",
   "execution_count": null,
   "metadata": {},
   "outputs": [],
   "source": []
  },
  {
   "cell_type": "markdown",
   "metadata": {},
   "source": [
    "## 10.2. Block N° 2 : Temps de vol & compagnie"
   ]
  },
  {
   "cell_type": "code",
   "execution_count": 33,
   "metadata": {},
   "outputs": [],
   "source": [
    "time_block = row.select_one(\".gws-flights-results__itinerary-times\")"
   ]
  },
  {
   "cell_type": "code",
   "execution_count": 34,
   "metadata": {},
   "outputs": [
    {
     "data": {
      "text/plain": [
       "<div class=\"gws-flights-results__itinerary-times gws-flights__ellipsize\" data-animation-slideout=\"\"> <div class=\"gws-flights-results__times-row\"> <div class=\"gws-flights-results__times flt-subhead1\"><span> <span jsaction=\"mouseenter:pCNdcd;mouseleave:QsRKXb\" jscontroller=\"lLN5lc\" jsdata=\"Dij6Dd;;170\"> <span>06:20</span> </span> </span> – <span> <span jsaction=\"mouseenter:pCNdcd;mouseleave:QsRKXb\" jscontroller=\"lLN5lc\" jsdata=\"Dij6Dd;;171\"> <span>14:15</span> </span> </span> </div> </div> <div class=\"gws-flights-results__carriers gws-flights__ellipsize gws-flights__flex-box gws-flights__align-center flt-caption\"> <span class=\"gws-flights__ellipsize\"><span><span>Alitalia</span></span></span> <span class=\"gws-flights-results__airline-extra-info gws-flights__ellipsize\"> <span class=\"gws-flights-results__disclosure\"></span> </span> </div> </div>"
      ]
     },
     "execution_count": 34,
     "metadata": {},
     "output_type": "execute_result"
    }
   ],
   "source": [
    "time_block"
   ]
  },
  {
   "cell_type": "code",
   "execution_count": 35,
   "metadata": {},
   "outputs": [
    {
     "data": {
      "text/plain": [
       "2"
      ]
     },
     "execution_count": 35,
     "metadata": {},
     "output_type": "execute_result"
    }
   ],
   "source": [
    "times = time_block.select(\n",
    "    \".gws-flights-results__times [jscontroller] span:not([class])\")\n",
    "len(times)"
   ]
  },
  {
   "cell_type": "code",
   "execution_count": 36,
   "metadata": {},
   "outputs": [
    {
     "data": {
      "text/plain": [
       "[<span>06:20</span>, <span>14:15</span>]"
      ]
     },
     "execution_count": 36,
     "metadata": {},
     "output_type": "execute_result"
    }
   ],
   "source": [
    "times"
   ]
  },
  {
   "cell_type": "code",
   "execution_count": null,
   "metadata": {},
   "outputs": [],
   "source": []
  },
  {
   "cell_type": "code",
   "execution_count": 37,
   "metadata": {},
   "outputs": [],
   "source": [
    "offset_days = time_block.select_one(\".gws-flights__offset-days\")\n",
    "offset_days"
   ]
  },
  {
   "cell_type": "code",
   "execution_count": null,
   "metadata": {},
   "outputs": [],
   "source": []
  },
  {
   "cell_type": "code",
   "execution_count": 38,
   "metadata": {},
   "outputs": [
    {
     "data": {
      "text/plain": [
       "<span class=\"gws-flights__ellipsize\"><span><span>Alitalia</span></span></span>"
      ]
     },
     "execution_count": 38,
     "metadata": {},
     "output_type": "execute_result"
    }
   ],
   "source": [
    "company = time_block.select_one(\n",
    "    \".gws-flights-results__carriers .gws-flights__ellipsize\")\n",
    "company"
   ]
  },
  {
   "cell_type": "code",
   "execution_count": 39,
   "metadata": {},
   "outputs": [
    {
     "data": {
      "text/plain": [
       "'  '"
      ]
     },
     "execution_count": 39,
     "metadata": {},
     "output_type": "execute_result"
    }
   ],
   "source": [
    "extra_infos = time_block.select_one(\n",
    "    \".gws-flights-results__airline-extra-info.gws-flights__ellipsize\")\n",
    "extra_infos.text"
   ]
  },
  {
   "cell_type": "code",
   "execution_count": 40,
   "metadata": {},
   "outputs": [
    {
     "data": {
      "text/plain": [
       "{'departure': '06:20',\n",
       " 'arrival': '14:15',\n",
       " 'offset_days': None,\n",
       " 'company': 'Alitalia',\n",
       " 'extra_infos': '  '}"
      ]
     },
     "execution_count": 40,
     "metadata": {},
     "output_type": "execute_result"
    }
   ],
   "source": [
    "time_block_values = {\"departure\": times[0].text,\n",
    "                     \"arrival\":  times[1].text,\n",
    "    \"offset_days\": offset_days.text if offset_days else None,\n",
    "                     \"company\":  company.text,\n",
    "                     \"extra_infos\":  extra_infos.text,\n",
    "                    }\n",
    "time_block_values"
   ]
  },
  {
   "cell_type": "code",
   "execution_count": null,
   "metadata": {},
   "outputs": [],
   "source": []
  },
  {
   "cell_type": "code",
   "execution_count": 41,
   "metadata": {},
   "outputs": [],
   "source": [
    "def get_time_block(row) :\n",
    "    time_block = row.select_one(\".gws-flights-results__itinerary-times\")\n",
    "    times = time_block.select(\n",
    "        \".gws-flights-results__times [jscontroller] span:not([class])\")\n",
    "    offset_days = time_block.select_one(\".gws-flights__offset-days\")\n",
    "    company = time_block.select_one(\n",
    "            \".gws-flights-results__carriers .gws-flights__ellipsize\")\n",
    "    \n",
    "    extra_infos = time_block.select_one(\n",
    "    \".gws-flights-results__airline-extra-info.gws-flights__ellipsize\")\n",
    "    \n",
    "    time_block_values = {\n",
    "        \"departure\": times[0].text,\n",
    "        \"arrival\":  times[1].text,\n",
    "        \"offset_days\": offset_days.text if offset_days else None,\n",
    "        \"company\":  company.text,\n",
    "        \"extra_infos\":  extra_infos.text,\n",
    "         }\n",
    "    return time_block_values"
   ]
  },
  {
   "cell_type": "code",
   "execution_count": 42,
   "metadata": {},
   "outputs": [
    {
     "data": {
      "text/plain": [
       "{'departure': '06:20',\n",
       " 'arrival': '14:15',\n",
       " 'offset_days': None,\n",
       " 'company': 'Alitalia',\n",
       " 'extra_infos': '  '}"
      ]
     },
     "execution_count": 42,
     "metadata": {},
     "output_type": "execute_result"
    }
   ],
   "source": [
    "get_time_block(row)"
   ]
  },
  {
   "cell_type": "code",
   "execution_count": null,
   "metadata": {},
   "outputs": [],
   "source": []
  },
  {
   "cell_type": "markdown",
   "metadata": {},
   "source": [
    "## 10.3. Block 3 : les durées"
   ]
  },
  {
   "cell_type": "code",
   "execution_count": 43,
   "metadata": {},
   "outputs": [
    {
     "data": {
      "text/plain": [
       "<div class=\"gws-flights-results__itinerary-duration gws-flights__ellipsize\" data-animation-fadeout=\"\"> <div class=\"gws-flights-results__duration flt-subhead1Normal\">13 h 55 min</div> <div> <div class=\"gws-flights-results__airports flt-caption\"> <span data-airportcode=\"CDG\" jsaction=\"mouseenter:pCNdcd;mouseleave:QsRKXb\" jscontroller=\"U6dg7d\">CDG</span>–<span data-airportcode=\"JFK\" jsaction=\"mouseenter:pCNdcd;mouseleave:QsRKXb\" jscontroller=\"U6dg7d\">JFK</span> </div> </div> </div>"
      ]
     },
     "execution_count": 43,
     "metadata": {},
     "output_type": "execute_result"
    }
   ],
   "source": [
    "duration_block = row.select_one(\n",
    "    \".gws-flights-results__itinerary-duration\")\n",
    "duration_block"
   ]
  },
  {
   "cell_type": "code",
   "execution_count": 44,
   "metadata": {},
   "outputs": [
    {
     "data": {
      "text/plain": [
       "'13h55min'"
      ]
     },
     "execution_count": 44,
     "metadata": {},
     "output_type": "execute_result"
    }
   ],
   "source": [
    "flight_duration = duration_block.select_one(\n",
    "    \".gws-flights-results__duration\").text.replace(\"\\xa0\", \"\")\n",
    "flight_duration"
   ]
  },
  {
   "cell_type": "code",
   "execution_count": 45,
   "metadata": {},
   "outputs": [
    {
     "data": {
      "text/plain": [
       "('CDG', 'JFK')"
      ]
     },
     "execution_count": 45,
     "metadata": {},
     "output_type": "execute_result"
    }
   ],
   "source": [
    "airports = duration_block.select(\n",
    "    \".gws-flights-results__airports span[data-airportcode]\")\n",
    "departure = airports[0].text\n",
    "arrival = airports[1].text\n",
    "departure, arrival"
   ]
  },
  {
   "cell_type": "code",
   "execution_count": 46,
   "metadata": {},
   "outputs": [],
   "source": [
    "def get_duration_block(row):\n",
    "    duration_block = row.select_one(\n",
    "    \".gws-flights-results__itinerary-duration\")\n",
    "    flight_duration = duration_block.select_one(\n",
    "    \".gws-flights-results__duration\").text.replace(\"\\xa0\", \"\")\n",
    "    return {\"flight_duration\": flight_duration}"
   ]
  },
  {
   "cell_type": "code",
   "execution_count": 47,
   "metadata": {},
   "outputs": [
    {
     "data": {
      "text/plain": [
       "{'flight_duration': '13h55min'}"
      ]
     },
     "execution_count": 47,
     "metadata": {},
     "output_type": "execute_result"
    }
   ],
   "source": [
    "get_duration_block(row)"
   ]
  },
  {
   "cell_type": "code",
   "execution_count": null,
   "metadata": {},
   "outputs": [],
   "source": []
  },
  {
   "cell_type": "markdown",
   "metadata": {},
   "source": [
    "## 10.4. Block N° 4 : escales"
   ]
  },
  {
   "cell_type": "code",
   "execution_count": 48,
   "metadata": {},
   "outputs": [
    {
     "data": {
      "text/plain": [
       "<div class=\"gws-flights-results__itinerary-stops gws-flights__ellipsize\" data-animation-fadeout=\"\"> <div> <div class=\"gws-flights-results__stops flt-subhead1Normal\"> <div><span>1 escale</span></div> </div> </div> <div class=\"gws-flights-results__layover-time flt-caption\"> <span>2 h 0 min</span> <span><span data-airportcode=\"FCO\" jscontroller=\"U6dg7d\"><span jsaction=\"mouseenter:pCNdcd;mouseleave:QsRKXb\">FCO</span></span></span> </div> </div>"
      ]
     },
     "execution_count": 48,
     "metadata": {},
     "output_type": "execute_result"
    }
   ],
   "source": [
    "stops_block = row.select_one(\".gws-flights-results__itinerary-stops\")\n",
    "stops_block"
   ]
  },
  {
   "cell_type": "code",
   "execution_count": 49,
   "metadata": {},
   "outputs": [
    {
     "data": {
      "text/plain": [
       "'1'"
      ]
     },
     "execution_count": 49,
     "metadata": {},
     "output_type": "execute_result"
    }
   ],
   "source": [
    "nb_stops = stops_block.select_one(\n",
    "    \".gws-flights-results__stops span\").text\n",
    "nb_stops = nb_stops.split(\"\\xa0\")[0]\n",
    "nb_stops"
   ]
  },
  {
   "cell_type": "code",
   "execution_count": 50,
   "metadata": {},
   "outputs": [
    {
     "data": {
      "text/plain": [
       "' 2\\xa0h\\xa00\\xa0min FCO '"
      ]
     },
     "execution_count": 50,
     "metadata": {},
     "output_type": "execute_result"
    }
   ],
   "source": [
    "details  = stops_block.select_one(\n",
    "    \".gws-flights-results__layover-time\").text\n",
    "# duration = duration.split(\"\\xa0\")\n",
    "details"
   ]
  },
  {
   "cell_type": "code",
   "execution_count": 51,
   "metadata": {},
   "outputs": [],
   "source": [
    "def get_stops_block(row):\n",
    "    stops_block = row.select_one(\".gws-flights-results__itinerary-stops\")\n",
    "    nb_stops = stops_block.select_one(\".gws-flights-results__stops span\").text\n",
    "    nb_stops = nb_stops.split(\"\\xa0\")[0]\n",
    "    \n",
    "    details  = stops_block.select_one(\n",
    "                    \".gws-flights-results__layover-time span\")\n",
    "    details =  details.text if details else \"\"\n",
    "    \n",
    "    return {\"nb_stops\":nb_stops, \"stops_details\": details }"
   ]
  },
  {
   "cell_type": "code",
   "execution_count": 52,
   "metadata": {},
   "outputs": [
    {
     "data": {
      "text/plain": [
       "{'nb_stops': '1', 'stops_details': '2\\xa0h\\xa00\\xa0min'}"
      ]
     },
     "execution_count": 52,
     "metadata": {},
     "output_type": "execute_result"
    }
   ],
   "source": [
    "get_stops_block(rows[0])"
   ]
  },
  {
   "cell_type": "code",
   "execution_count": null,
   "metadata": {},
   "outputs": [],
   "source": []
  },
  {
   "cell_type": "markdown",
   "metadata": {},
   "source": [
    "## 10.5. Block N° 5 : les prix"
   ]
  },
  {
   "cell_type": "code",
   "execution_count": 53,
   "metadata": {},
   "outputs": [
    {
     "data": {
      "text/plain": [
       "<div class=\"gws-flights-results__itinerary-price\" jscontroller=\"OM4EZb\"> <div class=\"flt-subhead1 gws-flights-results__price gws-flights-results__cheapest-price\">      313 €   </div> <div class=\"gws-flights-results__price-annotation flt-caption\">aller-retour</div> </div>"
      ]
     },
     "execution_count": 53,
     "metadata": {},
     "output_type": "execute_result"
    }
   ],
   "source": [
    "price_block =  row.select_one(\".gws-flights-results__itinerary-price\")\n",
    "price_block"
   ]
  },
  {
   "cell_type": "code",
   "execution_count": 54,
   "metadata": {},
   "outputs": [
    {
     "data": {
      "text/plain": [
       "'313€'"
      ]
     },
     "execution_count": 54,
     "metadata": {},
     "output_type": "execute_result"
    }
   ],
   "source": [
    "prices = price_block.select_one(\n",
    "    \".gws-flights-results__price\").text.strip()#.split(\"\\xa0\")\n",
    "prices  = re.sub(\"[^\\w€]\", \"\", prices)\n",
    "prices"
   ]
  },
  {
   "cell_type": "code",
   "execution_count": 55,
   "metadata": {},
   "outputs": [],
   "source": [
    "def get_price_block(row):\n",
    "    price_block =  row.select_one(\".gws-flights-results__itinerary-price\")\n",
    "    price = price_block.select_one(\n",
    "    \".gws-flights-results__price\")\n",
    "    price = price.text if price else \"\"\n",
    "    price  = re.sub(\"[^\\w€]\", \"\", price)\n",
    "    \n",
    "    price_annotation  = price_block.select_one(\n",
    "        \".gws-flights-results__price-annotation\")\n",
    "    price_annotation = price_annotation.text if price_annotation else \"\"\n",
    "    \n",
    "    return {\"price\": price, \"price_annotation\": price_annotation}"
   ]
  },
  {
   "cell_type": "code",
   "execution_count": 56,
   "metadata": {},
   "outputs": [
    {
     "data": {
      "text/plain": [
       "{'price': '313€', 'price_annotation': 'aller-retour'}"
      ]
     },
     "execution_count": 56,
     "metadata": {},
     "output_type": "execute_result"
    }
   ],
   "source": [
    "get_price_block(row)"
   ]
  },
  {
   "cell_type": "code",
   "execution_count": 57,
   "metadata": {},
   "outputs": [],
   "source": [
    "# dict1 = {\"a\": 1, \"b\": 2}\n",
    "# print(\"dict1 avant:\", dict1)\n",
    "\n",
    "# dict2 = {\"c\": 3, \"d\": 4, \"e\": 5}\n",
    "# print(\"dict2 avant: \", dict2)\n",
    "\n",
    "# dict1.update(dict2)\n",
    "\n",
    "# print(\"dict1 après:\", dict1)\n",
    "# print(\"dict2 après: \", dict2)"
   ]
  },
  {
   "cell_type": "code",
   "execution_count": null,
   "metadata": {},
   "outputs": [],
   "source": []
  },
  {
   "cell_type": "markdown",
   "metadata": {},
   "source": [
    "## 10.6. Obtenir toute une ligne"
   ]
  },
  {
   "cell_type": "code",
   "execution_count": 58,
   "metadata": {},
   "outputs": [],
   "source": [
    "def get_row(row) :\n",
    "    time_block =  get_time_block(row)\n",
    "    stops_block = get_stops_block(row)\n",
    "    price_block = get_price_block(row)\n",
    "    duration_block = get_duration_block(row)\n",
    "    \n",
    "    row_values = time_block\n",
    "    row_values.update(stops_block)\n",
    "    row_values.update(price_block)\n",
    "    row_values.update(duration_block)\n",
    "    \n",
    "    return row_values"
   ]
  },
  {
   "cell_type": "code",
   "execution_count": 59,
   "metadata": {},
   "outputs": [
    {
     "data": {
      "text/plain": [
       "{'departure': '06:20',\n",
       " 'arrival': '14:15',\n",
       " 'offset_days': None,\n",
       " 'company': 'Alitalia',\n",
       " 'extra_infos': '  ',\n",
       " 'nb_stops': '1',\n",
       " 'stops_details': '2\\xa0h\\xa00\\xa0min',\n",
       " 'price': '313€',\n",
       " 'price_annotation': 'aller-retour',\n",
       " 'flight_duration': '13h55min'}"
      ]
     },
     "execution_count": 59,
     "metadata": {},
     "output_type": "execute_result"
    }
   ],
   "source": [
    "get_row(row)"
   ]
  },
  {
   "cell_type": "code",
   "execution_count": null,
   "metadata": {},
   "outputs": [],
   "source": []
  },
  {
   "cell_type": "markdown",
   "metadata": {},
   "source": [
    "## 10.7. Obtenir toute la table"
   ]
  },
  {
   "cell_type": "code",
   "execution_count": 60,
   "metadata": {},
   "outputs": [],
   "source": [
    "data = []\n",
    "for row in rows:\n",
    "    try :\n",
    "        data.append(get_row(row))\n",
    "    except Exception as e:\n",
    "        print(e)"
   ]
  },
  {
   "cell_type": "code",
   "execution_count": 61,
   "metadata": {},
   "outputs": [
    {
     "data": {
      "text/plain": [
       "(300, 300)"
      ]
     },
     "execution_count": 61,
     "metadata": {},
     "output_type": "execute_result"
    }
   ],
   "source": [
    "len(rows), len(data)"
   ]
  },
  {
   "cell_type": "code",
   "execution_count": 62,
   "metadata": {},
   "outputs": [
    {
     "data": {
      "text/plain": [
       "{'departure': '06:20',\n",
       " 'arrival': '14:15',\n",
       " 'offset_days': None,\n",
       " 'company': 'Alitalia',\n",
       " 'extra_infos': '  ',\n",
       " 'nb_stops': '1',\n",
       " 'stops_details': '2\\xa0h\\xa00\\xa0min',\n",
       " 'price': '313€',\n",
       " 'price_annotation': 'aller-retour',\n",
       " 'flight_duration': '13h55min'}"
      ]
     },
     "execution_count": 62,
     "metadata": {},
     "output_type": "execute_result"
    }
   ],
   "source": [
    "data[0]"
   ]
  },
  {
   "cell_type": "code",
   "execution_count": null,
   "metadata": {},
   "outputs": [],
   "source": []
  },
  {
   "cell_type": "markdown",
   "metadata": {},
   "source": [
    "## 10.8. Tout transformer en dataframe"
   ]
  },
  {
   "cell_type": "code",
   "execution_count": 63,
   "metadata": {},
   "outputs": [],
   "source": [
    "import pandas as pd\n",
    "%matplotlib inline"
   ]
  },
  {
   "cell_type": "code",
   "execution_count": 64,
   "metadata": {},
   "outputs": [
    {
     "data": {
      "text/html": [
       "<div>\n",
       "<style scoped>\n",
       "    .dataframe tbody tr th:only-of-type {\n",
       "        vertical-align: middle;\n",
       "    }\n",
       "\n",
       "    .dataframe tbody tr th {\n",
       "        vertical-align: top;\n",
       "    }\n",
       "\n",
       "    .dataframe thead th {\n",
       "        text-align: right;\n",
       "    }\n",
       "</style>\n",
       "<table border=\"1\" class=\"dataframe\">\n",
       "  <thead>\n",
       "    <tr style=\"text-align: right;\">\n",
       "      <th></th>\n",
       "      <th>departure</th>\n",
       "      <th>arrival</th>\n",
       "      <th>offset_days</th>\n",
       "      <th>company</th>\n",
       "      <th>extra_infos</th>\n",
       "      <th>nb_stops</th>\n",
       "      <th>stops_details</th>\n",
       "      <th>price</th>\n",
       "      <th>price_annotation</th>\n",
       "      <th>flight_duration</th>\n",
       "    </tr>\n",
       "  </thead>\n",
       "  <tbody>\n",
       "    <tr>\n",
       "      <td>0</td>\n",
       "      <td>06:20</td>\n",
       "      <td>14:15</td>\n",
       "      <td>None</td>\n",
       "      <td>Alitalia</td>\n",
       "      <td></td>\n",
       "      <td>1</td>\n",
       "      <td>2 h 0 min</td>\n",
       "      <td>313€</td>\n",
       "      <td>aller-retour</td>\n",
       "      <td>13h55min</td>\n",
       "    </tr>\n",
       "    <tr>\n",
       "      <td>1</td>\n",
       "      <td>15:40</td>\n",
       "      <td>21:29</td>\n",
       "      <td>None</td>\n",
       "      <td>Air France, Delta</td>\n",
       "      <td></td>\n",
       "      <td>1</td>\n",
       "      <td>2 h 24 min</td>\n",
       "      <td>317€</td>\n",
       "      <td>aller-retour</td>\n",
       "      <td>11h49min</td>\n",
       "    </tr>\n",
       "    <tr>\n",
       "      <td>2</td>\n",
       "      <td>18:05</td>\n",
       "      <td>20:30</td>\n",
       "      <td>None</td>\n",
       "      <td>Norwegian</td>\n",
       "      <td></td>\n",
       "      <td>Sans escale</td>\n",
       "      <td></td>\n",
       "      <td>368€</td>\n",
       "      <td>aller-retour</td>\n",
       "      <td>8h25min</td>\n",
       "    </tr>\n",
       "    <tr>\n",
       "      <td>3</td>\n",
       "      <td>11:15</td>\n",
       "      <td>16:15</td>\n",
       "      <td>None</td>\n",
       "      <td>Lufthansa</td>\n",
       "      <td></td>\n",
       "      <td>1</td>\n",
       "      <td>1 h 5 min</td>\n",
       "      <td>381€</td>\n",
       "      <td>aller-retour</td>\n",
       "      <td>11h0min</td>\n",
       "    </tr>\n",
       "    <tr>\n",
       "      <td>4</td>\n",
       "      <td>12:40</td>\n",
       "      <td>19:30</td>\n",
       "      <td>None</td>\n",
       "      <td>Air France, KLM</td>\n",
       "      <td></td>\n",
       "      <td>1</td>\n",
       "      <td>3 h 10 min</td>\n",
       "      <td>309€</td>\n",
       "      <td>aller-retour</td>\n",
       "      <td>12h50min</td>\n",
       "    </tr>\n",
       "    <tr>\n",
       "      <td>5</td>\n",
       "      <td>06:55</td>\n",
       "      <td>15:21</td>\n",
       "      <td>None</td>\n",
       "      <td>Air France, Delta</td>\n",
       "      <td></td>\n",
       "      <td>1</td>\n",
       "      <td>3 h 30 min</td>\n",
       "      <td>310€</td>\n",
       "      <td>aller-retour</td>\n",
       "      <td>14h26min</td>\n",
       "    </tr>\n",
       "    <tr>\n",
       "      <td>6</td>\n",
       "      <td>06:20</td>\n",
       "      <td>18:30</td>\n",
       "      <td>None</td>\n",
       "      <td>Alitalia</td>\n",
       "      <td></td>\n",
       "      <td>1</td>\n",
       "      <td>6 h 15 min</td>\n",
       "      <td>313€</td>\n",
       "      <td>aller-retour</td>\n",
       "      <td>18h10min</td>\n",
       "    </tr>\n",
       "    <tr>\n",
       "      <td>7</td>\n",
       "      <td>11:10</td>\n",
       "      <td>18:30</td>\n",
       "      <td>None</td>\n",
       "      <td>Alitalia</td>\n",
       "      <td></td>\n",
       "      <td>1</td>\n",
       "      <td>1 h 25 min</td>\n",
       "      <td>313€</td>\n",
       "      <td>aller-retour</td>\n",
       "      <td>13h20min</td>\n",
       "    </tr>\n",
       "    <tr>\n",
       "      <td>8</td>\n",
       "      <td>10:10</td>\n",
       "      <td>15:25</td>\n",
       "      <td>None</td>\n",
       "      <td>Delta</td>\n",
       "      <td>Air France  Vol opéré par Republic Airways-...</td>\n",
       "      <td>1</td>\n",
       "      <td>1 h 30 min</td>\n",
       "      <td>316€</td>\n",
       "      <td>aller-retour</td>\n",
       "      <td>11h15min</td>\n",
       "    </tr>\n",
       "    <tr>\n",
       "      <td>9</td>\n",
       "      <td>10:10</td>\n",
       "      <td>16:24</td>\n",
       "      <td>None</td>\n",
       "      <td>Delta</td>\n",
       "      <td>Air France  Vol opéré par Republic Airways-...</td>\n",
       "      <td>1</td>\n",
       "      <td>2 h 30 min</td>\n",
       "      <td>316€</td>\n",
       "      <td>aller-retour</td>\n",
       "      <td>12h14min</td>\n",
       "    </tr>\n",
       "  </tbody>\n",
       "</table>\n",
       "</div>"
      ],
      "text/plain": [
       "  departure arrival offset_days            company  \\\n",
       "0     06:20   14:15        None           Alitalia   \n",
       "1     15:40   21:29        None  Air France, Delta   \n",
       "2     18:05   20:30        None          Norwegian   \n",
       "3     11:15   16:15        None          Lufthansa   \n",
       "4     12:40   19:30        None    Air France, KLM   \n",
       "5     06:55   15:21        None  Air France, Delta   \n",
       "6     06:20   18:30        None           Alitalia   \n",
       "7     11:10   18:30        None           Alitalia   \n",
       "8     10:10   15:25        None              Delta   \n",
       "9     10:10   16:24        None              Delta   \n",
       "\n",
       "                                         extra_infos     nb_stops  \\\n",
       "0                                                               1   \n",
       "1                                                               1   \n",
       "2                                                     Sans escale   \n",
       "3                                                               1   \n",
       "4                                                               1   \n",
       "5                                                               1   \n",
       "6                                                               1   \n",
       "7                                                               1   \n",
       "8     Air France  Vol opéré par Republic Airways-...            1   \n",
       "9     Air France  Vol opéré par Republic Airways-...            1   \n",
       "\n",
       "  stops_details price price_annotation flight_duration  \n",
       "0     2 h 0 min  313€     aller-retour        13h55min  \n",
       "1    2 h 24 min  317€     aller-retour        11h49min  \n",
       "2                368€     aller-retour         8h25min  \n",
       "3     1 h 5 min  381€     aller-retour         11h0min  \n",
       "4    3 h 10 min  309€     aller-retour        12h50min  \n",
       "5    3 h 30 min  310€     aller-retour        14h26min  \n",
       "6    6 h 15 min  313€     aller-retour        18h10min  \n",
       "7    1 h 25 min  313€     aller-retour        13h20min  \n",
       "8    1 h 30 min  316€     aller-retour        11h15min  \n",
       "9    2 h 30 min  316€     aller-retour        12h14min  "
      ]
     },
     "execution_count": 64,
     "metadata": {},
     "output_type": "execute_result"
    }
   ],
   "source": [
    "df =  pd.DataFrame(data)\n",
    "\n",
    "df.head(10)"
   ]
  },
  {
   "cell_type": "code",
   "execution_count": 65,
   "metadata": {},
   "outputs": [
    {
     "data": {
      "text/html": [
       "<div>\n",
       "<style scoped>\n",
       "    .dataframe tbody tr th:only-of-type {\n",
       "        vertical-align: middle;\n",
       "    }\n",
       "\n",
       "    .dataframe tbody tr th {\n",
       "        vertical-align: top;\n",
       "    }\n",
       "\n",
       "    .dataframe thead th {\n",
       "        text-align: right;\n",
       "    }\n",
       "</style>\n",
       "<table border=\"1\" class=\"dataframe\">\n",
       "  <thead>\n",
       "    <tr style=\"text-align: right;\">\n",
       "      <th></th>\n",
       "      <th>departure</th>\n",
       "      <th>arrival</th>\n",
       "      <th>offset_days</th>\n",
       "      <th>company</th>\n",
       "      <th>extra_infos</th>\n",
       "      <th>nb_stops</th>\n",
       "      <th>stops_details</th>\n",
       "      <th>price</th>\n",
       "      <th>price_annotation</th>\n",
       "      <th>flight_duration</th>\n",
       "      <th>price_clean</th>\n",
       "    </tr>\n",
       "  </thead>\n",
       "  <tbody>\n",
       "    <tr>\n",
       "      <td>0</td>\n",
       "      <td>06:20</td>\n",
       "      <td>14:15</td>\n",
       "      <td>None</td>\n",
       "      <td>Alitalia</td>\n",
       "      <td></td>\n",
       "      <td>1</td>\n",
       "      <td>2 h 0 min</td>\n",
       "      <td>313€</td>\n",
       "      <td>aller-retour</td>\n",
       "      <td>13h55min</td>\n",
       "      <td>313</td>\n",
       "    </tr>\n",
       "    <tr>\n",
       "      <td>1</td>\n",
       "      <td>15:40</td>\n",
       "      <td>21:29</td>\n",
       "      <td>None</td>\n",
       "      <td>Air France, Delta</td>\n",
       "      <td></td>\n",
       "      <td>1</td>\n",
       "      <td>2 h 24 min</td>\n",
       "      <td>317€</td>\n",
       "      <td>aller-retour</td>\n",
       "      <td>11h49min</td>\n",
       "      <td>317</td>\n",
       "    </tr>\n",
       "    <tr>\n",
       "      <td>2</td>\n",
       "      <td>18:05</td>\n",
       "      <td>20:30</td>\n",
       "      <td>None</td>\n",
       "      <td>Norwegian</td>\n",
       "      <td></td>\n",
       "      <td>Sans escale</td>\n",
       "      <td></td>\n",
       "      <td>368€</td>\n",
       "      <td>aller-retour</td>\n",
       "      <td>8h25min</td>\n",
       "      <td>368</td>\n",
       "    </tr>\n",
       "    <tr>\n",
       "      <td>3</td>\n",
       "      <td>11:15</td>\n",
       "      <td>16:15</td>\n",
       "      <td>None</td>\n",
       "      <td>Lufthansa</td>\n",
       "      <td></td>\n",
       "      <td>1</td>\n",
       "      <td>1 h 5 min</td>\n",
       "      <td>381€</td>\n",
       "      <td>aller-retour</td>\n",
       "      <td>11h0min</td>\n",
       "      <td>381</td>\n",
       "    </tr>\n",
       "    <tr>\n",
       "      <td>4</td>\n",
       "      <td>12:40</td>\n",
       "      <td>19:30</td>\n",
       "      <td>None</td>\n",
       "      <td>Air France, KLM</td>\n",
       "      <td></td>\n",
       "      <td>1</td>\n",
       "      <td>3 h 10 min</td>\n",
       "      <td>309€</td>\n",
       "      <td>aller-retour</td>\n",
       "      <td>12h50min</td>\n",
       "      <td>309</td>\n",
       "    </tr>\n",
       "  </tbody>\n",
       "</table>\n",
       "</div>"
      ],
      "text/plain": [
       "  departure arrival offset_days            company extra_infos     nb_stops  \\\n",
       "0     06:20   14:15        None           Alitalia                        1   \n",
       "1     15:40   21:29        None  Air France, Delta                        1   \n",
       "2     18:05   20:30        None          Norwegian              Sans escale   \n",
       "3     11:15   16:15        None          Lufthansa                        1   \n",
       "4     12:40   19:30        None    Air France, KLM                        1   \n",
       "\n",
       "  stops_details price price_annotation flight_duration  price_clean  \n",
       "0     2 h 0 min  313€     aller-retour        13h55min          313  \n",
       "1    2 h 24 min  317€     aller-retour        11h49min          317  \n",
       "2                368€     aller-retour         8h25min          368  \n",
       "3     1 h 5 min  381€     aller-retour         11h0min          381  \n",
       "4    3 h 10 min  309€     aller-retour        12h50min          309  "
      ]
     },
     "execution_count": 65,
     "metadata": {},
     "output_type": "execute_result"
    }
   ],
   "source": [
    "df[\"price_clean\"] = pd.to_numeric(\n",
    "            df[\"price\"].str.replace(\"€\", \"\"), errors= \"ignore\")\n",
    "df.head()"
   ]
  },
  {
   "cell_type": "code",
   "execution_count": 66,
   "metadata": {},
   "outputs": [
    {
     "name": "stdout",
     "output_type": "stream",
     "text": [
      "<class 'pandas.core.frame.DataFrame'>\n",
      "RangeIndex: 300 entries, 0 to 299\n",
      "Data columns (total 11 columns):\n",
      "departure           300 non-null object\n",
      "arrival             300 non-null object\n",
      "offset_days         58 non-null object\n",
      "company             300 non-null object\n",
      "extra_infos         300 non-null object\n",
      "nb_stops            300 non-null object\n",
      "stops_details       300 non-null object\n",
      "price               300 non-null object\n",
      "price_annotation    300 non-null object\n",
      "flight_duration     300 non-null object\n",
      "price_clean         300 non-null int64\n",
      "dtypes: int64(1), object(10)\n",
      "memory usage: 25.9+ KB\n"
     ]
    }
   ],
   "source": [
    "df.info()"
   ]
  },
  {
   "cell_type": "code",
   "execution_count": 67,
   "metadata": {},
   "outputs": [
    {
     "data": {
      "text/plain": [
       "(309, 3560)"
      ]
     },
     "execution_count": 67,
     "metadata": {},
     "output_type": "execute_result"
    }
   ],
   "source": [
    "df.price_clean.min(), df.price_clean.max()"
   ]
  },
  {
   "cell_type": "code",
   "execution_count": 68,
   "metadata": {},
   "outputs": [
    {
     "data": {
      "text/html": [
       "<div>\n",
       "<style scoped>\n",
       "    .dataframe tbody tr th:only-of-type {\n",
       "        vertical-align: middle;\n",
       "    }\n",
       "\n",
       "    .dataframe tbody tr th {\n",
       "        vertical-align: top;\n",
       "    }\n",
       "\n",
       "    .dataframe thead th {\n",
       "        text-align: right;\n",
       "    }\n",
       "</style>\n",
       "<table border=\"1\" class=\"dataframe\">\n",
       "  <thead>\n",
       "    <tr style=\"text-align: right;\">\n",
       "      <th></th>\n",
       "      <th>departure</th>\n",
       "      <th>arrival</th>\n",
       "      <th>offset_days</th>\n",
       "      <th>company</th>\n",
       "      <th>extra_infos</th>\n",
       "      <th>nb_stops</th>\n",
       "      <th>stops_details</th>\n",
       "      <th>price</th>\n",
       "      <th>price_annotation</th>\n",
       "      <th>flight_duration</th>\n",
       "      <th>price_clean</th>\n",
       "    </tr>\n",
       "  </thead>\n",
       "  <tbody>\n",
       "  </tbody>\n",
       "</table>\n",
       "</div>"
      ],
      "text/plain": [
       "Empty DataFrame\n",
       "Columns: [departure, arrival, offset_days, company, extra_infos, nb_stops, stops_details, price, price_annotation, flight_duration, price_clean]\n",
       "Index: []"
      ]
     },
     "execution_count": 68,
     "metadata": {},
     "output_type": "execute_result"
    }
   ],
   "source": [
    "df[df.price_clean.isnull()]"
   ]
  },
  {
   "cell_type": "code",
   "execution_count": null,
   "metadata": {},
   "outputs": [],
   "source": []
  },
  {
   "cell_type": "code",
   "execution_count": 69,
   "metadata": {},
   "outputs": [
    {
     "data": {
      "text/plain": [
       "<matplotlib.axes._subplots.AxesSubplot at 0x22246f1e288>"
      ]
     },
     "execution_count": 69,
     "metadata": {},
     "output_type": "execute_result"
    },
    {
     "data": {
      "image/png": "[encoded data removed]",
      "text/plain": [
       "<Figure size 432x288 with 1 Axes>"
      ]
     },
     "metadata": {
      "needs_background": "light"
     },
     "output_type": "display_data"
    }
   ],
   "source": [
    "df.price_clean.hist()"
   ]
  },
  {
   "cell_type": "code",
   "execution_count": null,
   "metadata": {},
   "outputs": [],
   "source": []
  },
  {
   "cell_type": "code",
   "execution_count": null,
   "metadata": {},
   "outputs": [],
   "source": []
  },
  {
   "cell_type": "markdown",
   "metadata": {},
   "source": [
    "## 10.9. Encpasuler l'ensemble du travail dans une fonction"
   ]
  },
  {
   "cell_type": "code",
   "execution_count": 70,
   "metadata": {},
   "outputs": [],
   "source": [
    "def google_flight(depart = \"Paris\", arrivee = \"Abidjan\") :\n",
    "    prix_vol(depart,arrivee)\n",
    "    time.sleep(2)\n",
    "    html =  driver.find_element_by_css_selector(\"html\")\n",
    "    page_source = html.get_attribute(\"outerHTML\")\n",
    "    \n",
    "    soup = BeautifulSoup(page_source)\n",
    "    \n",
    "    rows = soup.select( \".gws-flights-results__result-list \"+\n",
    "                       \".gws-flights-results__result-item\")\n",
    "    \n",
    "    data = []\n",
    "    for row in rows:\n",
    "        try :\n",
    "            data.append(get_row(row))\n",
    "        except Exception as e:\n",
    "            print(e)\n",
    "        \n",
    "    df = pd.DataFrame(data)\n",
    "    df[\"orgin_airport\"] = depart\n",
    "    df[\"destination_airport\"] = arrivee\n",
    "    \n",
    "    return df"
   ]
  },
  {
   "cell_type": "code",
   "execution_count": null,
   "metadata": {},
   "outputs": [],
   "source": []
  },
  {
   "cell_type": "code",
   "execution_count": null,
   "metadata": {},
   "outputs": [],
   "source": [
    "df = google_flight(\"Paris\", \"New York\")\n",
    "df.head(10)"
   ]
  },
  {
   "cell_type": "code",
   "execution_count": null,
   "metadata": {},
   "outputs": [],
   "source": []
  },
  {
   "cell_type": "code",
   "execution_count": null,
   "metadata": {},
   "outputs": [],
   "source": [
    "df.shape"
   ]
  },
  {
   "cell_type": "code",
   "execution_count": null,
   "metadata": {},
   "outputs": [],
   "source": [
    "df.to_excel(\"paris_new_york.xlsx\")"
   ]
  },
  {
   "cell_type": "code",
   "execution_count": null,
   "metadata": {},
   "outputs": [],
   "source": []
  }
 ],
 "metadata": {
  "kernelspec": {
   "display_name": "Python 3",
   "language": "python",
   "name": "python3"
  },
  "language_info": {
   "codemirror_mode": {
    "name": "ipython",
    "version": 3
   },
   "file_extension": ".py",
   "mimetype": "text/x-python",
   "name": "python",
   "nbconvert_exporter": "python",
   "pygments_lexer": "ipython3",
   "version": "3.7.4"
  }
 },
 "nbformat": 4,
 "nbformat_minor": 2
}
