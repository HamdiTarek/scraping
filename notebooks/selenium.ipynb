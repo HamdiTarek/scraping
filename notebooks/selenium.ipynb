{
 "cells": [
  {
   "cell_type": "markdown",
   "metadata": {},
   "source": [
    "# Installation de selenium"
   ]
  },
  {
   "cell_type": "markdown",
   "metadata": {},
   "source": [
    "Décommetez et exécutez le code ci-dessous si selenium n'est pa encore installé"
   ]
  },
  {
   "cell_type": "code",
   "execution_count": 1,
   "metadata": {},
   "outputs": [],
   "source": [
    "#! pip install selenium"
   ]
  },
  {
   "cell_type": "code",
   "execution_count": null,
   "metadata": {},
   "outputs": [],
   "source": []
  },
  {
   "cell_type": "code",
   "execution_count": 2,
   "metadata": {},
   "outputs": [],
   "source": [
    "from selenium import  webdriver\n",
    "import time # Pour pouvoir utiliser la fonction sleep\n",
    "import re # Expression regulière"
   ]
  },
  {
   "cell_type": "code",
   "execution_count": 3,
   "metadata": {},
   "outputs": [],
   "source": [
    "# driver_path = \"C:/Users/NKA/Downloads/chromedriver.exe\"\n",
    "driver_path = r\"C:\\Users\\NKA\\Downloads\\chromedriver.exe\""
   ]
  },
  {
   "cell_type": "code",
   "execution_count": 4,
   "metadata": {},
   "outputs": [],
   "source": [
    "# Créer un navigateur\n",
    "# téléchargerr le driver\n",
    "# * Firefox : https://github.com/mozilla/geckodriver/releases\n",
    "# Chrome : https://chromedriver.chromium.org/downloads\n",
    "driver = webdriver.Chrome(executable_path= driver_path)\n",
    "# driver = webdriver.Firefox(executable_path= driver_path)"
   ]
  },
  {
   "cell_type": "code",
   "execution_count": 5,
   "metadata": {},
   "outputs": [],
   "source": [
    "driver.get(\"https://www.google.com/flights?hl=fr&gl=fr\")"
   ]
  },
  {
   "cell_type": "code",
   "execution_count": 6,
   "metadata": {},
   "outputs": [],
   "source": [
    "# page = driver.page_source\n",
    "# page[:1000]"
   ]
  },
  {
   "cell_type": "code",
   "execution_count": null,
   "metadata": {},
   "outputs": [],
   "source": []
  },
  {
   "cell_type": "code",
   "execution_count": 7,
   "metadata": {},
   "outputs": [],
   "source": [
    "origin_airport = driver.find_element_by_css_selector(\n",
    "    \"div[data-flt-ve='origin_airport'][class*='flt-input']\")"
   ]
  },
  {
   "cell_type": "code",
   "execution_count": 8,
   "metadata": {},
   "outputs": [],
   "source": [
    "# len(origin_airport)"
   ]
  },
  {
   "cell_type": "code",
   "execution_count": null,
   "metadata": {},
   "outputs": [],
   "source": []
  },
  {
   "cell_type": "code",
   "execution_count": 9,
   "metadata": {},
   "outputs": [
    {
     "data": {
      "text/plain": [
       "'<div data-flt-ve=\"origin_airport\" jsaction=\"jsl._;f_f:jsl._;ica_bc:jsl._;keydown:jsl._\" class=\"flt-input gws-flights-form__input-container gws-flights__flex-box gws-flights-form__airport-input gws-flights-form__empty gws-flights-form__swapper-right\" role=\"presentation\" jsan=\"0.data-flt-ve,22.jsaction,t-ch-jmKqQoDY,7.flt-input,7.gws-flights-form__input-container,7.gws-flights__flex-box,7.gws-flights-form__airport-input,7.gws-flights-form__empty,7.gws-flights-form__swapper-right,0.role,21.jssc\" jstcache=\"573\"><div jscontroller=\"pSNSIe\" class=\"gws-flights-widgets-inputcapturearea__capture-area-wrapper\" jsaction=\"rcuQ6b:npT2md\" jstcache=\"468\"><span jsname=\"bOjMyf\" style=\"display:none\" aria-live=\"polite\" jsvs=\"\\'bOjMyf\\';\" jsan=\"0.jsname,5.display,0.aria-live,t-uU8ghUBFeaU\" id=\"flt-ica-1\" jstcache=\"492\"> <span jsan=\"t-qoTycjZOEvo,21.jssc\" jstcache=\"489\">D\\'où partez-vous&nbsp;?</span> <jsl jstcache=\"490\"></jsl> </span><textarea jsname=\"LlUqIb\" class=\"gws-flights-widgets-inputcapturearea__capture-area\" role=\"textbox\" tabindex=\"0\" jsaction=\"keyup:dbqUTd;focus:h06R8;blur:zjh6rb\" jsvs=\"\\'LlUqIb\\';\\'keyup:dbqUTd;focus:h06R8;blur:zjh6rb\\';\" jsan=\"0.jsname,7.gws-flights-widgets-inputcapturearea__capture-area,0.role,0.tabindex,22.jsaction\" aria-labelledby=\"flt-ica-1\" jstcache=\"493\"></textarea></div><span class=\"gws-flights-form__location-icon gws-flights-form__origin-icon\" jstcache=\"469\"><span style=\"height:16px;line-height:16px;width:16px\" class=\"z1asCe y6ox5\"><svg focusable=\"false\" xmlns=\"http://www.w3.org/2000/svg\" viewBox=\"0 0 24 24\"><path d=\"M2 12C2 6.48 6.48 2 12 2s10 4.48 10 10-4.48 10-10 10S2 17.52 2 12zm10 6c3.31 0 6-2.69 6-6s-2.69-6-6-6-6 2.69-6 6 2.69 6 6 6z\"></path></svg></span></span><div class=\"gws-flights-form__location-text gws-flights__flex-filler gws-flights__ellipsize gws-flights-form__input-target gws-flights-form__empty\" aria-hidden=\"true\" jsan=\"7.gws-flights-form__location-text,7.gws-flights__flex-filler,7.gws-flights__ellipsize,7.gws-flights-form__input-target,0.aria-hidden,t-F18OH-9izcM,7.gws-flights-form__empty,21.jssc\" jstcache=\"470\"><span class=\"gws-flights-form__text-field-placeholder\" jsan=\"7.gws-flights-form__text-field-placeholder,t-qoTycjZOEvo,21.jssc\" jstcache=\"375\">D\\'où partez-vous&nbsp;?</span><span class=\"gws-flights-form__location-list\" jstcache=\"376\"></span><input style=\"display: none;\" jstcache=\"377\"></div><span style=\"display: none;\" jstcache=\"471\"></span><div class=\"gws-flights-form__swapper-half-circle\" jsan=\"7.gws-flights-form__swapper-half-circle\" jstcache=\"472\"></div></div>'"
      ]
     },
     "execution_count": 9,
     "metadata": {},
     "output_type": "execute_result"
    }
   ],
   "source": [
    "origin_airport.get_attribute(\"outerHTML\") # Pour vérifier visuellement"
   ]
  },
  {
   "cell_type": "code",
   "execution_count": null,
   "metadata": {},
   "outputs": [],
   "source": []
  },
  {
   "cell_type": "code",
   "execution_count": 10,
   "metadata": {},
   "outputs": [],
   "source": [
    "origin_airport.click() # Pour cliquer et faire apparaître le formulaire "
   ]
  },
  {
   "cell_type": "code",
   "execution_count": null,
   "metadata": {},
   "outputs": [],
   "source": []
  },
  {
   "cell_type": "code",
   "execution_count": 11,
   "metadata": {},
   "outputs": [],
   "source": [
    "# origin_airport.send_keys(\"abidjan\")"
   ]
  },
  {
   "cell_type": "code",
   "execution_count": 12,
   "metadata": {},
   "outputs": [],
   "source": [
    "origin_airport2 = driver.find_element_by_css_selector(\n",
    "    \"input[placeholder*='partez-vous']\")"
   ]
  },
  {
   "cell_type": "code",
   "execution_count": 13,
   "metadata": {},
   "outputs": [],
   "source": [
    "origin_airport2.clear() # vider la zone de saisie"
   ]
  },
  {
   "cell_type": "code",
   "execution_count": 14,
   "metadata": {},
   "outputs": [],
   "source": [
    "origin_airport2.send_keys(\"paris\") # Remplir la zone de saisie"
   ]
  },
  {
   "cell_type": "code",
   "execution_count": 15,
   "metadata": {},
   "outputs": [],
   "source": [
    "origin_airport3 = driver.find_element_by_css_selector(\n",
    "    \".fsapp-option-content .fsapp-option-city-name\")"
   ]
  },
  {
   "cell_type": "code",
   "execution_count": 16,
   "metadata": {},
   "outputs": [],
   "source": [
    "origin_airport3.click()"
   ]
  },
  {
   "cell_type": "code",
   "execution_count": null,
   "metadata": {},
   "outputs": [],
   "source": []
  },
  {
   "cell_type": "code",
   "execution_count": 17,
   "metadata": {},
   "outputs": [],
   "source": [
    "destination_airport = driver.find_element_by_css_selector(\n",
    "    \"div[data-flt-ve='destination_airport'][class*='flt-input']\")"
   ]
  },
  {
   "cell_type": "code",
   "execution_count": 18,
   "metadata": {},
   "outputs": [],
   "source": [
    "destination_airport.click()"
   ]
  },
  {
   "cell_type": "code",
   "execution_count": 20,
   "metadata": {},
   "outputs": [],
   "source": [
    "destination_airport2 = driver.find_element_by_css_selector(\n",
    "    \"input[placeholder*='allez-vous']\")"
   ]
  },
  {
   "cell_type": "code",
   "execution_count": 21,
   "metadata": {},
   "outputs": [],
   "source": [
    "destination_airport2.clear() # vider la zone de saisie"
   ]
  },
  {
   "cell_type": "code",
   "execution_count": 22,
   "metadata": {},
   "outputs": [],
   "source": [
    "destination_airport2.send_keys(\"New York\")"
   ]
  },
  {
   "cell_type": "code",
   "execution_count": 23,
   "metadata": {},
   "outputs": [],
   "source": [
    "destination_airport3 = driver.find_element_by_css_selector(\n",
    "    \".fsapp-option-content .fsapp-option-city-name\")"
   ]
  },
  {
   "cell_type": "code",
   "execution_count": 24,
   "metadata": {},
   "outputs": [],
   "source": [
    "destination_airport3.click()"
   ]
  },
  {
   "cell_type": "code",
   "execution_count": null,
   "metadata": {},
   "outputs": [],
   "source": []
  },
  {
   "cell_type": "code",
   "execution_count": 25,
   "metadata": {},
   "outputs": [],
   "source": [
    "search_button = driver.find_element_by_css_selector(\n",
    "\".gws-flights-form__search-button-wrapper floating-action-button.gws-flights-form__search-button\")"
   ]
  },
  {
   "cell_type": "code",
   "execution_count": 26,
   "metadata": {},
   "outputs": [],
   "source": [
    "search_button.click()"
   ]
  },
  {
   "cell_type": "code",
   "execution_count": 27,
   "metadata": {},
   "outputs": [],
   "source": [
    "expand_button = driver.find_element_by_css_selector(\n",
    "                        \".gws-flights-results__dominated-toggle\")"
   ]
  },
  {
   "cell_type": "code",
   "execution_count": 28,
   "metadata": {},
   "outputs": [],
   "source": [
    "expand_button.click()"
   ]
  },
  {
   "cell_type": "code",
   "execution_count": null,
   "metadata": {},
   "outputs": [],
   "source": []
  },
  {
   "cell_type": "code",
   "execution_count": 29,
   "metadata": {},
   "outputs": [],
   "source": [
    "# import requests\n",
    "# chat = requests.get(\n",
    "# \"https://lemagduchat.ouest-france.fr/images/dossiers/2018-11/chat-drole-113730.jpg\")\n",
    "# with open(\"chat.jpg\", \"wb\") as f:\n",
    "#     f.write(chat.content)"
   ]
  },
  {
   "cell_type": "code",
   "execution_count": null,
   "metadata": {},
   "outputs": [],
   "source": []
  },
  {
   "cell_type": "code",
   "execution_count": 246,
   "metadata": {},
   "outputs": [],
   "source": [
    "def remplir_depart(depart):\n",
    "    css_origin_airport = \"div[data-flt-ve='origin_airport'][class*='flt-input']\"\n",
    "    origin_airport = driver.find_element_by_css_selector(css_origin_airport)\n",
    "    origin_airport.click() # Pour cliquer et faire apparaître le formulaire \n",
    "    time.sleep(1)\n",
    "    \n",
    "    css_origin_airport2 = \"input[placeholder*='partez-vous']\"\n",
    "    origin_airport2 = driver.find_element_by_css_selector(\n",
    "                                            css_origin_airport2)\n",
    "    origin_airport2.clear()\n",
    "    origin_airport2.send_keys(depart)\n",
    "    time.sleep(3)\n",
    "\n",
    "    css_origin_airport3 = \".fsapp-option-content .fsapp-option-city-name\"\n",
    "    origin_airport3 = driver.find_element_by_css_selector(\n",
    "                                        css_origin_airport3)\n",
    "    origin_airport3.click()"
   ]
  },
  {
   "cell_type": "code",
   "execution_count": 247,
   "metadata": {},
   "outputs": [],
   "source": [
    "def remplir_arrivee(arrivee):\n",
    "    css_destination_airport = \"div[data-flt-ve='destination_airport'][class*='flt-input']\"\n",
    "    destination_airport = driver.find_element_by_css_selector(\n",
    "        css_destination_airport)\n",
    "    destination_airport.click() # Pour cliquer et faire apparaître le formulaire \n",
    "    time.sleep(1)\n",
    "    \n",
    "    css_destination_airport2 = \"input[placeholder*='allez-vous']\"\n",
    "    destination_airport2 = driver.find_element_by_css_selector(\n",
    "                                            css_destination_airport2)\n",
    "    destination_airport2.clear()\n",
    "    destination_airport2.send_keys(arrivee)\n",
    "    time.sleep(3)\n",
    "\n",
    "    css_destination_airport3 = \".fsapp-option-content .fsapp-option-city-name\"\n",
    "    destination_airport3 = driver.find_element_by_css_selector(\n",
    "                                        css_destination_airport3)\n",
    "    destination_airport3.click()"
   ]
  },
  {
   "cell_type": "code",
   "execution_count": 32,
   "metadata": {},
   "outputs": [],
   "source": [
    "def rechercher():\n",
    "    search_button = driver.find_element_by_css_selector(\n",
    "            \".gws-flights-form__search-button-wrapper \" \n",
    "        + \"floating-action-button.gws-flights-form__search-button\")\n",
    "    search_button.click()\n",
    "    \n",
    "def derouler():\n",
    "    expand_button = driver.find_element_by_css_selector(\n",
    "                        \".gws-flights-results__dominated-toggle\")\n",
    "    expand_button.click()"
   ]
  },
  {
   "cell_type": "code",
   "execution_count": 33,
   "metadata": {},
   "outputs": [],
   "source": [
    "def prix_vol(depart = \"Paris\", arrivee = \"Abidjan\"):\n",
    "    driver.get(\"https://www.google.com/flights?hl=fr&gl=fr\")\n",
    "    time.sleep(1)\n",
    "    remplir_depart(depart)\n",
    "    time.sleep(2)\n",
    "    remplir_arrivee(arrivee)\n",
    "    rechercher()\n",
    "    time.sleep(2)\n",
    "    derouler()"
   ]
  },
  {
   "cell_type": "code",
   "execution_count": 35,
   "metadata": {},
   "outputs": [],
   "source": [
    "prix_vol(\"Paris\", \"New York\")"
   ]
  },
  {
   "cell_type": "code",
   "execution_count": null,
   "metadata": {},
   "outputs": [],
   "source": []
  },
  {
   "cell_type": "code",
   "execution_count": 36,
   "metadata": {},
   "outputs": [],
   "source": [
    "from bs4 import BeautifulSoup"
   ]
  },
  {
   "cell_type": "code",
   "execution_count": 96,
   "metadata": {},
   "outputs": [],
   "source": [
    "html = driver.find_element_by_css_selector(\"html\")\n",
    "page_source = html.get_attribute(\"outerHTML\")"
   ]
  },
  {
   "cell_type": "code",
   "execution_count": 97,
   "metadata": {},
   "outputs": [],
   "source": [
    "soup = BeautifulSoup(page_source)"
   ]
  },
  {
   "cell_type": "code",
   "execution_count": null,
   "metadata": {},
   "outputs": [],
   "source": []
  },
  {
   "cell_type": "markdown",
   "metadata": {},
   "source": [
    "### Sélection  de toutes les lignes de la table"
   ]
  },
  {
   "cell_type": "code",
   "execution_count": 98,
   "metadata": {},
   "outputs": [],
   "source": [
    "rows = soup.select( \n",
    " \".gws-flights-results__result-list .gws-flights-results__result-item\")"
   ]
  },
  {
   "cell_type": "code",
   "execution_count": 99,
   "metadata": {},
   "outputs": [],
   "source": [
    "row = rows[0]"
   ]
  },
  {
   "cell_type": "markdown",
   "metadata": {},
   "source": [
    "### Block N° 2 : Temps de vol & compagnie"
   ]
  },
  {
   "cell_type": "code",
   "execution_count": 179,
   "metadata": {},
   "outputs": [],
   "source": [
    "time_block = row.select_one(\".gws-flights-results__itinerary-times\")"
   ]
  },
  {
   "cell_type": "code",
   "execution_count": 180,
   "metadata": {},
   "outputs": [
    {
     "data": {
      "text/plain": [
       "<div class=\"gws-flights-results__itinerary-times gws-flights__ellipsize\" data-animation-slideout=\"\"> <div class=\"gws-flights-results__times-row\"> <div class=\"gws-flights-results__times flt-subhead1\"><span> <span jsaction=\"mouseenter:pCNdcd;mouseleave:QsRKXb\" jscontroller=\"lLN5lc\" jsdata=\"Dij6Dd;;4458\"> <span>17:10</span> </span> </span> – <span> <span jsaction=\"mouseenter:pCNdcd;mouseleave:QsRKXb\" jscontroller=\"lLN5lc\" jsdata=\"Dij6Dd;;4459\"> <span>12:55</span><span class=\"gws-flights__offset-days\">+1</span> </span> </span> </div> </div> <div class=\"gws-flights-results__carriers gws-flights__ellipsize gws-flights__flex-box gws-flights__align-center flt-caption\"> <span class=\"gws-flights__ellipsize\"><span><span>Air Europa</span></span><span><span>, </span><span>Delta</span></span></span> <span class=\"gws-flights-results__airline-extra-info gws-flights__ellipsize\"> <span class=\"gws-flights-results__disclosure\"></span> </span> </div> </div>"
      ]
     },
     "execution_count": 180,
     "metadata": {},
     "output_type": "execute_result"
    }
   ],
   "source": [
    "time_block"
   ]
  },
  {
   "cell_type": "code",
   "execution_count": null,
   "metadata": {},
   "outputs": [],
   "source": []
  },
  {
   "cell_type": "code",
   "execution_count": 181,
   "metadata": {},
   "outputs": [],
   "source": [
    "# with open(\"time_block.html\", \"w\")  as f:\n",
    "#     f.write(str(time_block))"
   ]
  },
  {
   "cell_type": "code",
   "execution_count": 182,
   "metadata": {},
   "outputs": [],
   "source": [
    "# spans = time_block.select(\"span>span>span\")\n",
    "# spans"
   ]
  },
  {
   "cell_type": "code",
   "execution_count": 189,
   "metadata": {},
   "outputs": [
    {
     "data": {
      "text/plain": [
       "2"
      ]
     },
     "execution_count": 189,
     "metadata": {},
     "output_type": "execute_result"
    }
   ],
   "source": [
    "times = time_block.select(\n",
    "    \".gws-flights-results__times [jscontroller] span:not([class])\")\n",
    "len(times)"
   ]
  },
  {
   "cell_type": "code",
   "execution_count": 190,
   "metadata": {},
   "outputs": [],
   "source": [
    "time1 = times[1]"
   ]
  },
  {
   "cell_type": "code",
   "execution_count": 191,
   "metadata": {},
   "outputs": [
    {
     "data": {
      "text/plain": [
       "<span>12:55</span>"
      ]
     },
     "execution_count": 191,
     "metadata": {},
     "output_type": "execute_result"
    }
   ],
   "source": [
    "time1"
   ]
  },
  {
   "cell_type": "code",
   "execution_count": null,
   "metadata": {},
   "outputs": [],
   "source": []
  },
  {
   "cell_type": "code",
   "execution_count": null,
   "metadata": {},
   "outputs": [],
   "source": []
  },
  {
   "cell_type": "code",
   "execution_count": null,
   "metadata": {},
   "outputs": [],
   "source": []
  },
  {
   "cell_type": "code",
   "execution_count": 105,
   "metadata": {},
   "outputs": [],
   "source": [
    "offset_days = time_block.select_one(\".gws-flights__offset-days\")\n",
    "offset_days"
   ]
  },
  {
   "cell_type": "code",
   "execution_count": 106,
   "metadata": {},
   "outputs": [
    {
     "data": {
      "text/plain": [
       "<span class=\"gws-flights__ellipsize\"><span><span>British Airways</span></span></span>"
      ]
     },
     "execution_count": 106,
     "metadata": {},
     "output_type": "execute_result"
    }
   ],
   "source": [
    "company = time_block.select_one(\n",
    "    \".gws-flights-results__carriers .gws-flights__ellipsize\")\n",
    "company"
   ]
  },
  {
   "cell_type": "code",
   "execution_count": 107,
   "metadata": {},
   "outputs": [
    {
     "data": {
      "text/plain": [
       "'   American, Finnair, Iberia   '"
      ]
     },
     "execution_count": 107,
     "metadata": {},
     "output_type": "execute_result"
    }
   ],
   "source": [
    "extra_infos = time_block.select_one(\n",
    "    \".gws-flights-results__airline-extra-info.gws-flights__ellipsize\")\n",
    "extra_infos.text"
   ]
  },
  {
   "cell_type": "code",
   "execution_count": 108,
   "metadata": {},
   "outputs": [],
   "source": [
    "# len(time_block.select(\".gws-flights-results__times\"))"
   ]
  },
  {
   "cell_type": "code",
   "execution_count": null,
   "metadata": {},
   "outputs": [],
   "source": []
  },
  {
   "cell_type": "code",
   "execution_count": 109,
   "metadata": {},
   "outputs": [],
   "source": [
    "# time_block_values = {\"departure\": spans[0].text,\n",
    "#                      \"arrival\":  spans[1].text,\n",
    "#                      \"company\":  spans[2].text\n",
    "#                     }\n",
    "# time_block_values"
   ]
  },
  {
   "cell_type": "code",
   "execution_count": 110,
   "metadata": {},
   "outputs": [
    {
     "data": {
      "text/plain": [
       "{'departure': ' 16:20 ',\n",
       " 'arrival': ' 21:10 ',\n",
       " 'offset_days': None,\n",
       " 'company': 'British Airways',\n",
       " 'extra_infos': '   American, Finnair, Iberia   '}"
      ]
     },
     "execution_count": 110,
     "metadata": {},
     "output_type": "execute_result"
    }
   ],
   "source": [
    "time_block_values = {\"departure\": times[0].text,\n",
    "                     \"arrival\":  times[1].text,\n",
    "    \"offset_days\": offset_days.text if offset_days else None,\n",
    "                     \"company\":  company.text,\n",
    "                     \"extra_infos\":  extra_infos.text,\n",
    "                    }\n",
    "time_block_values"
   ]
  },
  {
   "cell_type": "code",
   "execution_count": null,
   "metadata": {},
   "outputs": [],
   "source": []
  },
  {
   "cell_type": "code",
   "execution_count": 192,
   "metadata": {},
   "outputs": [],
   "source": [
    "def get_time_block(row) :\n",
    "    time_block = row.select_one(\".gws-flights-results__itinerary-times\")\n",
    "    times = time_block.select(\n",
    "        \".gws-flights-results__times [jscontroller] span:not([class])\")\n",
    "    offset_days = time_block.select_one(\".gws-flights__offset-days\")\n",
    "    company = time_block.select_one(\n",
    "            \".gws-flights-results__carriers .gws-flights__ellipsize\")\n",
    "    \n",
    "    extra_infos = time_block.select_one(\n",
    "    \".gws-flights-results__airline-extra-info.gws-flights__ellipsize\")\n",
    "    \n",
    "    time_block_values = {\n",
    "        \"departure\": times[0].text,\n",
    "        \"arrival\":  times[1].text,\n",
    "        \"offset_days\": offset_days.text if offset_days else None,\n",
    "        \"company\":  company.text,\n",
    "        \"extra_infos\":  extra_infos.text,\n",
    "         }\n",
    "    return time_block_values"
   ]
  },
  {
   "cell_type": "code",
   "execution_count": 193,
   "metadata": {},
   "outputs": [
    {
     "data": {
      "text/plain": [
       "{'departure': '17:10',\n",
       " 'arrival': '12:55',\n",
       " 'offset_days': '+1',\n",
       " 'company': 'Air Europa, Delta',\n",
       " 'extra_infos': '  '}"
      ]
     },
     "execution_count": 193,
     "metadata": {},
     "output_type": "execute_result"
    }
   ],
   "source": [
    "get_time_block(row)"
   ]
  },
  {
   "cell_type": "code",
   "execution_count": null,
   "metadata": {},
   "outputs": [],
   "source": []
  },
  {
   "cell_type": "markdown",
   "metadata": {},
   "source": [
    "### Block N° 4 : escales"
   ]
  },
  {
   "cell_type": "code",
   "execution_count": 194,
   "metadata": {},
   "outputs": [
    {
     "data": {
      "text/plain": [
       "<div class=\"gws-flights-results__itinerary-stops gws-flights__ellipsize\" data-animation-fadeout=\"\"> <div> <div class=\"gws-flights-results__stops flt-subhead1Normal gws-flights-results__has-warning-icon\"> <div><span>1 escale</span></div> <div class=\"gws-flights-results__warning-icon\" jsaction=\"mouseenter:pCNdcd;mouseleave:QsRKXb\" jscontroller=\"aNVWke\" jsdata=\"FyF6de;;2389\"> </div> </div> </div> <div class=\"gws-flights-results__layover-time flt-caption\"> <span>15 h 5 min</span> <span><span data-airportcode=\"MAD\" jscontroller=\"U6dg7d\"><span jsaction=\"mouseenter:pCNdcd;mouseleave:QsRKXb\">MAD</span></span></span> </div> </div>"
      ]
     },
     "execution_count": 194,
     "metadata": {},
     "output_type": "execute_result"
    }
   ],
   "source": [
    "stops_block = row.select_one(\".gws-flights-results__itinerary-stops\")\n",
    "stops_block"
   ]
  },
  {
   "cell_type": "code",
   "execution_count": 195,
   "metadata": {},
   "outputs": [
    {
     "data": {
      "text/plain": [
       "'1'"
      ]
     },
     "execution_count": 195,
     "metadata": {},
     "output_type": "execute_result"
    }
   ],
   "source": [
    "nb_stops = stops_block.select_one(\n",
    "    \".gws-flights-results__stops span\").text\n",
    "nb_stops = nb_stops.split(\"\\xa0\")[0]\n",
    "nb_stops"
   ]
  },
  {
   "cell_type": "code",
   "execution_count": 196,
   "metadata": {},
   "outputs": [
    {
     "data": {
      "text/plain": [
       "' 15\\xa0h\\xa05\\xa0min MAD '"
      ]
     },
     "execution_count": 196,
     "metadata": {},
     "output_type": "execute_result"
    }
   ],
   "source": [
    "details  = stops_block.select_one(\n",
    "    \".gws-flights-results__layover-time\").text\n",
    "# duration = duration.split(\"\\xa0\")\n",
    "details"
   ]
  },
  {
   "cell_type": "code",
   "execution_count": 197,
   "metadata": {},
   "outputs": [],
   "source": [
    "def get_stops_block(row):\n",
    "    stops_block = row.select_one(\".gws-flights-results__itinerary-stops\")\n",
    "    nb_stops = stops_block.select_one(\".gws-flights-results__stops span\").text\n",
    "    nb_stops = nb_stops.split(\"\\xa0\")[0]\n",
    "    \n",
    "    details  = stops_block.select_one(\n",
    "                    \".gws-flights-results__layover-time span\")\n",
    "    details =  details.text if details else \"\"\n",
    "    \n",
    "    return {\"nb_stops\":nb_stops, \"stops_details\": details }"
   ]
  },
  {
   "cell_type": "code",
   "execution_count": 198,
   "metadata": {},
   "outputs": [
    {
     "data": {
      "text/plain": [
       "{'nb_stops': '1', 'stops_details': '1\\xa0h\\xa030\\xa0min'}"
      ]
     },
     "execution_count": 198,
     "metadata": {},
     "output_type": "execute_result"
    }
   ],
   "source": [
    "get_stops_block(rows[0])"
   ]
  },
  {
   "cell_type": "code",
   "execution_count": null,
   "metadata": {},
   "outputs": [],
   "source": []
  },
  {
   "cell_type": "markdown",
   "metadata": {},
   "source": [
    "### Block N° 5 : les prix"
   ]
  },
  {
   "cell_type": "code",
   "execution_count": 199,
   "metadata": {},
   "outputs": [
    {
     "data": {
      "text/plain": [
       "<div class=\"gws-flights-results__itinerary-price\" jscontroller=\"OM4EZb\"> <div class=\"flt-subhead1 gws-flights-results__check-price\">  Prix non disponible </div> </div>"
      ]
     },
     "execution_count": 199,
     "metadata": {},
     "output_type": "execute_result"
    }
   ],
   "source": [
    "price_block =  row.select_one(\".gws-flights-results__itinerary-price\")\n",
    "price_block"
   ]
  },
  {
   "cell_type": "code",
   "execution_count": 200,
   "metadata": {},
   "outputs": [
    {
     "ename": "AttributeError",
     "evalue": "'NoneType' object has no attribute 'text'",
     "output_type": "error",
     "traceback": [
      "\u001b[1;31m---------------------------------------------------------------------------\u001b[0m",
      "\u001b[1;31mAttributeError\u001b[0m                            Traceback (most recent call last)",
      "\u001b[1;32m<ipython-input-200-570fb7fb649c>\u001b[0m in \u001b[0;36m<module>\u001b[1;34m\u001b[0m\n\u001b[0;32m      1\u001b[0m prices = price_block.select_one(\n\u001b[1;32m----> 2\u001b[1;33m     \".gws-flights-results__price\").text.strip()#.split(\"\\xa0\")\n\u001b[0m\u001b[0;32m      3\u001b[0m \u001b[0mprices\u001b[0m  \u001b[1;33m=\u001b[0m \u001b[0mre\u001b[0m\u001b[1;33m.\u001b[0m\u001b[0msub\u001b[0m\u001b[1;33m(\u001b[0m\u001b[1;34m\"[^\\w€]\"\u001b[0m\u001b[1;33m,\u001b[0m \u001b[1;34m\"\"\u001b[0m\u001b[1;33m,\u001b[0m \u001b[0mprices\u001b[0m\u001b[1;33m)\u001b[0m\u001b[1;33m\u001b[0m\u001b[1;33m\u001b[0m\u001b[0m\n\u001b[0;32m      4\u001b[0m \u001b[0mprices\u001b[0m\u001b[1;33m\u001b[0m\u001b[1;33m\u001b[0m\u001b[0m\n",
      "\u001b[1;31mAttributeError\u001b[0m: 'NoneType' object has no attribute 'text'"
     ]
    }
   ],
   "source": [
    "prices = price_block.select_one(\n",
    "    \".gws-flights-results__price\").text.strip()#.split(\"\\xa0\")\n",
    "prices  = re.sub(\"[^\\w€]\", \"\", prices)\n",
    "prices"
   ]
  },
  {
   "cell_type": "code",
   "execution_count": 206,
   "metadata": {},
   "outputs": [],
   "source": [
    "def get_price_block(row):\n",
    "    price_block =  row.select_one(\".gws-flights-results__itinerary-price\")\n",
    "    price = price_block.select_one(\n",
    "    \".gws-flights-results__price\")\n",
    "    price = price.text if price else \"\"\n",
    "    price  = re.sub(\"[^\\w€]\", \"\", price)\n",
    "    \n",
    "    price_annotation  = price_block.select_one(\n",
    "        \".gws-flights-results__price-annotation\")\n",
    "    price_annotation = price_annotation.text if price_annotation else \"\"\n",
    "    \n",
    "    return {\"price\": price, \"price_annotation\": price_annotation}"
   ]
  },
  {
   "cell_type": "code",
   "execution_count": 207,
   "metadata": {},
   "outputs": [
    {
     "data": {
      "text/plain": [
       "{'price': '', 'price_annotation': ''}"
      ]
     },
     "execution_count": 207,
     "metadata": {},
     "output_type": "execute_result"
    }
   ],
   "source": [
    "get_price_block(row)"
   ]
  },
  {
   "cell_type": "code",
   "execution_count": null,
   "metadata": {},
   "outputs": [],
   "source": []
  },
  {
   "cell_type": "code",
   "execution_count": 208,
   "metadata": {},
   "outputs": [],
   "source": [
    "# price = prices[0]\n",
    "# currency = prices[1]\n",
    "# price, currency"
   ]
  },
  {
   "cell_type": "code",
   "execution_count": 209,
   "metadata": {},
   "outputs": [
    {
     "data": {
      "text/plain": [
       "291"
      ]
     },
     "execution_count": 209,
     "metadata": {},
     "output_type": "execute_result"
    }
   ],
   "source": [
    "len(rows)"
   ]
  },
  {
   "cell_type": "markdown",
   "metadata": {},
   "source": [
    "### Block 3 : Duration"
   ]
  },
  {
   "cell_type": "code",
   "execution_count": 210,
   "metadata": {},
   "outputs": [
    {
     "data": {
      "text/plain": [
       "<div class=\"gws-flights-results__itinerary-duration gws-flights__ellipsize\" data-animation-fadeout=\"\"> <div class=\"gws-flights-results__duration flt-subhead1Normal\">25 h 45 min</div> <div> <div class=\"gws-flights-results__airports flt-caption\"> <span data-airportcode=\"ORY\" jsaction=\"mouseenter:pCNdcd;mouseleave:QsRKXb\" jscontroller=\"U6dg7d\">ORY</span>–<span data-airportcode=\"JFK\" jsaction=\"mouseenter:pCNdcd;mouseleave:QsRKXb\" jscontroller=\"U6dg7d\">JFK</span> </div> </div> </div>"
      ]
     },
     "execution_count": 210,
     "metadata": {},
     "output_type": "execute_result"
    }
   ],
   "source": [
    "duration_block = row.select_one(\n",
    "    \".gws-flights-results__itinerary-duration\")\n",
    "duration_block"
   ]
  },
  {
   "cell_type": "code",
   "execution_count": 211,
   "metadata": {},
   "outputs": [
    {
     "data": {
      "text/plain": [
       "'25h45min'"
      ]
     },
     "execution_count": 211,
     "metadata": {},
     "output_type": "execute_result"
    }
   ],
   "source": [
    "flight_duration = duration_block.select_one(\n",
    "    \".gws-flights-results__duration\").text.replace(\"\\xa0\", \"\")\n",
    "flight_duration"
   ]
  },
  {
   "cell_type": "code",
   "execution_count": 212,
   "metadata": {},
   "outputs": [
    {
     "data": {
      "text/plain": [
       "('ORY', 'JFK')"
      ]
     },
     "execution_count": 212,
     "metadata": {},
     "output_type": "execute_result"
    }
   ],
   "source": [
    "airports = duration_block.select(\n",
    "    \".gws-flights-results__airports span[data-airportcode]\")\n",
    "departure = airports[0].text\n",
    "arrival = airports[1].text\n",
    "departure, arrival"
   ]
  },
  {
   "cell_type": "code",
   "execution_count": 213,
   "metadata": {},
   "outputs": [],
   "source": [
    "def get_duration_block(row):\n",
    "    duration_block = row.select_one(\n",
    "    \".gws-flights-results__itinerary-duration\")\n",
    "    flight_duration = duration_block.select_one(\n",
    "    \".gws-flights-results__duration\").text.replace(\"\\xa0\", \"\")\n",
    "    return {\"flight_duration\": flight_duration}"
   ]
  },
  {
   "cell_type": "code",
   "execution_count": 214,
   "metadata": {},
   "outputs": [
    {
     "data": {
      "text/plain": [
       "{'flight_duration': '25h45min'}"
      ]
     },
     "execution_count": 214,
     "metadata": {},
     "output_type": "execute_result"
    }
   ],
   "source": [
    "get_duration_block(row)"
   ]
  },
  {
   "cell_type": "code",
   "execution_count": 215,
   "metadata": {},
   "outputs": [
    {
     "data": {
      "text/plain": [
       "(<function __main__.get_time_block(row)>,\n",
       " <function __main__.get_stops_block(row)>,\n",
       " <function __main__.get_price_block(row)>,\n",
       " <function __main__.get_duration_block(row)>)"
      ]
     },
     "execution_count": 215,
     "metadata": {},
     "output_type": "execute_result"
    }
   ],
   "source": [
    "get_time_block, get_stops_block, get_price_block,get_duration_block"
   ]
  },
  {
   "cell_type": "code",
   "execution_count": 216,
   "metadata": {},
   "outputs": [],
   "source": [
    "# dict1 = {\"a\": 1, \"b\": 2}\n",
    "# print(\"dict1 avant:\", dict1)\n",
    "\n",
    "# dict2 = {\"c\": 3, \"d\": 4, \"e\": 5}\n",
    "# print(\"dict2 avant: \", dict2)\n",
    "\n",
    "# dict1.update(dict2)\n",
    "\n",
    "# print(\"dict1 après:\", dict1)\n",
    "# print(\"dict2 après: \", dict2)"
   ]
  },
  {
   "cell_type": "code",
   "execution_count": null,
   "metadata": {},
   "outputs": [],
   "source": []
  },
  {
   "cell_type": "code",
   "execution_count": null,
   "metadata": {},
   "outputs": [],
   "source": []
  },
  {
   "cell_type": "code",
   "execution_count": null,
   "metadata": {},
   "outputs": [],
   "source": []
  },
  {
   "cell_type": "code",
   "execution_count": 217,
   "metadata": {},
   "outputs": [],
   "source": [
    "def get_row(row) :\n",
    "    time_block =  get_time_block(row)\n",
    "    stops_block = get_stops_block(row)\n",
    "    price_block = get_price_block(row)\n",
    "    duration_block = get_duration_block(row)\n",
    "    \n",
    "    row_values = time_block\n",
    "    row_values.update(stops_block)\n",
    "    row_values.update(price_block)\n",
    "    row_values.update(duration_block)\n",
    "    \n",
    "    return row_values"
   ]
  },
  {
   "cell_type": "code",
   "execution_count": 218,
   "metadata": {},
   "outputs": [
    {
     "data": {
      "text/plain": [
       "{'departure': '17:10',\n",
       " 'arrival': '12:55',\n",
       " 'offset_days': '+1',\n",
       " 'company': 'Air Europa, Delta',\n",
       " 'extra_infos': '  ',\n",
       " 'nb_stops': '1',\n",
       " 'stops_details': '15\\xa0h\\xa05\\xa0min',\n",
       " 'price': '',\n",
       " 'price_annotation': '',\n",
       " 'flight_duration': '25h45min'}"
      ]
     },
     "execution_count": 218,
     "metadata": {},
     "output_type": "execute_result"
    }
   ],
   "source": [
    "get_row(row)"
   ]
  },
  {
   "cell_type": "code",
   "execution_count": null,
   "metadata": {},
   "outputs": [],
   "source": []
  },
  {
   "cell_type": "code",
   "execution_count": 222,
   "metadata": {},
   "outputs": [],
   "source": [
    "data = []\n",
    "for row in rows:\n",
    "    try :\n",
    "        data.append(get_row(row))\n",
    "    except Exception as e:\n",
    "        print(e)"
   ]
  },
  {
   "cell_type": "code",
   "execution_count": 223,
   "metadata": {},
   "outputs": [
    {
     "data": {
      "text/plain": [
       "{'departure': '17:10',\n",
       " 'arrival': '12:55',\n",
       " 'offset_days': '+1',\n",
       " 'company': 'Air Europa, Delta',\n",
       " 'extra_infos': '  '}"
      ]
     },
     "execution_count": 223,
     "metadata": {},
     "output_type": "execute_result"
    }
   ],
   "source": [
    "get_time_block(row)"
   ]
  },
  {
   "cell_type": "code",
   "execution_count": 224,
   "metadata": {},
   "outputs": [
    {
     "data": {
      "text/plain": [
       "291"
      ]
     },
     "execution_count": 224,
     "metadata": {},
     "output_type": "execute_result"
    }
   ],
   "source": [
    "len(data)"
   ]
  },
  {
   "cell_type": "code",
   "execution_count": 225,
   "metadata": {},
   "outputs": [
    {
     "data": {
      "text/plain": [
       "{'departure': '16:20',\n",
       " 'arrival': '21:10',\n",
       " 'offset_days': None,\n",
       " 'company': 'British Airways',\n",
       " 'extra_infos': '   American, Finnair, Iberia   ',\n",
       " 'nb_stops': '1',\n",
       " 'stops_details': '1\\xa0h\\xa030\\xa0min',\n",
       " 'price': '378€',\n",
       " 'price_annotation': 'aller-retour',\n",
       " 'flight_duration': '10h50min'}"
      ]
     },
     "execution_count": 225,
     "metadata": {},
     "output_type": "execute_result"
    }
   ],
   "source": [
    "data[0]"
   ]
  },
  {
   "cell_type": "code",
   "execution_count": null,
   "metadata": {},
   "outputs": [],
   "source": []
  },
  {
   "cell_type": "code",
   "execution_count": 226,
   "metadata": {},
   "outputs": [],
   "source": [
    "import pandas as pd"
   ]
  },
  {
   "cell_type": "code",
   "execution_count": 234,
   "metadata": {},
   "outputs": [
    {
     "data": {
      "text/html": [
       "<div>\n",
       "<style scoped>\n",
       "    .dataframe tbody tr th:only-of-type {\n",
       "        vertical-align: middle;\n",
       "    }\n",
       "\n",
       "    .dataframe tbody tr th {\n",
       "        vertical-align: top;\n",
       "    }\n",
       "\n",
       "    .dataframe thead th {\n",
       "        text-align: right;\n",
       "    }\n",
       "</style>\n",
       "<table border=\"1\" class=\"dataframe\">\n",
       "  <thead>\n",
       "    <tr style=\"text-align: right;\">\n",
       "      <th></th>\n",
       "      <th>departure</th>\n",
       "      <th>arrival</th>\n",
       "      <th>offset_days</th>\n",
       "      <th>company</th>\n",
       "      <th>extra_infos</th>\n",
       "      <th>nb_stops</th>\n",
       "      <th>stops_details</th>\n",
       "      <th>price</th>\n",
       "      <th>price_annotation</th>\n",
       "      <th>flight_duration</th>\n",
       "    </tr>\n",
       "  </thead>\n",
       "  <tbody>\n",
       "    <tr>\n",
       "      <td>0</td>\n",
       "      <td>16:20</td>\n",
       "      <td>21:10</td>\n",
       "      <td>None</td>\n",
       "      <td>British Airways</td>\n",
       "      <td>American, Finnair, Iberia</td>\n",
       "      <td>1</td>\n",
       "      <td>1 h 30 min</td>\n",
       "      <td>378€</td>\n",
       "      <td>aller-retour</td>\n",
       "      <td>10h50min</td>\n",
       "    </tr>\n",
       "    <tr>\n",
       "      <td>1</td>\n",
       "      <td>18:05</td>\n",
       "      <td>20:30</td>\n",
       "      <td>None</td>\n",
       "      <td>Norwegian</td>\n",
       "      <td></td>\n",
       "      <td>Sans escale</td>\n",
       "      <td></td>\n",
       "      <td>463€</td>\n",
       "      <td>aller-retour</td>\n",
       "      <td>8h25min</td>\n",
       "    </tr>\n",
       "    <tr>\n",
       "      <td>2</td>\n",
       "      <td>13:20</td>\n",
       "      <td>15:55</td>\n",
       "      <td>None</td>\n",
       "      <td>Air France</td>\n",
       "      <td>Delta</td>\n",
       "      <td>Sans escale</td>\n",
       "      <td></td>\n",
       "      <td>501€</td>\n",
       "      <td>aller-retour</td>\n",
       "      <td>8h35min</td>\n",
       "    </tr>\n",
       "    <tr>\n",
       "      <td>3</td>\n",
       "      <td>10:05</td>\n",
       "      <td>14:20</td>\n",
       "      <td>+1</td>\n",
       "      <td>Austrian</td>\n",
       "      <td></td>\n",
       "      <td>1</td>\n",
       "      <td>22 h 10 min</td>\n",
       "      <td>336€</td>\n",
       "      <td>aller-retour</td>\n",
       "      <td>34h15min</td>\n",
       "    </tr>\n",
       "    <tr>\n",
       "      <td>4</td>\n",
       "      <td>20:15</td>\n",
       "      <td>14:20</td>\n",
       "      <td>+1</td>\n",
       "      <td>Austrian</td>\n",
       "      <td></td>\n",
       "      <td>1</td>\n",
       "      <td>12 h 0 min</td>\n",
       "      <td>336€</td>\n",
       "      <td>aller-retour</td>\n",
       "      <td>24h5min</td>\n",
       "    </tr>\n",
       "    <tr>\n",
       "      <td>5</td>\n",
       "      <td>06:10</td>\n",
       "      <td>19:05</td>\n",
       "      <td>None</td>\n",
       "      <td>Lufthansa</td>\n",
       "      <td>United</td>\n",
       "      <td>1</td>\n",
       "      <td>8 h 10 min</td>\n",
       "      <td>344€</td>\n",
       "      <td>aller-retour</td>\n",
       "      <td>18h55min</td>\n",
       "    </tr>\n",
       "    <tr>\n",
       "      <td>6</td>\n",
       "      <td>09:10</td>\n",
       "      <td>19:05</td>\n",
       "      <td>None</td>\n",
       "      <td>Lufthansa</td>\n",
       "      <td>Vol opéré par Lufthansa CityLine</td>\n",
       "      <td>1</td>\n",
       "      <td>5 h 10 min</td>\n",
       "      <td>344€</td>\n",
       "      <td>aller-retour</td>\n",
       "      <td>15h55min</td>\n",
       "    </tr>\n",
       "    <tr>\n",
       "      <td>7</td>\n",
       "      <td>11:20</td>\n",
       "      <td>19:05</td>\n",
       "      <td>None</td>\n",
       "      <td>Lufthansa</td>\n",
       "      <td>United</td>\n",
       "      <td>1</td>\n",
       "      <td>3 h 0 min</td>\n",
       "      <td>344€</td>\n",
       "      <td>aller-retour</td>\n",
       "      <td>13h45min</td>\n",
       "    </tr>\n",
       "    <tr>\n",
       "      <td>8</td>\n",
       "      <td>09:55</td>\n",
       "      <td>20:25</td>\n",
       "      <td>None</td>\n",
       "      <td>SWISS</td>\n",
       "      <td>United</td>\n",
       "      <td>1</td>\n",
       "      <td>6 h 5 min</td>\n",
       "      <td>345€</td>\n",
       "      <td>aller-retour</td>\n",
       "      <td>16h30min</td>\n",
       "    </tr>\n",
       "    <tr>\n",
       "      <td>9</td>\n",
       "      <td>15:05</td>\n",
       "      <td>20:25</td>\n",
       "      <td>None</td>\n",
       "      <td>SWISS</td>\n",
       "      <td>United</td>\n",
       "      <td>1</td>\n",
       "      <td>55 min</td>\n",
       "      <td>345€</td>\n",
       "      <td>aller-retour</td>\n",
       "      <td>11h20min</td>\n",
       "    </tr>\n",
       "  </tbody>\n",
       "</table>\n",
       "</div>"
      ],
      "text/plain": [
       "  departure arrival offset_days          company  \\\n",
       "0     16:20   21:10        None  British Airways   \n",
       "1     18:05   20:30        None        Norwegian   \n",
       "2     13:20   15:55        None       Air France   \n",
       "3     10:05   14:20          +1         Austrian   \n",
       "4     20:15   14:20          +1         Austrian   \n",
       "5     06:10   19:05        None        Lufthansa   \n",
       "6     09:10   19:05        None        Lufthansa   \n",
       "7     11:20   19:05        None        Lufthansa   \n",
       "8     09:55   20:25        None            SWISS   \n",
       "9     15:05   20:25        None            SWISS   \n",
       "\n",
       "                          extra_infos     nb_stops stops_details price  \\\n",
       "0        American, Finnair, Iberia               1    1 h 30 min  378€   \n",
       "1                                      Sans escale                463€   \n",
       "2                            Delta     Sans escale                501€   \n",
       "3                                                1   22 h 10 min  336€   \n",
       "4                                                1    12 h 0 min  336€   \n",
       "5                           United               1    8 h 10 min  344€   \n",
       "6   Vol opéré par Lufthansa CityLine             1    5 h 10 min  344€   \n",
       "7                           United               1     3 h 0 min  344€   \n",
       "8                           United               1     6 h 5 min  345€   \n",
       "9                           United               1        55 min  345€   \n",
       "\n",
       "  price_annotation flight_duration  \n",
       "0     aller-retour        10h50min  \n",
       "1     aller-retour         8h25min  \n",
       "2     aller-retour         8h35min  \n",
       "3     aller-retour        34h15min  \n",
       "4     aller-retour         24h5min  \n",
       "5     aller-retour        18h55min  \n",
       "6     aller-retour        15h55min  \n",
       "7     aller-retour        13h45min  \n",
       "8     aller-retour        16h30min  \n",
       "9     aller-retour        11h20min  "
      ]
     },
     "execution_count": 234,
     "metadata": {},
     "output_type": "execute_result"
    }
   ],
   "source": [
    "df =  pd.DataFrame(data)\n",
    "\n",
    "df.head(10)"
   ]
  },
  {
   "cell_type": "code",
   "execution_count": 235,
   "metadata": {},
   "outputs": [
    {
     "data": {
      "text/html": [
       "<div>\n",
       "<style scoped>\n",
       "    .dataframe tbody tr th:only-of-type {\n",
       "        vertical-align: middle;\n",
       "    }\n",
       "\n",
       "    .dataframe tbody tr th {\n",
       "        vertical-align: top;\n",
       "    }\n",
       "\n",
       "    .dataframe thead th {\n",
       "        text-align: right;\n",
       "    }\n",
       "</style>\n",
       "<table border=\"1\" class=\"dataframe\">\n",
       "  <thead>\n",
       "    <tr style=\"text-align: right;\">\n",
       "      <th></th>\n",
       "      <th>departure</th>\n",
       "      <th>arrival</th>\n",
       "      <th>offset_days</th>\n",
       "      <th>company</th>\n",
       "      <th>extra_infos</th>\n",
       "      <th>nb_stops</th>\n",
       "      <th>stops_details</th>\n",
       "      <th>price</th>\n",
       "      <th>price_annotation</th>\n",
       "      <th>flight_duration</th>\n",
       "      <th>price_clean</th>\n",
       "    </tr>\n",
       "  </thead>\n",
       "  <tbody>\n",
       "    <tr>\n",
       "      <td>0</td>\n",
       "      <td>16:20</td>\n",
       "      <td>21:10</td>\n",
       "      <td>None</td>\n",
       "      <td>British Airways</td>\n",
       "      <td>American, Finnair, Iberia</td>\n",
       "      <td>1</td>\n",
       "      <td>1 h 30 min</td>\n",
       "      <td>378€</td>\n",
       "      <td>aller-retour</td>\n",
       "      <td>10h50min</td>\n",
       "      <td>378.0</td>\n",
       "    </tr>\n",
       "    <tr>\n",
       "      <td>1</td>\n",
       "      <td>18:05</td>\n",
       "      <td>20:30</td>\n",
       "      <td>None</td>\n",
       "      <td>Norwegian</td>\n",
       "      <td></td>\n",
       "      <td>Sans escale</td>\n",
       "      <td></td>\n",
       "      <td>463€</td>\n",
       "      <td>aller-retour</td>\n",
       "      <td>8h25min</td>\n",
       "      <td>463.0</td>\n",
       "    </tr>\n",
       "    <tr>\n",
       "      <td>2</td>\n",
       "      <td>13:20</td>\n",
       "      <td>15:55</td>\n",
       "      <td>None</td>\n",
       "      <td>Air France</td>\n",
       "      <td>Delta</td>\n",
       "      <td>Sans escale</td>\n",
       "      <td></td>\n",
       "      <td>501€</td>\n",
       "      <td>aller-retour</td>\n",
       "      <td>8h35min</td>\n",
       "      <td>501.0</td>\n",
       "    </tr>\n",
       "    <tr>\n",
       "      <td>3</td>\n",
       "      <td>10:05</td>\n",
       "      <td>14:20</td>\n",
       "      <td>+1</td>\n",
       "      <td>Austrian</td>\n",
       "      <td></td>\n",
       "      <td>1</td>\n",
       "      <td>22 h 10 min</td>\n",
       "      <td>336€</td>\n",
       "      <td>aller-retour</td>\n",
       "      <td>34h15min</td>\n",
       "      <td>336.0</td>\n",
       "    </tr>\n",
       "    <tr>\n",
       "      <td>4</td>\n",
       "      <td>20:15</td>\n",
       "      <td>14:20</td>\n",
       "      <td>+1</td>\n",
       "      <td>Austrian</td>\n",
       "      <td></td>\n",
       "      <td>1</td>\n",
       "      <td>12 h 0 min</td>\n",
       "      <td>336€</td>\n",
       "      <td>aller-retour</td>\n",
       "      <td>24h5min</td>\n",
       "      <td>336.0</td>\n",
       "    </tr>\n",
       "  </tbody>\n",
       "</table>\n",
       "</div>"
      ],
      "text/plain": [
       "  departure arrival offset_days          company  \\\n",
       "0     16:20   21:10        None  British Airways   \n",
       "1     18:05   20:30        None        Norwegian   \n",
       "2     13:20   15:55        None       Air France   \n",
       "3     10:05   14:20          +1         Austrian   \n",
       "4     20:15   14:20          +1         Austrian   \n",
       "\n",
       "                       extra_infos     nb_stops stops_details price  \\\n",
       "0     American, Finnair, Iberia               1    1 h 30 min  378€   \n",
       "1                                   Sans escale                463€   \n",
       "2                         Delta     Sans escale                501€   \n",
       "3                                             1   22 h 10 min  336€   \n",
       "4                                             1    12 h 0 min  336€   \n",
       "\n",
       "  price_annotation flight_duration  price_clean  \n",
       "0     aller-retour        10h50min        378.0  \n",
       "1     aller-retour         8h25min        463.0  \n",
       "2     aller-retour         8h35min        501.0  \n",
       "3     aller-retour        34h15min        336.0  \n",
       "4     aller-retour         24h5min        336.0  "
      ]
     },
     "execution_count": 235,
     "metadata": {},
     "output_type": "execute_result"
    }
   ],
   "source": [
    "df[\"price_clean\"] = pd.to_numeric(\n",
    "            df[\"price\"].str.replace(\"€\", \"\"), errors= \"ignore\")\n",
    "df.head()"
   ]
  },
  {
   "cell_type": "code",
   "execution_count": 236,
   "metadata": {},
   "outputs": [
    {
     "name": "stdout",
     "output_type": "stream",
     "text": [
      "<class 'pandas.core.frame.DataFrame'>\n",
      "RangeIndex: 291 entries, 0 to 290\n",
      "Data columns (total 11 columns):\n",
      "departure           291 non-null object\n",
      "arrival             291 non-null object\n",
      "offset_days         91 non-null object\n",
      "company             291 non-null object\n",
      "extra_infos         291 non-null object\n",
      "nb_stops            291 non-null object\n",
      "stops_details       291 non-null object\n",
      "price               291 non-null object\n",
      "price_annotation    291 non-null object\n",
      "flight_duration     291 non-null object\n",
      "price_clean         290 non-null float64\n",
      "dtypes: float64(1), object(10)\n",
      "memory usage: 25.1+ KB\n"
     ]
    }
   ],
   "source": [
    "df.info()"
   ]
  },
  {
   "cell_type": "code",
   "execution_count": 237,
   "metadata": {},
   "outputs": [
    {
     "data": {
      "text/plain": [
       "(336.0, 7271.0)"
      ]
     },
     "execution_count": 237,
     "metadata": {},
     "output_type": "execute_result"
    }
   ],
   "source": [
    "df.price_clean.min(), df.price_clean.max()"
   ]
  },
  {
   "cell_type": "code",
   "execution_count": 238,
   "metadata": {},
   "outputs": [
    {
     "data": {
      "text/html": [
       "<div>\n",
       "<style scoped>\n",
       "    .dataframe tbody tr th:only-of-type {\n",
       "        vertical-align: middle;\n",
       "    }\n",
       "\n",
       "    .dataframe tbody tr th {\n",
       "        vertical-align: top;\n",
       "    }\n",
       "\n",
       "    .dataframe thead th {\n",
       "        text-align: right;\n",
       "    }\n",
       "</style>\n",
       "<table border=\"1\" class=\"dataframe\">\n",
       "  <thead>\n",
       "    <tr style=\"text-align: right;\">\n",
       "      <th></th>\n",
       "      <th>departure</th>\n",
       "      <th>arrival</th>\n",
       "      <th>offset_days</th>\n",
       "      <th>company</th>\n",
       "      <th>extra_infos</th>\n",
       "      <th>nb_stops</th>\n",
       "      <th>stops_details</th>\n",
       "      <th>price</th>\n",
       "      <th>price_annotation</th>\n",
       "      <th>flight_duration</th>\n",
       "      <th>price_clean</th>\n",
       "    </tr>\n",
       "  </thead>\n",
       "  <tbody>\n",
       "    <tr>\n",
       "      <td>290</td>\n",
       "      <td>17:10</td>\n",
       "      <td>12:55</td>\n",
       "      <td>+1</td>\n",
       "      <td>Air Europa, Delta</td>\n",
       "      <td></td>\n",
       "      <td>1</td>\n",
       "      <td>15 h 5 min</td>\n",
       "      <td></td>\n",
       "      <td></td>\n",
       "      <td>25h45min</td>\n",
       "      <td>NaN</td>\n",
       "    </tr>\n",
       "  </tbody>\n",
       "</table>\n",
       "</div>"
      ],
      "text/plain": [
       "    departure arrival offset_days            company extra_infos nb_stops  \\\n",
       "290     17:10   12:55          +1  Air Europa, Delta                    1   \n",
       "\n",
       "    stops_details price price_annotation flight_duration  price_clean  \n",
       "290    15 h 5 min                               25h45min          NaN  "
      ]
     },
     "execution_count": 238,
     "metadata": {},
     "output_type": "execute_result"
    }
   ],
   "source": [
    "df[df.price_clean.isnull()]"
   ]
  },
  {
   "cell_type": "code",
   "execution_count": null,
   "metadata": {},
   "outputs": [],
   "source": []
  },
  {
   "cell_type": "code",
   "execution_count": 240,
   "metadata": {},
   "outputs": [
    {
     "data": {
      "text/plain": [
       "<matplotlib.axes._subplots.AxesSubplot at 0x25bcbd1dd88>"
      ]
     },
     "execution_count": 240,
     "metadata": {},
     "output_type": "execute_result"
    },
    {
     "data": {
      "image/png": "[encoded data removed]",
      "text/plain": [
       "<Figure size 432x288 with 1 Axes>"
      ]
     },
     "metadata": {
      "needs_background": "light"
     },
     "output_type": "display_data"
    }
   ],
   "source": [
    "df.price_clean.hist()"
   ]
  },
  {
   "cell_type": "code",
   "execution_count": null,
   "metadata": {},
   "outputs": [],
   "source": []
  },
  {
   "cell_type": "code",
   "execution_count": null,
   "metadata": {},
   "outputs": [],
   "source": []
  },
  {
   "cell_type": "markdown",
   "metadata": {},
   "source": [
    "## Tout encpasuler dans une fonction"
   ]
  },
  {
   "cell_type": "code",
   "execution_count": 248,
   "metadata": {},
   "outputs": [],
   "source": [
    "def get_df(depart = \"Paris\", arrivee = \"Abidjan\") :\n",
    "    \n",
    "    prix_vol(depart,arrivee)\n",
    "    html =  driver.find_element_by_css_selector(\"html\")\n",
    "    page_source = html.get_attribute(\"outerHTML\")\n",
    "    \n",
    "    soup = BeautifulSoup(page_source)\n",
    "    \n",
    "    rows = soup.select( \".gws-flights-results__result-list \"+\n",
    "                       \".gws-flights-results__result-item\")\n",
    "    \n",
    "    data = []\n",
    "    for row in rows:\n",
    "        try :\n",
    "            data.append(get_row(row))\n",
    "        except Exception:\n",
    "            pass\n",
    "        \n",
    "    df = pd.DataFrame(data)\n",
    "    df[\"orgin_airport\"] = depart\n",
    "    df[\"destination_airport\"] = arrivee\n",
    "    return df"
   ]
  },
  {
   "cell_type": "code",
   "execution_count": null,
   "metadata": {},
   "outputs": [],
   "source": []
  },
  {
   "cell_type": "code",
   "execution_count": null,
   "metadata": {},
   "outputs": [],
   "source": []
  },
  {
   "cell_type": "code",
   "execution_count": 249,
   "metadata": {},
   "outputs": [
    {
     "data": {
      "text/html": [
       "<div>\n",
       "<style scoped>\n",
       "    .dataframe tbody tr th:only-of-type {\n",
       "        vertical-align: middle;\n",
       "    }\n",
       "\n",
       "    .dataframe tbody tr th {\n",
       "        vertical-align: top;\n",
       "    }\n",
       "\n",
       "    .dataframe thead th {\n",
       "        text-align: right;\n",
       "    }\n",
       "</style>\n",
       "<table border=\"1\" class=\"dataframe\">\n",
       "  <thead>\n",
       "    <tr style=\"text-align: right;\">\n",
       "      <th></th>\n",
       "      <th>departure</th>\n",
       "      <th>arrival</th>\n",
       "      <th>offset_days</th>\n",
       "      <th>company</th>\n",
       "      <th>extra_infos</th>\n",
       "      <th>nb_stops</th>\n",
       "      <th>stops_details</th>\n",
       "      <th>price</th>\n",
       "      <th>price_annotation</th>\n",
       "      <th>flight_duration</th>\n",
       "      <th>orgin_airport</th>\n",
       "      <th>destination_airport</th>\n",
       "    </tr>\n",
       "  </thead>\n",
       "  <tbody>\n",
       "    <tr>\n",
       "      <td>0</td>\n",
       "      <td>08:00</td>\n",
       "      <td>10:00</td>\n",
       "      <td>None</td>\n",
       "      <td>Ethiopian</td>\n",
       "      <td></td>\n",
       "      <td>Sans escale</td>\n",
       "      <td></td>\n",
       "      <td>412€</td>\n",
       "      <td>aller-retour</td>\n",
       "      <td>2h0min</td>\n",
       "      <td>Dakar</td>\n",
       "      <td>Bamako</td>\n",
       "    </tr>\n",
       "    <tr>\n",
       "      <td>1</td>\n",
       "      <td>01:05</td>\n",
       "      <td>20:10</td>\n",
       "      <td>None</td>\n",
       "      <td>Air Algerie</td>\n",
       "      <td></td>\n",
       "      <td>1</td>\n",
       "      <td>10 h 30 min</td>\n",
       "      <td>796€</td>\n",
       "      <td>aller-retour</td>\n",
       "      <td>19h5min</td>\n",
       "      <td>Dakar</td>\n",
       "      <td>Bamako</td>\n",
       "    </tr>\n",
       "    <tr>\n",
       "      <td>2</td>\n",
       "      <td>02:45</td>\n",
       "      <td>01:30</td>\n",
       "      <td>+1</td>\n",
       "      <td>Royal Air Maroc</td>\n",
       "      <td></td>\n",
       "      <td>1</td>\n",
       "      <td>16 h 20 min</td>\n",
       "      <td>839€</td>\n",
       "      <td>aller-retour</td>\n",
       "      <td>22h45min</td>\n",
       "      <td>Dakar</td>\n",
       "      <td>Bamako</td>\n",
       "    </tr>\n",
       "    <tr>\n",
       "      <td>3</td>\n",
       "      <td>08:05</td>\n",
       "      <td>15:20</td>\n",
       "      <td>+1</td>\n",
       "      <td>ASKY</td>\n",
       "      <td>Ethiopian</td>\n",
       "      <td>1</td>\n",
       "      <td>25 h 20 min</td>\n",
       "      <td>914€</td>\n",
       "      <td>aller-retour</td>\n",
       "      <td>31h15min</td>\n",
       "      <td>Dakar</td>\n",
       "      <td>Bamako</td>\n",
       "    </tr>\n",
       "    <tr>\n",
       "      <td>4</td>\n",
       "      <td>15:05</td>\n",
       "      <td>16:45</td>\n",
       "      <td>None</td>\n",
       "      <td>Air Senegal</td>\n",
       "      <td></td>\n",
       "      <td>Sans escale</td>\n",
       "      <td></td>\n",
       "      <td></td>\n",
       "      <td></td>\n",
       "      <td>1h40min</td>\n",
       "      <td>Dakar</td>\n",
       "      <td>Bamako</td>\n",
       "    </tr>\n",
       "  </tbody>\n",
       "</table>\n",
       "</div>"
      ],
      "text/plain": [
       "  departure arrival offset_days          company      extra_infos  \\\n",
       "0     08:00   10:00        None        Ethiopian                    \n",
       "1     01:05   20:10        None      Air Algerie                    \n",
       "2     02:45   01:30          +1  Royal Air Maroc                    \n",
       "3     08:05   15:20          +1             ASKY     Ethiopian      \n",
       "4     15:05   16:45        None      Air Senegal                    \n",
       "\n",
       "      nb_stops stops_details price price_annotation flight_duration  \\\n",
       "0  Sans escale                412€     aller-retour          2h0min   \n",
       "1            1   10 h 30 min  796€     aller-retour         19h5min   \n",
       "2            1   16 h 20 min  839€     aller-retour        22h45min   \n",
       "3            1   25 h 20 min  914€     aller-retour        31h15min   \n",
       "4  Sans escale                                              1h40min   \n",
       "\n",
       "  orgin_airport destination_airport  \n",
       "0         Dakar              Bamako  \n",
       "1         Dakar              Bamako  \n",
       "2         Dakar              Bamako  \n",
       "3         Dakar              Bamako  \n",
       "4         Dakar              Bamako  "
      ]
     },
     "execution_count": 249,
     "metadata": {},
     "output_type": "execute_result"
    }
   ],
   "source": [
    "df = get_df(\"Dakar\",  \"Bamako\")"
   ]
  },
  {
   "cell_type": "code",
   "execution_count": null,
   "metadata": {},
   "outputs": [],
   "source": [
    "site.com.depart=dakar&arrivee=bamako"
   ]
  },
  {
   "cell_type": "code",
   "execution_count": 250,
   "metadata": {},
   "outputs": [],
   "source": [
    "# driver.execute_script()"
   ]
  },
  {
   "cell_type": "code",
   "execution_count": null,
   "metadata": {},
   "outputs": [],
   "source": []
  }
 ],
 "metadata": {
  "kernelspec": {
   "display_name": "Python 3",
   "language": "python",
   "name": "python3"
  },
  "language_info": {
   "codemirror_mode": {
    "name": "ipython",
    "version": 3
   },
   "file_extension": ".py",
   "mimetype": "text/x-python",
   "name": "python",
   "nbconvert_exporter": "python",
   "pygments_lexer": "ipython3",
   "version": "3.7.4"
  }
 },
 "nbformat": 4,
 "nbformat_minor": 2
}
