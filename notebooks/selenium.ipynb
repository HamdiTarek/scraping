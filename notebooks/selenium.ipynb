{
 "cells": [
  {
   "cell_type": "markdown",
   "metadata": {},
   "source": [
    "# Installation de selenium"
   ]
  },
  {
   "cell_type": "markdown",
   "metadata": {},
   "source": [
    "Décommetez et exécutez le code ci-dessous"
   ]
  },
  {
   "cell_type": "code",
   "execution_count": 1,
   "metadata": {},
   "outputs": [
    {
     "name": "stdout",
     "output_type": "stream",
     "text": [
      "Requirement already satisfied: selenium in c:\\users\\nka\\anaconda3\\lib\\site-packages (3.141.0)\n",
      "Requirement already satisfied: urllib3 in c:\\users\\nka\\anaconda3\\lib\\site-packages (from selenium) (1.24.2)\n"
     ]
    }
   ],
   "source": [
    "!pip install selenium"
   ]
  },
  {
   "cell_type": "code",
   "execution_count": 2,
   "metadata": {},
   "outputs": [],
   "source": [
    "import selenium"
   ]
  },
  {
   "cell_type": "code",
   "execution_count": 3,
   "metadata": {},
   "outputs": [],
   "source": [
    "from selenium import  webdriver"
   ]
  },
  {
   "cell_type": "code",
   "execution_count": 4,
   "metadata": {},
   "outputs": [],
   "source": [
    "driver_path = \"C:/Users/NKA/Downloads/chromedriver.exe\""
   ]
  },
  {
   "cell_type": "code",
   "execution_count": 7,
   "metadata": {},
   "outputs": [],
   "source": [
    "# Créer un navigateur\n",
    "# téléchargerr le driver\n",
    "# * Firefox : https://github.com/mozilla/geckodriver/releases\n",
    "# Chrome : https://chromedriver.chromium.org/downloads\n",
    "driver = webdriver.Chrome(executable_path= driver_path)"
   ]
  },
  {
   "cell_type": "code",
   "execution_count": 8,
   "metadata": {},
   "outputs": [],
   "source": [
    "driver.get(\"https://www.google.com/flights?hl=fr&gl=fr\")"
   ]
  },
  {
   "cell_type": "code",
   "execution_count": 57,
   "metadata": {},
   "outputs": [],
   "source": [
    "# page = driver.page_source\n",
    "# page[:1000]"
   ]
  },
  {
   "cell_type": "code",
   "execution_count": 74,
   "metadata": {},
   "outputs": [],
   "source": [
    "import time"
   ]
  },
  {
   "cell_type": "code",
   "execution_count": 81,
   "metadata": {},
   "outputs": [
    {
     "name": "stdout",
     "output_type": "stream",
     "text": [
      "aaaaaaa\n"
     ]
    }
   ],
   "source": [
    "time.sleep(2)\n",
    "print(\"aaaaaaa\")"
   ]
  },
  {
   "cell_type": "code",
   "execution_count": 80,
   "metadata": {},
   "outputs": [
    {
     "name": "stdout",
     "output_type": "stream",
     "text": [
      "aaaaaaa\n"
     ]
    }
   ],
   "source": [
    "print(\"aaaaaaa\")"
   ]
  },
  {
   "cell_type": "code",
   "execution_count": null,
   "metadata": {},
   "outputs": [],
   "source": []
  },
  {
   "cell_type": "code",
   "execution_count": 113,
   "metadata": {},
   "outputs": [],
   "source": [
    "driver.get(\"https://www.google.com/flights?hl=fr&gl=fr\")"
   ]
  },
  {
   "cell_type": "code",
   "execution_count": 114,
   "metadata": {},
   "outputs": [],
   "source": []
  },
  {
   "cell_type": "code",
   "execution_count": 122,
   "metadata": {},
   "outputs": [],
   "source": [
    "def prix_vol(depart = \"Paris\", arrivee = \"Abidjan\"):\n",
    "    driver.get(\"https://www.google.com/flights?hl=fr&gl=fr\")\n",
    "    time.sleep(1)\n",
    "    remplir_depart(depart)\n",
    "    remplir_arrivee(arrivee)\n",
    "    rechercher()\n",
    "    time.sleep(3)\n",
    "    derouler()"
   ]
  },
  {
   "cell_type": "code",
   "execution_count": 123,
   "metadata": {},
   "outputs": [],
   "source": [
    "prix_vol()"
   ]
  },
  {
   "cell_type": "code",
   "execution_count": null,
   "metadata": {},
   "outputs": [],
   "source": []
  },
  {
   "cell_type": "code",
   "execution_count": 41,
   "metadata": {},
   "outputs": [],
   "source": [
    "origin_airport = driver.find_element_by_css_selector(\n",
    "    \"div[data-flt-ve='origin_airport'][class*='flt-input']\")"
   ]
  },
  {
   "cell_type": "code",
   "execution_count": 42,
   "metadata": {},
   "outputs": [],
   "source": [
    "# len(origin_airport)"
   ]
  },
  {
   "cell_type": "code",
   "execution_count": 43,
   "metadata": {},
   "outputs": [
    {
     "data": {
      "text/plain": [
       "'<div data-flt-ve=\"origin_airport\" jstcache=\"6990\" role=\"presentation\" jsaction=\"jsl._;f_f:jsl._;ica_bc:jsl._;keydown:jsl._\" class=\"flt-input gws-flights-form__input-container gws-flights__flex-box gws-flights-form__airport-input gws-flights-form__swapper-right\" jsan=\"0.data-flt-ve,22.jsaction,t-ch-jmKqQoDY,7.flt-input,7.gws-flights-form__input-container,7.gws-flights__flex-box,7.gws-flights-form__airport-input,7.gws-flights-form__swapper-right,0.role,21.jssc\"><div jstcache=\"6723\" jscontroller=\"pSNSIe\" jsaction=\"rcuQ6b:npT2md\" class=\"gws-flights-widgets-inputcapturearea__capture-area-wrapper\"><span jsname=\"bOjMyf\" aria-live=\"polite\" jstcache=\"6657\" style=\"display:none\" jsvs=\"&quot;bOjMyf&quot;;\" jsan=\"0.jsname,5.display,0.aria-live,t-uU8ghUBFeaU\" id=\"flt-ica-5\"> <span jstcache=\"6756\">D\\'où partez-vous&nbsp;?</span> <jsl jstcache=\"6757\"><span><span>Abidjan</span><span class=\"gws-flights-form__iata-code\">ABJ</span></span></jsl> </span><textarea jsname=\"LlUqIb\" role=\"textbox\" tabindex=\"0\" jstcache=\"6658\" jsaction=\"keyup:dbqUTd;focus:h06R8;blur:zjh6rb\" class=\"gws-flights-widgets-inputcapturearea__capture-area\" jsvs=\"&quot;LlUqIb&quot;;&quot;keyup:dbqUTd;focus:h06R8;blur:zjh6rb&quot;;\" jsan=\"0.jsname,7.gws-flights-widgets-inputcapturearea__capture-area,0.role,0.tabindex,22.jsaction\" aria-labelledby=\"flt-ica-5\"></textarea></div><span jstcache=\"6724\" class=\"gws-flights-form__location-icon gws-flights-form__origin-icon\"><span class=\"z1asCe y6ox5\" style=\"height: 16px; line-height: 16px; width: 16px;\"><svg focusable=\"false\" xmlns=\"http://www.w3.org/2000/svg\" viewBox=\"0 0 24 24\"><path d=\"M2 12C2 6.48 6.48 2 12 2s10 4.48 10 10-4.48 10-10 10S2 17.52 2 12zm10 6c3.31 0 6-2.69 6-6s-2.69-6-6-6-6 2.69-6 6 2.69 6 6 6z\"></path></svg></span></span><div aria-hidden=\"true\" jstcache=\"6725\" class=\"gws-flights-form__location-text gws-flights__flex-filler gws-flights__ellipsize gws-flights-form__input-target\" jsan=\"7.gws-flights-form__location-text,7.gws-flights__flex-filler,7.gws-flights__ellipsize,7.gws-flights-form__input-target,0.aria-hidden,t-F18OH-9izcM,21.jssc\"><span jstcache=\"6729\" style=\"display:none\"></span><span jstcache=\"6730\" class=\"gws-flights-form__location-list\"><span><span>Abidjan</span><span class=\"gws-flights-form__iata-code\">ABJ</span></span></span><input jstcache=\"6731\" style=\"display:none\"></div><span jstcache=\"6726\"></span><div jstcache=\"6727\" class=\"gws-flights-form__swapper-half-circle\" jsan=\"7.gws-flights-form__swapper-half-circle\"></div></div>'"
      ]
     },
     "execution_count": 43,
     "metadata": {},
     "output_type": "execute_result"
    }
   ],
   "source": [
    "origin_airport.get_attribute(\"outerHTML\")"
   ]
  },
  {
   "cell_type": "code",
   "execution_count": null,
   "metadata": {},
   "outputs": [],
   "source": []
  },
  {
   "cell_type": "code",
   "execution_count": 44,
   "metadata": {},
   "outputs": [],
   "source": [
    "origin_airport.click() # Pour cliquer et faire apparaître le formulaire "
   ]
  },
  {
   "cell_type": "code",
   "execution_count": null,
   "metadata": {},
   "outputs": [],
   "source": []
  },
  {
   "cell_type": "code",
   "execution_count": 38,
   "metadata": {},
   "outputs": [],
   "source": [
    "# origin_airport.send_keys(\"abidjan\")"
   ]
  },
  {
   "cell_type": "code",
   "execution_count": 45,
   "metadata": {},
   "outputs": [],
   "source": [
    "origin_airport2 = driver.find_element_by_css_selector(\n",
    "    \"input[placeholder*='partez-vous']\")"
   ]
  },
  {
   "cell_type": "code",
   "execution_count": null,
   "metadata": {},
   "outputs": [],
   "source": []
  },
  {
   "cell_type": "code",
   "execution_count": 46,
   "metadata": {},
   "outputs": [],
   "source": [
    "origin_airport2.clear()"
   ]
  },
  {
   "cell_type": "code",
   "execution_count": 47,
   "metadata": {},
   "outputs": [],
   "source": [
    "origin_airport2.send_keys(\"paris\")"
   ]
  },
  {
   "cell_type": "code",
   "execution_count": 48,
   "metadata": {},
   "outputs": [],
   "source": [
    "origin_airport3 = driver.find_element_by_css_selector(\n",
    "    \".fsapp-option-content .fsapp-option-city-name\")"
   ]
  },
  {
   "cell_type": "code",
   "execution_count": 49,
   "metadata": {},
   "outputs": [],
   "source": [
    "origin_airport3.click()"
   ]
  },
  {
   "cell_type": "code",
   "execution_count": null,
   "metadata": {},
   "outputs": [],
   "source": []
  },
  {
   "cell_type": "code",
   "execution_count": 50,
   "metadata": {},
   "outputs": [],
   "source": [
    "destination_airport = driver.find_element_by_css_selector(\n",
    "    \"div[data-flt-ve='destination_airport'][class*='flt-input']\")"
   ]
  },
  {
   "cell_type": "code",
   "execution_count": 51,
   "metadata": {},
   "outputs": [],
   "source": [
    "destination_airport.click()"
   ]
  },
  {
   "cell_type": "code",
   "execution_count": 52,
   "metadata": {},
   "outputs": [],
   "source": [
    "destination_airport2 = driver.find_element_by_css_selector(\n",
    "    \"input[placeholder*='allez-vous']\")"
   ]
  },
  {
   "cell_type": "code",
   "execution_count": 53,
   "metadata": {},
   "outputs": [],
   "source": [
    "destination_airport2.send_keys(\"New York\")"
   ]
  },
  {
   "cell_type": "code",
   "execution_count": 54,
   "metadata": {},
   "outputs": [],
   "source": [
    "destination_airport3 = driver.find_element_by_css_selector(\n",
    "    \".fsapp-option-content .fsapp-option-city-name\")"
   ]
  },
  {
   "cell_type": "code",
   "execution_count": 55,
   "metadata": {},
   "outputs": [],
   "source": [
    "destination_airport3.click()"
   ]
  },
  {
   "cell_type": "code",
   "execution_count": null,
   "metadata": {},
   "outputs": [],
   "source": []
  },
  {
   "cell_type": "code",
   "execution_count": null,
   "metadata": {},
   "outputs": [],
   "source": [
    "\"gws-flights-form__search-button-wrapper\""
   ]
  },
  {
   "cell_type": "code",
   "execution_count": null,
   "metadata": {},
   "outputs": [],
   "source": []
  },
  {
   "cell_type": "code",
   "execution_count": 111,
   "metadata": {},
   "outputs": [],
   "source": []
  },
  {
   "cell_type": "code",
   "execution_count": null,
   "metadata": {},
   "outputs": [],
   "source": []
  },
  {
   "cell_type": "code",
   "execution_count": null,
   "metadata": {},
   "outputs": [],
   "source": []
  },
  {
   "cell_type": "code",
   "execution_count": 25,
   "metadata": {},
   "outputs": [],
   "source": [
    "search_button = driver.find_element_by_css_selector(\n",
    "\".gws-flights-form__search-button-wrapper floating-action-button.gws-flights-form__search-button\")"
   ]
  },
  {
   "cell_type": "code",
   "execution_count": 26,
   "metadata": {},
   "outputs": [],
   "source": [
    "search_button.click()"
   ]
  },
  {
   "cell_type": "code",
   "execution_count": 31,
   "metadata": {},
   "outputs": [],
   "source": [
    "expand_button = driver.find_element_by_css_selector(\n",
    "                        \".gws-flights-results__dominated-toggle\")"
   ]
  },
  {
   "cell_type": "code",
   "execution_count": null,
   "metadata": {},
   "outputs": [],
   "source": []
  },
  {
   "cell_type": "code",
   "execution_count": 32,
   "metadata": {},
   "outputs": [],
   "source": [
    "expand_button.click()"
   ]
  },
  {
   "cell_type": "code",
   "execution_count": null,
   "metadata": {},
   "outputs": [],
   "source": []
  },
  {
   "cell_type": "code",
   "execution_count": 124,
   "metadata": {},
   "outputs": [],
   "source": [
    "import requests"
   ]
  },
  {
   "cell_type": "code",
   "execution_count": 126,
   "metadata": {},
   "outputs": [],
   "source": [
    "chat = requests.get(\n",
    "\"https://lemagduchat.ouest-france.fr/images/dossiers/2018-11/chat-drole-113730.jpg\")"
   ]
  },
  {
   "cell_type": "code",
   "execution_count": 127,
   "metadata": {},
   "outputs": [],
   "source": [
    "chat_text = chat.text"
   ]
  },
  {
   "cell_type": "code",
   "execution_count": 129,
   "metadata": {},
   "outputs": [],
   "source": [
    "# chat_text[:1000]"
   ]
  },
  {
   "cell_type": "code",
   "execution_count": 130,
   "metadata": {},
   "outputs": [],
   "source": [
    "with open(\"chat.jpg\", \"wb\") as f:\n",
    "    f.write(chat.content)"
   ]
  },
  {
   "cell_type": "code",
   "execution_count": null,
   "metadata": {},
   "outputs": [],
   "source": []
  },
  {
   "cell_type": "code",
   "execution_count": null,
   "metadata": {},
   "outputs": [],
   "source": []
  },
  {
   "cell_type": "code",
   "execution_count": 105,
   "metadata": {},
   "outputs": [],
   "source": [
    "def remplir_depart(depart):\n",
    "    css_origin_airport = \"div[data-flt-ve='origin_airport'][class*='flt-input']\"\n",
    "    origin_airport = driver.find_element_by_css_selector(css_origin_airport)\n",
    "    \n",
    "    \n",
    "    origin_airport.click() # Pour cliquer et faire apparaître le formulaire \n",
    "    time.sleep(1)\n",
    "    \n",
    "    css_origin_airport2 = \"input[placeholder*='partez-vous']\"\n",
    "    origin_airport2 = driver.find_element_by_css_selector(\n",
    "                                            css_origin_airport2)\n",
    "    origin_airport2.clear()\n",
    "    origin_airport2.send_keys(depart)\n",
    "    time.sleep(3)\n",
    "\n",
    "    css_origin_airport3 = \".fsapp-option-content .fsapp-option-city-name\"\n",
    "    origin_airport3 = driver.find_element_by_css_selector(\n",
    "                                        css_origin_airport3)\n",
    "    origin_airport3.click()"
   ]
  },
  {
   "cell_type": "code",
   "execution_count": 106,
   "metadata": {},
   "outputs": [],
   "source": [
    "def remplir_arrivee(arrivee):\n",
    "    css_destination_airport = \"div[data-flt-ve='destination_airport'][class*='flt-input']\"\n",
    "    destination_airport = driver.find_element_by_css_selector(\n",
    "        css_destination_airport)\n",
    "    \n",
    "    \n",
    "    destination_airport.click() # Pour cliquer et faire apparaître le formulaire \n",
    "    time.sleep(1)\n",
    "    \n",
    "    css_destination_airport2 = \"input[placeholder*='allez-vous']\"\n",
    "    destination_airport2 = driver.find_element_by_css_selector(\n",
    "                                            css_destination_airport2)\n",
    "    destination_airport2.clear()\n",
    "    destination_airport2.send_keys(arrivee)\n",
    "    time.sleep(3)\n",
    "\n",
    "    css_destination_airport3 = \".fsapp-option-content .fsapp-option-city-name\"\n",
    "    destination_airport3 = driver.find_element_by_css_selector(\n",
    "                                        css_destination_airport3)\n",
    "    destination_airport3.click()"
   ]
  },
  {
   "cell_type": "code",
   "execution_count": 112,
   "metadata": {},
   "outputs": [],
   "source": [
    "def rechercher():\n",
    "    search_button = driver.find_element_by_css_selector(\n",
    "            \".gws-flights-form__search-button-wrapper \" \n",
    "        + \"floating-action-button.gws-flights-form__search-button\")\n",
    "    search_button.click()\n",
    "    \n",
    "def derouler():\n",
    "    expand_button = driver.find_element_by_css_selector(\n",
    "                        \".gws-flights-results__dominated-toggle\")\n",
    "    expand_button.click()"
   ]
  }
 ],
 "metadata": {
  "kernelspec": {
   "display_name": "Python 3",
   "language": "python",
   "name": "python3"
  },
  "language_info": {
   "codemirror_mode": {
    "name": "ipython",
    "version": 3
   },
   "file_extension": ".py",
   "mimetype": "text/x-python",
   "name": "python",
   "nbconvert_exporter": "python",
   "pygments_lexer": "ipython3",
   "version": "3.7.4"
  }
 },
 "nbformat": 4,
 "nbformat_minor": 2
}
