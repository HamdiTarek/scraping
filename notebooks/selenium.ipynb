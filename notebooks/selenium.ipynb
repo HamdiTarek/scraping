{
 "cells": [
  {
   "cell_type": "code",
   "execution_count": 1,
   "metadata": {},
   "outputs": [
    {
     "name": "stdout",
     "output_type": "stream",
     "text": [
      "Requirement already satisfied: selenium in c:\\users\\nka\\anaconda3\\lib\\site-packages (3.141.0)\n",
      "Requirement already satisfied: urllib3 in c:\\users\\nka\\anaconda3\\lib\\site-packages (from selenium) (1.24.2)\n"
     ]
    }
   ],
   "source": [
    "!pip install selenium"
   ]
  },
  {
   "cell_type": "code",
   "execution_count": 2,
   "metadata": {},
   "outputs": [],
   "source": [
    "import selenium"
   ]
  },
  {
   "cell_type": "code",
   "execution_count": 3,
   "metadata": {},
   "outputs": [],
   "source": [
    "from selenium import  webdriver"
   ]
  },
  {
   "cell_type": "code",
   "execution_count": 4,
   "metadata": {},
   "outputs": [],
   "source": [
    "driver_path = \"C:/Users/NKA/Downloads/chromedriver.exe\""
   ]
  },
  {
   "cell_type": "code",
   "execution_count": 147,
   "metadata": {},
   "outputs": [],
   "source": [
    "# Créer un navigateur\n",
    "# téléchargerr le driver\n",
    "# * Firefox : https://github.com/mozilla/geckodriver/releases\n",
    "# Chrome : https://chromedriver.chromium.org/downloads\n",
    "driver = webdriver.Chrome(executable_path= driver_path)"
   ]
  },
  {
   "cell_type": "code",
   "execution_count": 148,
   "metadata": {},
   "outputs": [],
   "source": [
    "driver.get(\"https://www.google.com/flights?hl=fr&gl=fr\")"
   ]
  },
  {
   "cell_type": "code",
   "execution_count": 149,
   "metadata": {},
   "outputs": [],
   "source": [
    "# page = driver.page_source\n",
    "# page[:1000]"
   ]
  },
  {
   "cell_type": "code",
   "execution_count": 150,
   "metadata": {},
   "outputs": [],
   "source": [
    "origin_airport = driver.find_element_by_css_selector(\n",
    "    \"div[data-flt-ve='origin_airport'][class*='flt-input']\")"
   ]
  },
  {
   "cell_type": "code",
   "execution_count": 151,
   "metadata": {},
   "outputs": [],
   "source": [
    "# len(origin_airport)"
   ]
  },
  {
   "cell_type": "code",
   "execution_count": 152,
   "metadata": {},
   "outputs": [
    {
     "data": {
      "text/plain": [
       "'<div data-flt-ve=\"origin_airport\" jsaction=\"jsl._;f_f:jsl._;ica_bc:jsl._;keydown:jsl._\" class=\"flt-input gws-flights-form__input-container gws-flights__flex-box gws-flights-form__airport-input gws-flights-form__empty gws-flights-form__swapper-right\" role=\"presentation\" jsan=\"0.data-flt-ve,22.jsaction,t-ch-jmKqQoDY,7.flt-input,7.gws-flights-form__input-container,7.gws-flights__flex-box,7.gws-flights-form__airport-input,7.gws-flights-form__empty,7.gws-flights-form__swapper-right,0.role,21.jssc\" jstcache=\"573\"><div jscontroller=\"pSNSIe\" class=\"gws-flights-widgets-inputcapturearea__capture-area-wrapper\" jsaction=\"rcuQ6b:npT2md\" jstcache=\"468\"><span jsname=\"bOjMyf\" style=\"display:none\" aria-live=\"polite\" jsvs=\"\\'bOjMyf\\';\" jsan=\"0.jsname,5.display,0.aria-live,t-uU8ghUBFeaU\" id=\"flt-ica-1\" jstcache=\"492\"> <span jsan=\"t-qoTycjZOEvo,21.jssc\" jstcache=\"489\">D\\'où partez-vous&nbsp;?</span> <jsl jstcache=\"490\"></jsl> </span><textarea jsname=\"LlUqIb\" class=\"gws-flights-widgets-inputcapturearea__capture-area\" role=\"textbox\" tabindex=\"0\" jsaction=\"keyup:dbqUTd;focus:h06R8;blur:zjh6rb\" jsvs=\"\\'LlUqIb\\';\\'keyup:dbqUTd;focus:h06R8;blur:zjh6rb\\';\" jsan=\"0.jsname,7.gws-flights-widgets-inputcapturearea__capture-area,0.role,0.tabindex,22.jsaction\" aria-labelledby=\"flt-ica-1\" jstcache=\"493\"></textarea></div><span class=\"gws-flights-form__location-icon gws-flights-form__origin-icon\" jstcache=\"469\"><span style=\"height:16px;line-height:16px;width:16px\" class=\"z1asCe y6ox5\"><svg focusable=\"false\" xmlns=\"http://www.w3.org/2000/svg\" viewBox=\"0 0 24 24\"><path d=\"M2 12C2 6.48 6.48 2 12 2s10 4.48 10 10-4.48 10-10 10S2 17.52 2 12zm10 6c3.31 0 6-2.69 6-6s-2.69-6-6-6-6 2.69-6 6 2.69 6 6 6z\"></path></svg></span></span><div class=\"gws-flights-form__location-text gws-flights__flex-filler gws-flights__ellipsize gws-flights-form__input-target gws-flights-form__empty\" aria-hidden=\"true\" jsan=\"7.gws-flights-form__location-text,7.gws-flights__flex-filler,7.gws-flights__ellipsize,7.gws-flights-form__input-target,0.aria-hidden,t-F18OH-9izcM,7.gws-flights-form__empty,21.jssc\" jstcache=\"470\"><span class=\"gws-flights-form__text-field-placeholder\" jsan=\"7.gws-flights-form__text-field-placeholder,t-qoTycjZOEvo,21.jssc\" jstcache=\"375\">D\\'où partez-vous&nbsp;?</span><span class=\"gws-flights-form__location-list\" jstcache=\"376\"></span><input style=\"display: none;\" jstcache=\"377\"></div><span style=\"display: none;\" jstcache=\"471\"></span><div class=\"gws-flights-form__swapper-half-circle\" jsan=\"7.gws-flights-form__swapper-half-circle\" jstcache=\"472\"></div></div>'"
      ]
     },
     "execution_count": 152,
     "metadata": {},
     "output_type": "execute_result"
    }
   ],
   "source": [
    "origin_airport.get_attribute(\"outerHTML\")"
   ]
  },
  {
   "cell_type": "code",
   "execution_count": null,
   "metadata": {},
   "outputs": [],
   "source": []
  },
  {
   "cell_type": "code",
   "execution_count": 153,
   "metadata": {},
   "outputs": [],
   "source": [
    "origin_airport.click() # Pour cliquer et faire apparaître le formulaire "
   ]
  },
  {
   "cell_type": "code",
   "execution_count": 154,
   "metadata": {},
   "outputs": [],
   "source": [
    "# origin_airport.send_keys(\"abidjan\")"
   ]
  },
  {
   "cell_type": "code",
   "execution_count": 155,
   "metadata": {},
   "outputs": [],
   "source": [
    "origin_airport2 = driver.find_element_by_css_selector(\n",
    "    \"input[placeholder*='partez-vous']\")"
   ]
  },
  {
   "cell_type": "code",
   "execution_count": null,
   "metadata": {},
   "outputs": [],
   "source": []
  },
  {
   "cell_type": "code",
   "execution_count": 156,
   "metadata": {},
   "outputs": [],
   "source": [
    "origin_airport2.send_keys(\"abidjan\")"
   ]
  },
  {
   "cell_type": "code",
   "execution_count": 157,
   "metadata": {},
   "outputs": [],
   "source": [
    "origin_airport3 = driver.find_element_by_css_selector(\n",
    "    \".fsapp-option-content .fsapp-option-city-name\")"
   ]
  },
  {
   "cell_type": "code",
   "execution_count": 158,
   "metadata": {},
   "outputs": [],
   "source": [
    "origin_airport3.click()"
   ]
  },
  {
   "cell_type": "code",
   "execution_count": null,
   "metadata": {},
   "outputs": [],
   "source": []
  },
  {
   "cell_type": "code",
   "execution_count": 159,
   "metadata": {},
   "outputs": [],
   "source": [
    "destination_airport = driver.find_element_by_css_selector(\n",
    "    \"div[data-flt-ve='destination_airport'][class*='flt-input']\")"
   ]
  },
  {
   "cell_type": "code",
   "execution_count": 160,
   "metadata": {},
   "outputs": [],
   "source": [
    "destination_airport.click()"
   ]
  },
  {
   "cell_type": "code",
   "execution_count": 161,
   "metadata": {},
   "outputs": [],
   "source": [
    "destination_airport2 = driver.find_element_by_css_selector(\n",
    "    \"input[placeholder*='allez-vous']\")"
   ]
  },
  {
   "cell_type": "code",
   "execution_count": 162,
   "metadata": {},
   "outputs": [],
   "source": [
    "destination_airport2.send_keys(\"dakar\")"
   ]
  },
  {
   "cell_type": "code",
   "execution_count": 163,
   "metadata": {},
   "outputs": [],
   "source": [
    "destination_airport3 = driver.find_element_by_css_selector(\n",
    "    \".fsapp-option-content .fsapp-option-city-name\")"
   ]
  },
  {
   "cell_type": "code",
   "execution_count": 164,
   "metadata": {},
   "outputs": [],
   "source": [
    "destination_airport3.click()"
   ]
  },
  {
   "cell_type": "code",
   "execution_count": null,
   "metadata": {},
   "outputs": [],
   "source": []
  },
  {
   "cell_type": "code",
   "execution_count": 165,
   "metadata": {},
   "outputs": [],
   "source": [
    "search_button = driver.find_element_by_css_selector(\n",
    "                        \"floating-action-button.gws-flights-form__search-button\")"
   ]
  },
  {
   "cell_type": "code",
   "execution_count": 166,
   "metadata": {},
   "outputs": [],
   "source": [
    "search_button.click()"
   ]
  },
  {
   "cell_type": "code",
   "execution_count": 167,
   "metadata": {},
   "outputs": [],
   "source": [
    "expand_button = driver.find_element_by_css_selector(\n",
    "                        \".gws-flights-results__dominated-toggle\")"
   ]
  },
  {
   "cell_type": "code",
   "execution_count": 168,
   "metadata": {},
   "outputs": [],
   "source": [
    "expand_button.click()"
   ]
  },
  {
   "cell_type": "code",
   "execution_count": null,
   "metadata": {},
   "outputs": [],
   "source": []
  }
 ],
 "metadata": {
  "kernelspec": {
   "display_name": "Python 3",
   "language": "python",
   "name": "python3"
  },
  "language_info": {
   "codemirror_mode": {
    "name": "ipython",
    "version": 3
   },
   "file_extension": ".py",
   "mimetype": "text/x-python",
   "name": "python",
   "nbconvert_exporter": "python",
   "pygments_lexer": "ipython3",
   "version": "3.7.4"
  }
 },
 "nbformat": 4,
 "nbformat_minor": 2
}
