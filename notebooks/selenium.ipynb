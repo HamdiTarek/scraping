{
 "cells": [
  {
   "cell_type": "markdown",
   "metadata": {},
   "source": [
    "# Installation de selenium"
   ]
  },
  {
   "cell_type": "markdown",
   "metadata": {},
   "source": [
    "Décommetez et exécutez le code ci-dessous si selenium n'est pa encore installé"
   ]
  },
  {
   "cell_type": "code",
   "execution_count": 2,
   "metadata": {},
   "outputs": [],
   "source": [
    "#! pip install selenium"
   ]
  },
  {
   "cell_type": "code",
   "execution_count": 158,
   "metadata": {},
   "outputs": [],
   "source": [
    "from selenium import  webdriver\n",
    "import time # Pour pouvoir utiliser la fonction sleep\n",
    "import re # Expression regulière"
   ]
  },
  {
   "cell_type": "code",
   "execution_count": 6,
   "metadata": {},
   "outputs": [],
   "source": [
    "driver_path = \"C:/Users/NKA/Downloads/chromedriver.exe\""
   ]
  },
  {
   "cell_type": "code",
   "execution_count": 7,
   "metadata": {},
   "outputs": [],
   "source": [
    "# Créer un navigateur\n",
    "# téléchargerr le driver\n",
    "# * Firefox : https://github.com/mozilla/geckodriver/releases\n",
    "# Chrome : https://chromedriver.chromium.org/downloads\n",
    "driver = webdriver.Chrome(executable_path= driver_path)"
   ]
  },
  {
   "cell_type": "code",
   "execution_count": 8,
   "metadata": {},
   "outputs": [],
   "source": [
    "driver.get(\"https://www.google.com/flights?hl=fr&gl=fr\")"
   ]
  },
  {
   "cell_type": "code",
   "execution_count": 9,
   "metadata": {},
   "outputs": [],
   "source": [
    "# page = driver.page_source\n",
    "# page[:1000]"
   ]
  },
  {
   "cell_type": "code",
   "execution_count": null,
   "metadata": {},
   "outputs": [],
   "source": []
  },
  {
   "cell_type": "code",
   "execution_count": 13,
   "metadata": {},
   "outputs": [],
   "source": [
    "origin_airport = driver.find_element_by_css_selector(\n",
    "    \"div[data-flt-ve='origin_airport'][class*='flt-input']\")"
   ]
  },
  {
   "cell_type": "code",
   "execution_count": 42,
   "metadata": {},
   "outputs": [],
   "source": [
    "# len(origin_airport)"
   ]
  },
  {
   "cell_type": "code",
   "execution_count": 14,
   "metadata": {},
   "outputs": [
    {
     "data": {
      "text/plain": [
       "'<div data-flt-ve=\"origin_airport\" jsaction=\"jsl._;f_f:jsl._;ica_bc:jsl._;keydown:jsl._\" class=\"flt-input gws-flights-form__input-container gws-flights__flex-box gws-flights-form__airport-input gws-flights-form__empty gws-flights-form__swapper-right\" role=\"presentation\" jsan=\"0.data-flt-ve,22.jsaction,t-ch-jmKqQoDY,7.flt-input,7.gws-flights-form__input-container,7.gws-flights__flex-box,7.gws-flights-form__airport-input,7.gws-flights-form__empty,7.gws-flights-form__swapper-right,0.role,21.jssc\" jstcache=\"573\"><div jscontroller=\"pSNSIe\" class=\"gws-flights-widgets-inputcapturearea__capture-area-wrapper\" jsaction=\"rcuQ6b:npT2md\" jstcache=\"468\"><span jsname=\"bOjMyf\" style=\"display:none\" aria-live=\"polite\" jsvs=\"\\'bOjMyf\\';\" jsan=\"0.jsname,5.display,0.aria-live,t-uU8ghUBFeaU\" id=\"flt-ica-1\" jstcache=\"492\"> <span jsan=\"t-qoTycjZOEvo,21.jssc\" jstcache=\"489\">D\\'où partez-vous&nbsp;?</span> <jsl jstcache=\"490\"></jsl> </span><textarea jsname=\"LlUqIb\" class=\"gws-flights-widgets-inputcapturearea__capture-area\" role=\"textbox\" tabindex=\"0\" jsaction=\"keyup:dbqUTd;focus:h06R8;blur:zjh6rb\" jsvs=\"\\'LlUqIb\\';\\'keyup:dbqUTd;focus:h06R8;blur:zjh6rb\\';\" jsan=\"0.jsname,7.gws-flights-widgets-inputcapturearea__capture-area,0.role,0.tabindex,22.jsaction\" aria-labelledby=\"flt-ica-1\" jstcache=\"493\"></textarea></div><span class=\"gws-flights-form__location-icon gws-flights-form__origin-icon\" jstcache=\"469\"><span style=\"height:16px;line-height:16px;width:16px\" class=\"z1asCe y6ox5\"><svg focusable=\"false\" xmlns=\"http://www.w3.org/2000/svg\" viewBox=\"0 0 24 24\"><path d=\"M2 12C2 6.48 6.48 2 12 2s10 4.48 10 10-4.48 10-10 10S2 17.52 2 12zm10 6c3.31 0 6-2.69 6-6s-2.69-6-6-6-6 2.69-6 6 2.69 6 6 6z\"></path></svg></span></span><div class=\"gws-flights-form__location-text gws-flights__flex-filler gws-flights__ellipsize gws-flights-form__input-target gws-flights-form__empty\" aria-hidden=\"true\" jsan=\"7.gws-flights-form__location-text,7.gws-flights__flex-filler,7.gws-flights__ellipsize,7.gws-flights-form__input-target,0.aria-hidden,t-F18OH-9izcM,7.gws-flights-form__empty,21.jssc\" jstcache=\"470\"><span class=\"gws-flights-form__text-field-placeholder\" jsan=\"7.gws-flights-form__text-field-placeholder,t-qoTycjZOEvo,21.jssc\" jstcache=\"375\">D\\'où partez-vous&nbsp;?</span><span class=\"gws-flights-form__location-list\" jstcache=\"376\"></span><input style=\"display: none;\" jstcache=\"377\"></div><span style=\"display: none;\" jstcache=\"471\"></span><div class=\"gws-flights-form__swapper-half-circle\" jsan=\"7.gws-flights-form__swapper-half-circle\" jstcache=\"472\"></div></div>'"
      ]
     },
     "execution_count": 14,
     "metadata": {},
     "output_type": "execute_result"
    }
   ],
   "source": [
    "origin_airport.get_attribute(\"outerHTML\") # Pour vérifier visuellement"
   ]
  },
  {
   "cell_type": "code",
   "execution_count": null,
   "metadata": {},
   "outputs": [],
   "source": []
  },
  {
   "cell_type": "code",
   "execution_count": 15,
   "metadata": {},
   "outputs": [],
   "source": [
    "origin_airport.click() # Pour cliquer et faire apparaître le formulaire "
   ]
  },
  {
   "cell_type": "code",
   "execution_count": null,
   "metadata": {},
   "outputs": [],
   "source": []
  },
  {
   "cell_type": "code",
   "execution_count": 38,
   "metadata": {},
   "outputs": [],
   "source": [
    "# origin_airport.send_keys(\"abidjan\")"
   ]
  },
  {
   "cell_type": "code",
   "execution_count": 16,
   "metadata": {},
   "outputs": [],
   "source": [
    "origin_airport2 = driver.find_element_by_css_selector(\n",
    "    \"input[placeholder*='partez-vous']\")"
   ]
  },
  {
   "cell_type": "code",
   "execution_count": 19,
   "metadata": {},
   "outputs": [],
   "source": [
    "origin_airport2.clear() # vider la zone de saisie"
   ]
  },
  {
   "cell_type": "code",
   "execution_count": 20,
   "metadata": {},
   "outputs": [],
   "source": [
    "origin_airport2.send_keys(\"paris\") # Remplir la zone de saisie"
   ]
  },
  {
   "cell_type": "code",
   "execution_count": 22,
   "metadata": {},
   "outputs": [],
   "source": [
    "origin_airport3 = driver.find_element_by_css_selector(\n",
    "    \".fsapp-option-content .fsapp-option-city-name\")"
   ]
  },
  {
   "cell_type": "code",
   "execution_count": 23,
   "metadata": {},
   "outputs": [],
   "source": [
    "origin_airport3.click()"
   ]
  },
  {
   "cell_type": "code",
   "execution_count": null,
   "metadata": {},
   "outputs": [],
   "source": []
  },
  {
   "cell_type": "code",
   "execution_count": 24,
   "metadata": {},
   "outputs": [],
   "source": [
    "destination_airport = driver.find_element_by_css_selector(\n",
    "    \"div[data-flt-ve='destination_airport'][class*='flt-input']\")"
   ]
  },
  {
   "cell_type": "code",
   "execution_count": 25,
   "metadata": {},
   "outputs": [],
   "source": [
    "destination_airport.click()"
   ]
  },
  {
   "cell_type": "code",
   "execution_count": 26,
   "metadata": {},
   "outputs": [],
   "source": [
    "destination_airport2 = driver.find_element_by_css_selector(\n",
    "    \"input[placeholder*='allez-vous']\")"
   ]
  },
  {
   "cell_type": "code",
   "execution_count": 27,
   "metadata": {},
   "outputs": [],
   "source": [
    "destination_airport2.clear() # vider la zone de saisie"
   ]
  },
  {
   "cell_type": "code",
   "execution_count": 28,
   "metadata": {},
   "outputs": [],
   "source": [
    "destination_airport2.send_keys(\"New York\")"
   ]
  },
  {
   "cell_type": "code",
   "execution_count": 29,
   "metadata": {},
   "outputs": [],
   "source": [
    "destination_airport3 = driver.find_element_by_css_selector(\n",
    "    \".fsapp-option-content .fsapp-option-city-name\")"
   ]
  },
  {
   "cell_type": "code",
   "execution_count": 30,
   "metadata": {},
   "outputs": [],
   "source": [
    "destination_airport3.click()"
   ]
  },
  {
   "cell_type": "code",
   "execution_count": null,
   "metadata": {},
   "outputs": [],
   "source": []
  },
  {
   "cell_type": "code",
   "execution_count": 31,
   "metadata": {},
   "outputs": [],
   "source": [
    "search_button = driver.find_element_by_css_selector(\n",
    "\".gws-flights-form__search-button-wrapper floating-action-button.gws-flights-form__search-button\")"
   ]
  },
  {
   "cell_type": "code",
   "execution_count": 32,
   "metadata": {},
   "outputs": [],
   "source": [
    "search_button.click()"
   ]
  },
  {
   "cell_type": "code",
   "execution_count": 33,
   "metadata": {},
   "outputs": [],
   "source": [
    "expand_button = driver.find_element_by_css_selector(\n",
    "                        \".gws-flights-results__dominated-toggle\")"
   ]
  },
  {
   "cell_type": "code",
   "execution_count": 34,
   "metadata": {},
   "outputs": [],
   "source": [
    "expand_button.click()"
   ]
  },
  {
   "cell_type": "code",
   "execution_count": null,
   "metadata": {},
   "outputs": [],
   "source": []
  },
  {
   "cell_type": "code",
   "execution_count": 35,
   "metadata": {},
   "outputs": [],
   "source": [
    "# import requests\n",
    "# chat = requests.get(\n",
    "# \"https://lemagduchat.ouest-france.fr/images/dossiers/2018-11/chat-drole-113730.jpg\")\n",
    "# with open(\"chat.jpg\", \"wb\") as f:\n",
    "#     f.write(chat.content)"
   ]
  },
  {
   "cell_type": "code",
   "execution_count": null,
   "metadata": {},
   "outputs": [],
   "source": []
  },
  {
   "cell_type": "code",
   "execution_count": 40,
   "metadata": {},
   "outputs": [],
   "source": [
    "def remplir_depart(depart):\n",
    "    css_origin_airport = \"div[data-flt-ve='origin_airport'][class*='flt-input']\"\n",
    "    origin_airport = driver.find_element_by_css_selector(css_origin_airport)\n",
    "    origin_airport.click() # Pour cliquer et faire apparaître le formulaire \n",
    "    time.sleep(1)\n",
    "    \n",
    "    css_origin_airport2 = \"input[placeholder*='partez-vous']\"\n",
    "    origin_airport2 = driver.find_element_by_css_selector(\n",
    "                                            css_origin_airport2)\n",
    "    origin_airport2.clear()\n",
    "    origin_airport2.send_keys(depart)\n",
    "    time.sleep(2)\n",
    "\n",
    "    css_origin_airport3 = \".fsapp-option-content .fsapp-option-city-name\"\n",
    "    origin_airport3 = driver.find_element_by_css_selector(\n",
    "                                        css_origin_airport3)\n",
    "    origin_airport3.click()"
   ]
  },
  {
   "cell_type": "code",
   "execution_count": 36,
   "metadata": {},
   "outputs": [],
   "source": [
    "def remplir_arrivee(arrivee):\n",
    "    css_destination_airport = \"div[data-flt-ve='destination_airport'][class*='flt-input']\"\n",
    "    destination_airport = driver.find_element_by_css_selector(\n",
    "        css_destination_airport)\n",
    "    destination_airport.click() # Pour cliquer et faire apparaître le formulaire \n",
    "    time.sleep(1)\n",
    "    \n",
    "    css_destination_airport2 = \"input[placeholder*='allez-vous']\"\n",
    "    destination_airport2 = driver.find_element_by_css_selector(\n",
    "                                            css_destination_airport2)\n",
    "    destination_airport2.clear()\n",
    "    destination_airport2.send_keys(arrivee)\n",
    "    time.sleep(2)\n",
    "\n",
    "    css_destination_airport3 = \".fsapp-option-content .fsapp-option-city-name\"\n",
    "    destination_airport3 = driver.find_element_by_css_selector(\n",
    "                                        css_destination_airport3)\n",
    "    destination_airport3.click()"
   ]
  },
  {
   "cell_type": "code",
   "execution_count": 37,
   "metadata": {},
   "outputs": [],
   "source": [
    "def rechercher():\n",
    "    search_button = driver.find_element_by_css_selector(\n",
    "            \".gws-flights-form__search-button-wrapper \" \n",
    "        + \"floating-action-button.gws-flights-form__search-button\")\n",
    "    search_button.click()\n",
    "    \n",
    "def derouler():\n",
    "    expand_button = driver.find_element_by_css_selector(\n",
    "                        \".gws-flights-results__dominated-toggle\")\n",
    "    expand_button.click()"
   ]
  },
  {
   "cell_type": "code",
   "execution_count": 42,
   "metadata": {},
   "outputs": [],
   "source": [
    "def prix_vol(depart = \"Paris\", arrivee = \"Abidjan\"):\n",
    "    driver.get(\"https://www.google.com/flights?hl=fr&gl=fr\")\n",
    "    time.sleep(1)\n",
    "    remplir_depart(depart)\n",
    "    time.sleep(2)\n",
    "    remplir_arrivee(arrivee)\n",
    "    rechercher()\n",
    "    time.sleep(2)\n",
    "    derouler()"
   ]
  },
  {
   "cell_type": "code",
   "execution_count": 43,
   "metadata": {},
   "outputs": [],
   "source": [
    "prix_vol()"
   ]
  },
  {
   "cell_type": "code",
   "execution_count": null,
   "metadata": {},
   "outputs": [],
   "source": []
  },
  {
   "cell_type": "code",
   "execution_count": 44,
   "metadata": {},
   "outputs": [],
   "source": [
    "from bs4 import BeautifulSoup"
   ]
  },
  {
   "cell_type": "code",
   "execution_count": 175,
   "metadata": {},
   "outputs": [],
   "source": [
    "html=  driver.find_element_by_css_selector(\"html\")\n",
    "page_source = html.get_attribute(\"outerHTML\")"
   ]
  },
  {
   "cell_type": "code",
   "execution_count": 176,
   "metadata": {},
   "outputs": [],
   "source": [
    "soup = BeautifulSoup(page_source)"
   ]
  },
  {
   "cell_type": "code",
   "execution_count": null,
   "metadata": {},
   "outputs": [],
   "source": []
  },
  {
   "cell_type": "markdown",
   "metadata": {},
   "source": [
    "### Sélection  de toutes les lignes de la table"
   ]
  },
  {
   "cell_type": "code",
   "execution_count": 177,
   "metadata": {},
   "outputs": [],
   "source": [
    "rows = soup.select( \n",
    " \".gws-flights-results__result-list .gws-flights-results__result-item\")"
   ]
  },
  {
   "cell_type": "code",
   "execution_count": 178,
   "metadata": {},
   "outputs": [],
   "source": [
    "row = rows[-1]"
   ]
  },
  {
   "cell_type": "markdown",
   "metadata": {},
   "source": [
    "### Block N° 2 : Temps de vol & compagnie"
   ]
  },
  {
   "cell_type": "code",
   "execution_count": 179,
   "metadata": {},
   "outputs": [],
   "source": [
    "time_block = row.select_one(\".gws-flights-results__itinerary-times\")"
   ]
  },
  {
   "cell_type": "code",
   "execution_count": 180,
   "metadata": {},
   "outputs": [
    {
     "data": {
      "text/plain": [
       "<div class=\"gws-flights-results__itinerary-times gws-flights__ellipsize\" data-animation-slideout=\"\"> <div class=\"gws-flights-results__times-row\"> <div class=\"gws-flights-results__times flt-subhead1\"><span> <span jsaction=\"mouseenter:pCNdcd;mouseleave:QsRKXb\" jscontroller=\"lLN5lc\" jsdata=\"Dij6Dd;;2171\"> <span>06:30</span> </span> </span> – <span> <span jsaction=\"mouseenter:pCNdcd;mouseleave:QsRKXb\" jscontroller=\"lLN5lc\" jsdata=\"Dij6Dd;;2172\"> <span>00:30</span><span class=\"gws-flights__offset-days\">+1</span> </span> </span> </div> </div> <div class=\"gws-flights-results__carriers gws-flights__ellipsize gws-flights__flex-box gws-flights__align-center flt-caption\"> <span class=\"gws-flights__ellipsize\"><span><span>Royal Air Maroc</span></span></span> <span class=\"gws-flights-results__airline-extra-info gws-flights__ellipsize\"> <span class=\"gws-flights-results__disclosure\"><span><div class=\"gws-flights__separator\"></div><span>Vol opéré par <span><span>Ram Express</span></span></span></span></span> </span> </div> </div>"
      ]
     },
     "execution_count": 180,
     "metadata": {},
     "output_type": "execute_result"
    }
   ],
   "source": [
    "time_block"
   ]
  },
  {
   "cell_type": "code",
   "execution_count": null,
   "metadata": {},
   "outputs": [],
   "source": []
  },
  {
   "cell_type": "code",
   "execution_count": 181,
   "metadata": {},
   "outputs": [],
   "source": [
    "# with open(\"time_block.html\", \"w\")  as f:\n",
    "#     f.write(str(time_block))"
   ]
  },
  {
   "cell_type": "code",
   "execution_count": 182,
   "metadata": {},
   "outputs": [
    {
     "data": {
      "text/plain": [
       "[<span>06:30</span>,\n",
       " <span>00:30</span>,\n",
       " <span class=\"gws-flights__offset-days\">+1</span>,\n",
       " <span>Royal Air Maroc</span>,\n",
       " <span><div class=\"gws-flights__separator\"></div><span>Vol opéré par <span><span>Ram Express</span></span></span></span>,\n",
       " <span>Vol opéré par <span><span>Ram Express</span></span></span>,\n",
       " <span><span>Ram Express</span></span>,\n",
       " <span>Ram Express</span>]"
      ]
     },
     "execution_count": 182,
     "metadata": {},
     "output_type": "execute_result"
    }
   ],
   "source": [
    "spans = time_block.select(\"span>span>span\")\n",
    "spans"
   ]
  },
  {
   "cell_type": "code",
   "execution_count": 199,
   "metadata": {},
   "outputs": [],
   "source": [
    "# len(time_block.select(\".gws-flights-results__times\"))"
   ]
  },
  {
   "cell_type": "code",
   "execution_count": null,
   "metadata": {},
   "outputs": [],
   "source": []
  },
  {
   "cell_type": "code",
   "execution_count": 183,
   "metadata": {},
   "outputs": [
    {
     "data": {
      "text/plain": [
       "{'departure': '06:30', 'arrival': '00:30', 'company': '+1'}"
      ]
     },
     "execution_count": 183,
     "metadata": {},
     "output_type": "execute_result"
    }
   ],
   "source": [
    "time_block_values = {\"departure\": spans[0].text,\n",
    "                     \"arrival\":  spans[1].text,\n",
    "                     \"company\":  spans[2].text\n",
    "                    }\n",
    "time_block_values"
   ]
  },
  {
   "cell_type": "code",
   "execution_count": 200,
   "metadata": {},
   "outputs": [],
   "source": [
    "def get_time_block(row) :\n",
    "    time_block = row.select_one(\".gws-flights-results__itinerary-times\")\n",
    "    spans = time_block.select(\"span>span>span\")\n",
    "    time_block_values = {\"departure\": spans[0].text,\n",
    "                     \"arrival\":  spans[1].text,\n",
    "                     \"company\":  spans[2].text}\n",
    "    return time_block_values"
   ]
  },
  {
   "cell_type": "code",
   "execution_count": null,
   "metadata": {},
   "outputs": [],
   "source": []
  },
  {
   "cell_type": "code",
   "execution_count": 201,
   "metadata": {},
   "outputs": [
    {
     "data": {
      "text/plain": [
       "{'departure': '06:30', 'arrival': '00:30', 'company': '+1'}"
      ]
     },
     "execution_count": 201,
     "metadata": {},
     "output_type": "execute_result"
    }
   ],
   "source": [
    "get_time_block(row)"
   ]
  },
  {
   "cell_type": "code",
   "execution_count": null,
   "metadata": {},
   "outputs": [],
   "source": []
  },
  {
   "cell_type": "markdown",
   "metadata": {},
   "source": [
    "### Block N° 4 : escales"
   ]
  },
  {
   "cell_type": "code",
   "execution_count": 210,
   "metadata": {},
   "outputs": [
    {
     "data": {
      "text/plain": [
       "<div class=\"gws-flights-results__itinerary-stops gws-flights__ellipsize\" data-animation-fadeout=\"\"> <div> <div class=\"gws-flights-results__stops flt-subhead1Normal\"> <div><span>2 escales</span></div> </div> </div> <div class=\"gws-flights-results__layover-time flt-caption\"> <span><span data-airportcode=\"RAK\" jscontroller=\"U6dg7d\"><span jsaction=\"mouseenter:pCNdcd;mouseleave:QsRKXb\">RAK</span></span><span data-airportcode=\"CMN\" jscontroller=\"U6dg7d\"><span>, </span><span jsaction=\"mouseenter:pCNdcd;mouseleave:QsRKXb\">CMN</span></span></span> </div> </div>"
      ]
     },
     "execution_count": 210,
     "metadata": {},
     "output_type": "execute_result"
    }
   ],
   "source": [
    "stops_block = row.select_one(\".gws-flights-results__itinerary-stops\")\n",
    "stops_block"
   ]
  },
  {
   "cell_type": "code",
   "execution_count": 214,
   "metadata": {},
   "outputs": [
    {
     "data": {
      "text/plain": [
       "'2'"
      ]
     },
     "execution_count": 214,
     "metadata": {},
     "output_type": "execute_result"
    }
   ],
   "source": [
    "nb_stops = stops_block.select_one(\n",
    "    \".gws-flights-results__stops span\").text\n",
    "nb_stops = nb_stops.split(\"\\xa0\")[0]\n",
    "nb_stops"
   ]
  },
  {
   "cell_type": "code",
   "execution_count": 215,
   "metadata": {},
   "outputs": [
    {
     "data": {
      "text/plain": [
       "'RAK, CMN'"
      ]
     },
     "execution_count": 215,
     "metadata": {},
     "output_type": "execute_result"
    }
   ],
   "source": [
    "details  = stops_block.select_one(\n",
    "    \".gws-flights-results__layover-time span\").text\n",
    "# duration = duration.split(\"\\xa0\")\n",
    "details"
   ]
  },
  {
   "cell_type": "code",
   "execution_count": 216,
   "metadata": {},
   "outputs": [],
   "source": [
    "def get_stops_block(row):\n",
    "    stops_block = row.select_one(\".gws-flights-results__itinerary-stops\")\n",
    "    nb_stops = stops_block.select_one(\".gws-flights-results__stops span\").text\n",
    "    nb_stops = nb_stops.split(\"\\xa0\")[0]\n",
    "    \n",
    "    details  = stops_block.select_one(\n",
    "                    \".gws-flights-results__layover-time span\").text\n",
    "    \n",
    "    return {\"nb_stops\":nb_stops, \"stops_details\": details }"
   ]
  },
  {
   "cell_type": "code",
   "execution_count": 221,
   "metadata": {},
   "outputs": [
    {
     "data": {
      "text/plain": [
       "{'nb_stops': '1', 'stops_details': '1\\xa0h\\xa020\\xa0min'}"
      ]
     },
     "execution_count": 221,
     "metadata": {},
     "output_type": "execute_result"
    }
   ],
   "source": [
    "get_stops_block(rows[0])"
   ]
  },
  {
   "cell_type": "code",
   "execution_count": null,
   "metadata": {},
   "outputs": [],
   "source": []
  },
  {
   "cell_type": "markdown",
   "metadata": {},
   "source": [
    "### Block N° 5 : les prix"
   ]
  },
  {
   "cell_type": "code",
   "execution_count": 222,
   "metadata": {},
   "outputs": [
    {
     "data": {
      "text/plain": [
       "<div class=\"gws-flights-results__itinerary-price\" jscontroller=\"OM4EZb\"> <div class=\"flt-subhead1 gws-flights-results__price\">      1 695 €   </div> <div class=\"gws-flights-results__price-annotation flt-caption\">aller-retour</div> </div>"
      ]
     },
     "execution_count": 222,
     "metadata": {},
     "output_type": "execute_result"
    }
   ],
   "source": [
    "price_block =  row.select_one(\".gws-flights-results__itinerary-price\")\n",
    "price_block"
   ]
  },
  {
   "cell_type": "code",
   "execution_count": 223,
   "metadata": {},
   "outputs": [
    {
     "data": {
      "text/plain": [
       "'1695€'"
      ]
     },
     "execution_count": 223,
     "metadata": {},
     "output_type": "execute_result"
    }
   ],
   "source": [
    "prices = price_block.select_one(\n",
    "    \".gws-flights-results__price\").text.strip()#.split(\"\\xa0\")\n",
    "prices  = re.sub(\"[^\\w€]\", \"\", prices)\n",
    "prices"
   ]
  },
  {
   "cell_type": "code",
   "execution_count": 224,
   "metadata": {},
   "outputs": [],
   "source": [
    "def get_price_block(row):\n",
    "    price_block =  row.select_one(\".gws-flights-results__itinerary-price\")\n",
    "    price = price_block.select_one(\n",
    "    \".gws-flights-results__price\").text\n",
    "    price  = re.sub(\"[^\\w€]\", \"\", price)\n",
    "    \n",
    "    return {\"price\": price}"
   ]
  },
  {
   "cell_type": "code",
   "execution_count": 225,
   "metadata": {},
   "outputs": [
    {
     "data": {
      "text/plain": [
       "{'price': '1695€'}"
      ]
     },
     "execution_count": 225,
     "metadata": {},
     "output_type": "execute_result"
    }
   ],
   "source": [
    "get_price_block(row)"
   ]
  },
  {
   "cell_type": "code",
   "execution_count": null,
   "metadata": {},
   "outputs": [],
   "source": []
  },
  {
   "cell_type": "code",
   "execution_count": 226,
   "metadata": {},
   "outputs": [],
   "source": [
    "# price = prices[0]\n",
    "# currency = prices[1]\n",
    "# price, currency"
   ]
  },
  {
   "cell_type": "code",
   "execution_count": 227,
   "metadata": {},
   "outputs": [
    {
     "data": {
      "text/plain": [
       "55"
      ]
     },
     "execution_count": 227,
     "metadata": {},
     "output_type": "execute_result"
    }
   ],
   "source": [
    "len(rows)"
   ]
  },
  {
   "cell_type": "markdown",
   "metadata": {},
   "source": [
    "### Block 3 : Duration"
   ]
  },
  {
   "cell_type": "code",
   "execution_count": 228,
   "metadata": {},
   "outputs": [
    {
     "data": {
      "text/plain": [
       "<div class=\"gws-flights-results__itinerary-duration gws-flights__ellipsize\" data-animation-fadeout=\"\"> <div class=\"gws-flights-results__duration flt-subhead1Normal\">19 h 0 min</div> <div> <div class=\"gws-flights-results__airports flt-caption\"> <span data-airportcode=\"ORY\" jsaction=\"mouseenter:pCNdcd;mouseleave:QsRKXb\" jscontroller=\"U6dg7d\">ORY</span>–<span data-airportcode=\"ABJ\" jsaction=\"mouseenter:pCNdcd;mouseleave:QsRKXb\" jscontroller=\"U6dg7d\">ABJ</span> </div> </div> </div>"
      ]
     },
     "execution_count": 228,
     "metadata": {},
     "output_type": "execute_result"
    }
   ],
   "source": [
    "duration_block = row.select_one(\n",
    "    \".gws-flights-results__itinerary-duration\")\n",
    "duration_block"
   ]
  },
  {
   "cell_type": "code",
   "execution_count": 229,
   "metadata": {},
   "outputs": [
    {
     "data": {
      "text/plain": [
       "'19h0min'"
      ]
     },
     "execution_count": 229,
     "metadata": {},
     "output_type": "execute_result"
    }
   ],
   "source": [
    "flight_duration = duration_block.select_one(\n",
    "    \".gws-flights-results__duration\").text.replace(\"\\xa0\", \"\")\n",
    "flight_duration"
   ]
  },
  {
   "cell_type": "code",
   "execution_count": 230,
   "metadata": {},
   "outputs": [
    {
     "data": {
      "text/plain": [
       "('ORY', 'ABJ')"
      ]
     },
     "execution_count": 230,
     "metadata": {},
     "output_type": "execute_result"
    }
   ],
   "source": [
    "airports = duration_block.select(\n",
    "    \".gws-flights-results__airports span[data-airportcode]\")\n",
    "departure = airports[0].text\n",
    "arrival = airports[1].text\n",
    "departure, arrival"
   ]
  },
  {
   "cell_type": "code",
   "execution_count": 231,
   "metadata": {},
   "outputs": [],
   "source": [
    "def get_duration_block(row):\n",
    "    duration_block = row.select_one(\n",
    "    \".gws-flights-results__itinerary-duration\")\n",
    "    flight_duration = duration_block.select_one(\n",
    "    \".gws-flights-results__duration\").text.replace(\"\\xa0\", \"\")\n",
    "    return {\"flight_duration\": flight_duration}"
   ]
  },
  {
   "cell_type": "code",
   "execution_count": 232,
   "metadata": {},
   "outputs": [
    {
     "data": {
      "text/plain": [
       "{'flight_duration': '19h0min'}"
      ]
     },
     "execution_count": 232,
     "metadata": {},
     "output_type": "execute_result"
    }
   ],
   "source": [
    "get_duration_block(row)"
   ]
  },
  {
   "cell_type": "code",
   "execution_count": null,
   "metadata": {},
   "outputs": [],
   "source": [
    "get_time_block, get_stops_block, get_price_block,get_duration_block"
   ]
  },
  {
   "cell_type": "code",
   "execution_count": 233,
   "metadata": {},
   "outputs": [
    {
     "data": {
      "text/plain": [
       "{'a': 1, 'b': 2}"
      ]
     },
     "execution_count": 233,
     "metadata": {},
     "output_type": "execute_result"
    }
   ],
   "source": [
    "dict1 = {\"a\": 1, \"b\": 2}\n",
    "dict1"
   ]
  },
  {
   "cell_type": "code",
   "execution_count": 236,
   "metadata": {},
   "outputs": [
    {
     "data": {
      "text/plain": [
       "{'c': 3, 'd': 4, 'e': 5}"
      ]
     },
     "execution_count": 236,
     "metadata": {},
     "output_type": "execute_result"
    }
   ],
   "source": [
    "dict2 = {\"c\": 3, \"d\": 4, \"e\": 5}\n",
    "dict2"
   ]
  },
  {
   "cell_type": "code",
   "execution_count": 237,
   "metadata": {},
   "outputs": [],
   "source": [
    "dict1.update(dict2)"
   ]
  },
  {
   "cell_type": "code",
   "execution_count": 238,
   "metadata": {},
   "outputs": [
    {
     "data": {
      "text/plain": [
       "{'a': 1, 'b': 2, 'c': 3, 'd': 4, 'e': 5}"
      ]
     },
     "execution_count": 238,
     "metadata": {},
     "output_type": "execute_result"
    }
   ],
   "source": [
    "dict1"
   ]
  },
  {
   "cell_type": "code",
   "execution_count": null,
   "metadata": {},
   "outputs": [],
   "source": []
  },
  {
   "cell_type": "code",
   "execution_count": 239,
   "metadata": {},
   "outputs": [],
   "source": [
    "def get_row(row) :\n",
    "    time_block =  get_time_block(row)\n",
    "    stops_block = get_stops_block(row)\n",
    "    price_block = get_price_block(row)\n",
    "    duration_block = get_duration_block(row)\n",
    "    \n",
    "    row_values = time_block\n",
    "    row_values.update(stops_block)\n",
    "    row_values.update(price_block)\n",
    "    row_values.update(duration_block)\n",
    "    \n",
    "    return row_values"
   ]
  },
  {
   "cell_type": "code",
   "execution_count": 240,
   "metadata": {},
   "outputs": [
    {
     "data": {
      "text/plain": [
       "{'departure': '06:30',\n",
       " 'arrival': '00:30',\n",
       " 'company': '+1',\n",
       " 'nb_stops': '2',\n",
       " 'stops_details': 'RAK, CMN',\n",
       " 'price': '1695€',\n",
       " 'flight_duration': '19h0min'}"
      ]
     },
     "execution_count": 240,
     "metadata": {},
     "output_type": "execute_result"
    }
   ],
   "source": [
    "get_row(row)"
   ]
  },
  {
   "cell_type": "code",
   "execution_count": null,
   "metadata": {},
   "outputs": [],
   "source": []
  },
  {
   "cell_type": "code",
   "execution_count": 248,
   "metadata": {},
   "outputs": [],
   "source": [
    "data = []\n",
    "for row in rows:\n",
    "    try :\n",
    "        data.append(get_row(row))\n",
    "    except Exception:\n",
    "        pass"
   ]
  },
  {
   "cell_type": "code",
   "execution_count": 250,
   "metadata": {},
   "outputs": [
    {
     "data": {
      "text/plain": [
       "53"
      ]
     },
     "execution_count": 250,
     "metadata": {},
     "output_type": "execute_result"
    }
   ],
   "source": [
    "len(data)"
   ]
  },
  {
   "cell_type": "code",
   "execution_count": 251,
   "metadata": {},
   "outputs": [
    {
     "data": {
      "text/plain": [
       "{'departure': '15:15',\n",
       " 'arrival': '23:15',\n",
       " 'company': 'Tap Air Portugal',\n",
       " 'nb_stops': '1',\n",
       " 'stops_details': '1\\xa0h\\xa020\\xa0min',\n",
       " 'price': '285€',\n",
       " 'flight_duration': '9h0min'}"
      ]
     },
     "execution_count": 251,
     "metadata": {},
     "output_type": "execute_result"
    }
   ],
   "source": [
    "data[0]"
   ]
  },
  {
   "cell_type": "code",
   "execution_count": null,
   "metadata": {},
   "outputs": [],
   "source": []
  },
  {
   "cell_type": "code",
   "execution_count": 252,
   "metadata": {},
   "outputs": [],
   "source": [
    "import pandas as pd"
   ]
  },
  {
   "cell_type": "code",
   "execution_count": 254,
   "metadata": {},
   "outputs": [
    {
     "data": {
      "text/html": [
       "<div>\n",
       "<style scoped>\n",
       "    .dataframe tbody tr th:only-of-type {\n",
       "        vertical-align: middle;\n",
       "    }\n",
       "\n",
       "    .dataframe tbody tr th {\n",
       "        vertical-align: top;\n",
       "    }\n",
       "\n",
       "    .dataframe thead th {\n",
       "        text-align: right;\n",
       "    }\n",
       "</style>\n",
       "<table border=\"1\" class=\"dataframe\">\n",
       "  <thead>\n",
       "    <tr style=\"text-align: right;\">\n",
       "      <th></th>\n",
       "      <th>departure</th>\n",
       "      <th>arrival</th>\n",
       "      <th>company</th>\n",
       "      <th>nb_stops</th>\n",
       "      <th>stops_details</th>\n",
       "      <th>price</th>\n",
       "      <th>flight_duration</th>\n",
       "    </tr>\n",
       "  </thead>\n",
       "  <tbody>\n",
       "    <tr>\n",
       "      <td>0</td>\n",
       "      <td>15:15</td>\n",
       "      <td>23:15</td>\n",
       "      <td>Tap Air Portugal</td>\n",
       "      <td>1</td>\n",
       "      <td>1 h 20 min</td>\n",
       "      <td>285€</td>\n",
       "      <td>9h0min</td>\n",
       "    </tr>\n",
       "    <tr>\n",
       "      <td>1</td>\n",
       "      <td>07:00</td>\n",
       "      <td>23:15</td>\n",
       "      <td>Tap Air Portugal</td>\n",
       "      <td>1</td>\n",
       "      <td>9 h 35 min</td>\n",
       "      <td>285€</td>\n",
       "      <td>17h15min</td>\n",
       "    </tr>\n",
       "    <tr>\n",
       "      <td>2</td>\n",
       "      <td>08:00</td>\n",
       "      <td>23:15</td>\n",
       "      <td>Tap Air Portugal</td>\n",
       "      <td>1</td>\n",
       "      <td>8 h 35 min</td>\n",
       "      <td>285€</td>\n",
       "      <td>16h15min</td>\n",
       "    </tr>\n",
       "    <tr>\n",
       "      <td>3</td>\n",
       "      <td>11:00</td>\n",
       "      <td>23:15</td>\n",
       "      <td>Tap Air Portugal</td>\n",
       "      <td>1</td>\n",
       "      <td>5 h 30 min</td>\n",
       "      <td>285€</td>\n",
       "      <td>13h15min</td>\n",
       "    </tr>\n",
       "    <tr>\n",
       "      <td>4</td>\n",
       "      <td>12:35</td>\n",
       "      <td>23:15</td>\n",
       "      <td>Tap Air Portugal</td>\n",
       "      <td>1</td>\n",
       "      <td>3 h 55 min</td>\n",
       "      <td>285€</td>\n",
       "      <td>11h40min</td>\n",
       "    </tr>\n",
       "  </tbody>\n",
       "</table>\n",
       "</div>"
      ],
      "text/plain": [
       "  departure arrival           company nb_stops stops_details price  \\\n",
       "0     15:15   23:15  Tap Air Portugal        1    1 h 20 min  285€   \n",
       "1     07:00   23:15  Tap Air Portugal        1    9 h 35 min  285€   \n",
       "2     08:00   23:15  Tap Air Portugal        1    8 h 35 min  285€   \n",
       "3     11:00   23:15  Tap Air Portugal        1    5 h 30 min  285€   \n",
       "4     12:35   23:15  Tap Air Portugal        1    3 h 55 min  285€   \n",
       "\n",
       "  flight_duration  \n",
       "0          9h0min  \n",
       "1        17h15min  \n",
       "2        16h15min  \n",
       "3        13h15min  \n",
       "4        11h40min  "
      ]
     },
     "execution_count": 254,
     "metadata": {},
     "output_type": "execute_result"
    }
   ],
   "source": [
    "df =  pd.DataFrame(data)\n",
    "df.head()"
   ]
  },
  {
   "cell_type": "code",
   "execution_count": 257,
   "metadata": {},
   "outputs": [
    {
     "data": {
      "text/html": [
       "<div>\n",
       "<style scoped>\n",
       "    .dataframe tbody tr th:only-of-type {\n",
       "        vertical-align: middle;\n",
       "    }\n",
       "\n",
       "    .dataframe tbody tr th {\n",
       "        vertical-align: top;\n",
       "    }\n",
       "\n",
       "    .dataframe thead th {\n",
       "        text-align: right;\n",
       "    }\n",
       "</style>\n",
       "<table border=\"1\" class=\"dataframe\">\n",
       "  <thead>\n",
       "    <tr style=\"text-align: right;\">\n",
       "      <th></th>\n",
       "      <th>departure</th>\n",
       "      <th>arrival</th>\n",
       "      <th>company</th>\n",
       "      <th>nb_stops</th>\n",
       "      <th>stops_details</th>\n",
       "      <th>price</th>\n",
       "      <th>flight_duration</th>\n",
       "      <th>price_clean</th>\n",
       "    </tr>\n",
       "  </thead>\n",
       "  <tbody>\n",
       "    <tr>\n",
       "      <td>0</td>\n",
       "      <td>15:15</td>\n",
       "      <td>23:15</td>\n",
       "      <td>Tap Air Portugal</td>\n",
       "      <td>1</td>\n",
       "      <td>1 h 20 min</td>\n",
       "      <td>285€</td>\n",
       "      <td>9h0min</td>\n",
       "      <td>285.0</td>\n",
       "    </tr>\n",
       "    <tr>\n",
       "      <td>1</td>\n",
       "      <td>07:00</td>\n",
       "      <td>23:15</td>\n",
       "      <td>Tap Air Portugal</td>\n",
       "      <td>1</td>\n",
       "      <td>9 h 35 min</td>\n",
       "      <td>285€</td>\n",
       "      <td>17h15min</td>\n",
       "      <td>285.0</td>\n",
       "    </tr>\n",
       "    <tr>\n",
       "      <td>2</td>\n",
       "      <td>08:00</td>\n",
       "      <td>23:15</td>\n",
       "      <td>Tap Air Portugal</td>\n",
       "      <td>1</td>\n",
       "      <td>8 h 35 min</td>\n",
       "      <td>285€</td>\n",
       "      <td>16h15min</td>\n",
       "      <td>285.0</td>\n",
       "    </tr>\n",
       "    <tr>\n",
       "      <td>3</td>\n",
       "      <td>11:00</td>\n",
       "      <td>23:15</td>\n",
       "      <td>Tap Air Portugal</td>\n",
       "      <td>1</td>\n",
       "      <td>5 h 30 min</td>\n",
       "      <td>285€</td>\n",
       "      <td>13h15min</td>\n",
       "      <td>285.0</td>\n",
       "    </tr>\n",
       "    <tr>\n",
       "      <td>4</td>\n",
       "      <td>12:35</td>\n",
       "      <td>23:15</td>\n",
       "      <td>Tap Air Portugal</td>\n",
       "      <td>1</td>\n",
       "      <td>3 h 55 min</td>\n",
       "      <td>285€</td>\n",
       "      <td>11h40min</td>\n",
       "      <td>285.0</td>\n",
       "    </tr>\n",
       "  </tbody>\n",
       "</table>\n",
       "</div>"
      ],
      "text/plain": [
       "  departure arrival           company nb_stops stops_details price  \\\n",
       "0     15:15   23:15  Tap Air Portugal        1    1 h 20 min  285€   \n",
       "1     07:00   23:15  Tap Air Portugal        1    9 h 35 min  285€   \n",
       "2     08:00   23:15  Tap Air Portugal        1    8 h 35 min  285€   \n",
       "3     11:00   23:15  Tap Air Portugal        1    5 h 30 min  285€   \n",
       "4     12:35   23:15  Tap Air Portugal        1    3 h 55 min  285€   \n",
       "\n",
       "  flight_duration  price_clean  \n",
       "0          9h0min        285.0  \n",
       "1        17h15min        285.0  \n",
       "2        16h15min        285.0  \n",
       "3        13h15min        285.0  \n",
       "4        11h40min        285.0  "
      ]
     },
     "execution_count": 257,
     "metadata": {},
     "output_type": "execute_result"
    }
   ],
   "source": [
    "df[\"price_clean\"] = df[\"price\"].str.replace(\"€\", \"\").astype(float)\n",
    "df.head()"
   ]
  },
  {
   "cell_type": "code",
   "execution_count": 258,
   "metadata": {},
   "outputs": [
    {
     "name": "stdout",
     "output_type": "stream",
     "text": [
      "<class 'pandas.core.frame.DataFrame'>\n",
      "RangeIndex: 53 entries, 0 to 52\n",
      "Data columns (total 8 columns):\n",
      "departure          53 non-null object\n",
      "arrival            53 non-null object\n",
      "company            53 non-null object\n",
      "nb_stops           53 non-null object\n",
      "stops_details      53 non-null object\n",
      "price              53 non-null object\n",
      "flight_duration    53 non-null object\n",
      "price_clean        53 non-null float64\n",
      "dtypes: float64(1), object(7)\n",
      "memory usage: 3.4+ KB\n"
     ]
    }
   ],
   "source": [
    "df.info()"
   ]
  },
  {
   "cell_type": "code",
   "execution_count": 260,
   "metadata": {},
   "outputs": [
    {
     "data": {
      "text/plain": [
       "(285.0, 1695.0)"
      ]
     },
     "execution_count": 260,
     "metadata": {},
     "output_type": "execute_result"
    }
   ],
   "source": [
    "df.price_clean.min(), df.price_clean.max()"
   ]
  },
  {
   "cell_type": "code",
   "execution_count": null,
   "metadata": {},
   "outputs": [],
   "source": []
  },
  {
   "cell_type": "code",
   "execution_count": 262,
   "metadata": {},
   "outputs": [
    {
     "data": {
      "text/plain": [
       "<matplotlib.axes._subplots.AxesSubplot at 0x2f16f2b5108>"
      ]
     },
     "execution_count": 262,
     "metadata": {},
     "output_type": "execute_result"
    },
    {
     "data": {
      "image/png": "[encoded data removed]",
      "text/plain": [
       "<Figure size 432x288 with 1 Axes>"
      ]
     },
     "metadata": {
      "needs_background": "light"
     },
     "output_type": "display_data"
    }
   ],
   "source": [
    "df.price_clean.hist()"
   ]
  },
  {
   "cell_type": "code",
   "execution_count": null,
   "metadata": {},
   "outputs": [],
   "source": []
  },
  {
   "cell_type": "code",
   "execution_count": null,
   "metadata": {},
   "outputs": [],
   "source": []
  },
  {
   "cell_type": "markdown",
   "metadata": {},
   "source": [
    "## Tout encpasuler dans une fonction"
   ]
  },
  {
   "cell_type": "code",
   "execution_count": 264,
   "metadata": {},
   "outputs": [],
   "source": [
    "def get_df(depart = \"Paris\", arrivee = \"Abidjan\") :\n",
    "    \n",
    "    prix_vol(depart,arrivee)\n",
    "    html =  driver.find_element_by_css_selector(\"html\")\n",
    "    page_source = html.get_attribute(\"outerHTML\")\n",
    "    \n",
    "    soup = BeautifulSoup(page_source)\n",
    "    \n",
    "    rows = soup.select( \".gws-flights-results__result-list \"+\n",
    "                       \".gws-flights-results__result-item\")\n",
    "    \n",
    "    data = []\n",
    "    for row in rows:\n",
    "        try :\n",
    "            data.append(get_row(row))\n",
    "        except Exception:\n",
    "            pass\n",
    "        \n",
    "    df = pd.DataFrame(data)\n",
    "    return df"
   ]
  },
  {
   "cell_type": "code",
   "execution_count": 265,
   "metadata": {},
   "outputs": [
    {
     "data": {
      "text/html": [
       "<div>\n",
       "<style scoped>\n",
       "    .dataframe tbody tr th:only-of-type {\n",
       "        vertical-align: middle;\n",
       "    }\n",
       "\n",
       "    .dataframe tbody tr th {\n",
       "        vertical-align: top;\n",
       "    }\n",
       "\n",
       "    .dataframe thead th {\n",
       "        text-align: right;\n",
       "    }\n",
       "</style>\n",
       "<table border=\"1\" class=\"dataframe\">\n",
       "  <thead>\n",
       "    <tr style=\"text-align: right;\">\n",
       "      <th></th>\n",
       "      <th>departure</th>\n",
       "      <th>arrival</th>\n",
       "      <th>company</th>\n",
       "      <th>nb_stops</th>\n",
       "      <th>stops_details</th>\n",
       "      <th>price</th>\n",
       "      <th>flight_duration</th>\n",
       "    </tr>\n",
       "  </thead>\n",
       "  <tbody>\n",
       "    <tr>\n",
       "      <td>0</td>\n",
       "      <td>08:05</td>\n",
       "      <td>15:20</td>\n",
       "      <td>ASKY</td>\n",
       "      <td>1</td>\n",
       "      <td>1 h 20 min</td>\n",
       "      <td>874€</td>\n",
       "      <td>7h15min</td>\n",
       "    </tr>\n",
       "    <tr>\n",
       "      <td>1</td>\n",
       "      <td>05:10</td>\n",
       "      <td>01:30</td>\n",
       "      <td>+1</td>\n",
       "      <td>1</td>\n",
       "      <td>13 h 55 min</td>\n",
       "      <td>904€</td>\n",
       "      <td>20h20min</td>\n",
       "    </tr>\n",
       "  </tbody>\n",
       "</table>\n",
       "</div>"
      ],
      "text/plain": [
       "  departure arrival company nb_stops stops_details price flight_duration\n",
       "0     08:05   15:20    ASKY        1    1 h 20 min  874€         7h15min\n",
       "1     05:10   01:30      +1        1   13 h 55 min  904€        20h20min"
      ]
     },
     "execution_count": 265,
     "metadata": {},
     "output_type": "execute_result"
    }
   ],
   "source": [
    "get_df(\"Dakar\",  \"Bamako\")"
   ]
  }
 ],
 "metadata": {
  "kernelspec": {
   "display_name": "Python 3",
   "language": "python",
   "name": "python3"
  },
  "language_info": {
   "codemirror_mode": {
    "name": "ipython",
    "version": 3
   },
   "file_extension": ".py",
   "mimetype": "text/x-python",
   "name": "python",
   "nbconvert_exporter": "python",
   "pygments_lexer": "ipython3",
   "version": "3.7.4"
  }
 },
 "nbformat": 4,
 "nbformat_minor": 2
}
