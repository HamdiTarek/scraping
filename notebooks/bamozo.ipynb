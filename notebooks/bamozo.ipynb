{
 "cells": [
  {
   "cell_type": "markdown",
   "metadata": {},
   "source": [
    "# Bamozo"
   ]
  },
  {
   "cell_type": "markdown",
   "metadata": {},
   "source": [
    "Dans ce devoir, nous allons essayer de scraper le site ivoirien [bamozo](http://www.bamozo.com/annonces/immobilier) . Nous allons nous intéresser aux [annonces de location de maisons](http://www.bamozo.com/annonces/immobilier) ."
   ]
  },
  {
   "cell_type": "markdown",
   "metadata": {},
   "source": [
    "# Importation des librairies"
   ]
  },
  {
   "cell_type": "markdown",
   "metadata": {},
   "source": [
    "On commence par importer les librairies idoines"
   ]
  },
  {
   "cell_type": "code",
   "execution_count": null,
   "metadata": {},
   "outputs": [],
   "source": [
    "from selenium import webdriver\n",
    "from bs4 import BeautifulSoup"
   ]
  },
  {
   "cell_type": "code",
   "execution_count": null,
   "metadata": {},
   "outputs": [],
   "source": [
    "# On définit la variable qui  pointe vers le driver\n",
    "driver_path = \"\" # Saisissez le bon chemin ici"
   ]
  },
  {
   "cell_type": "code",
   "execution_count": null,
   "metadata": {},
   "outputs": [],
   "source": []
  },
  {
   "cell_type": "markdown",
   "metadata": {},
   "source": [
    "# Q1 : lancer le navigateur automatique\n",
    "\n",
    "En se servant du module importé **webdriver**, lancez le navigateur automatique. Si tout se passe bien, vous devriez voir un navigateur s'ouvrir (**Chromme** ou **Firefox** ). Le navigateur sera appelé `driver`."
   ]
  },
  {
   "cell_type": "code",
   "execution_count": null,
   "metadata": {},
   "outputs": [],
   "source": [
    "driver = # Comp"
   ]
  },
  {
   "cell_type": "code",
   "execution_count": null,
   "metadata": {},
   "outputs": [],
   "source": []
  },
  {
   "cell_type": "markdown",
   "metadata": {},
   "source": [
    "# Q2 : Extraction du code source"
   ]
  },
  {
   "cell_type": "markdown",
   "metadata": {},
   "source": [
    "## Q2-1 Visiter la page de location de voiture sur locanto"
   ]
  },
  {
   "cell_type": "markdown",
   "metadata": {},
   "source": [
    "En utilisant la méthode **driver<font color=\"blue\">.get</font>**, naviguez à l'adresse https://www.locanto.ci/Immobilier/R/?type=rent . C'est sur cet adresse que nous pouvons accéder aux annonces de location de voiture de l'opérateur ivoirien **locanto** ."
   ]
  },
  {
   "cell_type": "code",
   "execution_count": null,
   "metadata": {},
   "outputs": [],
   "source": [
    "url = \"http://www.bamozo.com/annonces/immobilier\"\n",
    "\n",
    "driver.get( .... ) # Remplacer les \"....\" par la bonne variabe"
   ]
  },
  {
   "cell_type": "code",
   "execution_count": null,
   "metadata": {},
   "outputs": [],
   "source": []
  },
  {
   "cell_type": "markdown",
   "metadata": {},
   "source": [
    "# Q2-2 : Extraire le code source de la page"
   ]
  },
  {
   "cell_type": "markdown",
   "metadata": {},
   "source": [
    "Définissez une variable `page`qui contient le code source de la page."
   ]
  },
  {
   "cell_type": "code",
   "execution_count": null,
   "metadata": {},
   "outputs": [],
   "source": [
    "page = ...."
   ]
  },
  {
   "cell_type": "code",
   "execution_count": null,
   "metadata": {},
   "outputs": [],
   "source": []
  },
  {
   "cell_type": "markdown",
   "metadata": {},
   "source": [
    "# Q3 : Extraire toutes les lignes de la table"
   ]
  },
  {
   "cell_type": "markdown",
   "metadata": {},
   "source": [
    "En vous servant de votre navigateur, trouvez un sélecteur css qui caractérise  une ligne. On appellera ce sélecteur `row_css`."
   ]
  },
  {
   "cell_type": "code",
   "execution_count": null,
   "metadata": {},
   "outputs": [],
   "source": [
    "soup = BeautifulSoup(page)\n",
    "row_css = \"\" # Mettez le bonne classe ici\n",
    "rows = soup.select(row_css)\n",
    "print(\"Le nombre de lignes sur la première page est: \", len(rows))"
   ]
  },
  {
   "cell_type": "code",
   "execution_count": null,
   "metadata": {},
   "outputs": [],
   "source": []
  },
  {
   "cell_type": "markdown",
   "metadata": {},
   "source": [
    "# Q4 : Extraction d'une ligne"
   ]
  },
  {
   "cell_type": "markdown",
   "metadata": {},
   "source": [
    "## Q4-1 Prendre une ligne quelconque\n",
    "Définissez une variable `row`qui représente une ligne quelconque (servez-vous de la variable `rows`). Nous allons nous servir de cette variable pour extraire les informations importantes d'une ligne."
   ]
  },
  {
   "cell_type": "code",
   "execution_count": null,
   "metadata": {},
   "outputs": [],
   "source": [
    "row =  # Prenez une ligne quelconque, la 1ère, la 2ème, la dernière ..."
   ]
  },
  {
   "cell_type": "code",
   "execution_count": null,
   "metadata": {},
   "outputs": [],
   "source": []
  },
  {
   "cell_type": "markdown",
   "metadata": {},
   "source": [
    "En effet, une ligne contient plusieurs informations plus ou moins importantes.\n",
    "* Une **image** de l'immeuble (nous ommettrons ces images)\n",
    "* Un **titre** d'annonce (exemple: \"**APPARTEMENTS DE 3 PIÈCES À LOUER**\" )\n",
    "* Un **type** d'annonce (exemple:  \"**Particulier**\")\n",
    "* L'**anciennété** de l'annonce (exemple: **Nouveau** )\n",
    "* Une **description** textuelle de l'annonce (exemple: **Nouveaux appartements de 3 pièces à louer à la riviera**)\n",
    "* Le **prix** en cfa de l'immeuble (expemple: **230 000 F CFA**)\n",
    "* Une **date d'ajout** (exemple:  **08-01-2020 00:58:32**)"
   ]
  },
  {
   "cell_type": "markdown",
   "metadata": {},
   "source": [
    "## Q4-2  Extraire le titre"
   ]
  },
  {
   "cell_type": "code",
   "execution_count": null,
   "metadata": {},
   "outputs": [],
   "source": [
    "titre = .... # Ecrivez dans cette case le code qu'il faut pour extraire le titre d'une annonce"
   ]
  },
  {
   "cell_type": "code",
   "execution_count": null,
   "metadata": {},
   "outputs": [],
   "source": [
    "print(\"Le titre est:\", titre)"
   ]
  },
  {
   "cell_type": "code",
   "execution_count": null,
   "metadata": {},
   "outputs": [],
   "source": []
  },
  {
   "cell_type": "markdown",
   "metadata": {},
   "source": [
    "## Q4-3  Extraire le type"
   ]
  },
  {
   "cell_type": "code",
   "execution_count": null,
   "metadata": {},
   "outputs": [],
   "source": [
    "type_annonce = .... # Ecrivez dans cette case le code qu'il faut pour extraire le titre d'une annonce"
   ]
  },
  {
   "cell_type": "code",
   "execution_count": null,
   "metadata": {},
   "outputs": [],
   "source": [
    "print(\"Le type d'annonce est:\", type_annonce)"
   ]
  },
  {
   "cell_type": "code",
   "execution_count": null,
   "metadata": {},
   "outputs": [],
   "source": []
  },
  {
   "cell_type": "markdown",
   "metadata": {},
   "source": [
    "## Q4-4  Extraire l'anciennété"
   ]
  },
  {
   "cell_type": "code",
   "execution_count": null,
   "metadata": {},
   "outputs": [],
   "source": [
    "anciennete = .... # Ecrivez dans cette case le code qu'il faut pour extraire le titre d'une annonce"
   ]
  },
  {
   "cell_type": "code",
   "execution_count": null,
   "metadata": {},
   "outputs": [],
   "source": [
    "print(\"L'anciennété de l'annonce est:\", anciennete)"
   ]
  },
  {
   "cell_type": "code",
   "execution_count": null,
   "metadata": {},
   "outputs": [],
   "source": []
  },
  {
   "cell_type": "markdown",
   "metadata": {},
   "source": [
    "## Q4-5  Extraire la description"
   ]
  },
  {
   "cell_type": "code",
   "execution_count": null,
   "metadata": {},
   "outputs": [],
   "source": [
    "description = .... # Ecrivez dans cette case le code qu'il faut pour extraire le titre d'une annonce"
   ]
  },
  {
   "cell_type": "code",
   "execution_count": null,
   "metadata": {},
   "outputs": [],
   "source": [
    "print(\"Le type d'annonce est:\", type_annonce)"
   ]
  },
  {
   "cell_type": "code",
   "execution_count": null,
   "metadata": {},
   "outputs": [],
   "source": []
  },
  {
   "cell_type": "markdown",
   "metadata": {},
   "source": [
    "## Q4-6 : Extraire le prix"
   ]
  },
  {
   "cell_type": "markdown",
   "metadata": {},
   "source": [
    "Trouvez une manière de sélectionner le prix de l'annonce."
   ]
  },
  {
   "cell_type": "code",
   "execution_count": null,
   "metadata": {},
   "outputs": [],
   "source": [
    "prix = ..."
   ]
  },
  {
   "cell_type": "code",
   "execution_count": null,
   "metadata": {},
   "outputs": [],
   "source": [
    "print(\"Le prix est :\", prix)"
   ]
  },
  {
   "cell_type": "code",
   "execution_count": null,
   "metadata": {},
   "outputs": [],
   "source": []
  },
  {
   "cell_type": "markdown",
   "metadata": {},
   "source": [
    "## Q4-7 : Extraire la date d'ajout"
   ]
  },
  {
   "cell_type": "code",
   "execution_count": null,
   "metadata": {},
   "outputs": [],
   "source": [
    "date_ajout = .... # Ecrivez le code qui permet d'extraire la description ici"
   ]
  },
  {
   "cell_type": "code",
   "execution_count": null,
   "metadata": {},
   "outputs": [],
   "source": [
    "print(\"la date d'ajout de l'annonce est :\", date_ajout)"
   ]
  },
  {
   "cell_type": "code",
   "execution_count": null,
   "metadata": {},
   "outputs": [],
   "source": []
  },
  {
   "cell_type": "markdown",
   "metadata": {},
   "source": [
    "## Q4-6 : Extraire la ligne en entier"
   ]
  },
  {
   "cell_type": "markdown",
   "metadata": {},
   "source": [
    "En vous servant des questions précédentes, excrire une fonction `get_row` qui extrait toutes les informations d'une ligne."
   ]
  },
  {
   "cell_type": "code",
   "execution_count": null,
   "metadata": {},
   "outputs": [],
   "source": [
    "def get_row(row):\n",
    "    pass"
   ]
  },
  {
   "cell_type": "code",
   "execution_count": null,
   "metadata": {},
   "outputs": [],
   "source": []
  },
  {
   "cell_type": "code",
   "execution_count": null,
   "metadata": {},
   "outputs": [],
   "source": [
    "print(\"Un exemple de ligne est:\\n\", get_row(row))"
   ]
  },
  {
   "cell_type": "code",
   "execution_count": null,
   "metadata": {},
   "outputs": [],
   "source": []
  },
  {
   "cell_type": "markdown",
   "metadata": {},
   "source": [
    "## Q5 : Extraire toutes les annonces d'une page"
   ]
  },
  {
   "cell_type": "markdown",
   "metadata": {},
   "source": [
    "En se servant de la fonction `get_row` définie précédemment, définissez une fonction `get_locanto`qui récupère toutes les lignes présentes sur la page (vous pouvez ajoutez un `try...except` pour gérer les erreurs)."
   ]
  },
  {
   "cell_type": "code",
   "execution_count": null,
   "metadata": {},
   "outputs": [],
   "source": [
    "import pandas as pd"
   ]
  },
  {
   "cell_type": "code",
   "execution_count": null,
   "metadata": {},
   "outputs": [],
   "source": [
    "def get_bamozo():\n",
    "    pass"
   ]
  },
  {
   "cell_type": "code",
   "execution_count": null,
   "metadata": {},
   "outputs": [],
   "source": []
  },
  {
   "cell_type": "code",
   "execution_count": null,
   "metadata": {},
   "outputs": [],
   "source": [
    "df = get_bamozo()\n",
    "df.shape"
   ]
  },
  {
   "cell_type": "code",
   "execution_count": null,
   "metadata": {},
   "outputs": [],
   "source": [
    "df.head(10)"
   ]
  },
  {
   "cell_type": "code",
   "execution_count": null,
   "metadata": {},
   "outputs": [],
   "source": []
  },
  {
   "cell_type": "markdown",
   "metadata": {},
   "source": [
    "# Bonus"
   ]
  },
  {
   "cell_type": "markdown",
   "metadata": {},
   "source": [
    "<h1><font color=\"red\">Cette partie est un bonus (d'ici jusqu'à la fin du Notebook), il n'est pas obligatoire de la traiter</font></h1>"
   ]
  },
  {
   "cell_type": "code",
   "execution_count": null,
   "metadata": {},
   "outputs": [],
   "source": []
  },
  {
   "cell_type": "markdown",
   "metadata": {},
   "source": [
    "## Q6 : Extraire toutes les annonces de Locanto"
   ]
  },
  {
   "cell_type": "markdown",
   "metadata": {},
   "source": [
    "Avez-vous remarqué que **Bamozo** n'affiche que les quelques premiers éléments ? Quand une page limite volontairement le nombre d'éléments à  afficher, on parle de [pagination](https://fr.ryte.com/magazine/pagination-le-guide-pratique-pour-debutants). Nous allons cliquer automatiquement pour pouvoir afficher le reste des annonces."
   ]
  },
  {
   "cell_type": "markdown",
   "metadata": {},
   "source": [
    "## Q6-1 : Sélecteur du bouton 'Suivant'\n",
    "Défiler les annonces jusqu'en bas. Avez-vous vu la liste numérotée dont les numéros commencent par **1** et s'incrémentent à chaque fois de **1** ? En cliquant sur ces numéros, **Bamozo** nous affiche le reste des annonces."
   ]
  },
  {
   "cell_type": "markdown",
   "metadata": {},
   "source": [
    "**Question** : Trouvez un sélecteur qui permet de sélectionner le 'bouton'  qui affiche le texte '**SUIVANT**'"
   ]
  },
  {
   "cell_type": "code",
   "execution_count": null,
   "metadata": {},
   "outputs": [],
   "source": [
    "suivant_css = .... # Mettez votre CSS ici"
   ]
  },
  {
   "cell_type": "markdown",
   "metadata": {},
   "source": [
    "## Q6-2 : Cliquer sur 'Suivant'"
   ]
  },
  {
   "cell_type": "markdown",
   "metadata": {},
   "source": [
    "Complétez le code ci-dessous pour pouvoir cliquer sur le bouton '**Suivant**'. Servez-vous de l'exemple vu en classe."
   ]
  },
  {
   "cell_type": "code",
   "execution_count": null,
   "metadata": {},
   "outputs": [],
   "source": [
    "\n",
    "def click():\n",
    "    suivant = driver.find_element_by_css_selector(suivant_css)\n",
    "    .....\n",
    "    # Ajoutez votre code ici"
   ]
  },
  {
   "cell_type": "code",
   "execution_count": null,
   "metadata": {},
   "outputs": [],
   "source": []
  },
  {
   "cell_type": "markdown",
   "metadata": {},
   "source": [
    "## Q6-3 : Arrêter de cliquer une fois en fin de liste"
   ]
  },
  {
   "cell_type": "code",
   "execution_count": null,
   "metadata": {},
   "outputs": [],
   "source": [
    "from selenium.common.exceptions import NoSuchElementException"
   ]
  },
  {
   "cell_type": "markdown",
   "metadata": {},
   "source": [
    "En cliquant plusieurs fois sur '**Suivant**', on arrive à un moment donné à la fin de la liste. Comment savoir si on est à la fin de la liste ? En fin de liste, le bouton '**Suivant**' disparait ! Donc quand vous tentez de sélectionner l'élément '**Suivant**'  avec **Selenium**, vous allez recevoir une erreur de type `NoSuchElementException`. Nous allons alors définir une fonction qui ne prend aucun argument et vous retourne `True` si on est en fin de liste et `False` sinon."
   ]
  },
  {
   "cell_type": "code",
   "execution_count": null,
   "metadata": {},
   "outputs": [],
   "source": [
    "def is_list_end():\n",
    "    \"\"\"N'hésiztez pas à modifier cette fonction pour mieux cliquer et savoir si on est en fin de liste.\"\"\"\n",
    "    try:\n",
    "        suivant = driver.find_element_by_css_selector(suivant_css)\n",
    "        return False\n",
    "    except NoSuchElementException:\n",
    "        return True"
   ]
  },
  {
   "cell_type": "markdown",
   "metadata": {},
   "source": [
    "En vous servant de la fonction **is_list_end**, itérer dans une boucle **while** jusqu'à ce que vous ne soyez à la fin de la liste. A chaque fois que vous cliquez sur le bouton '**Suivant**', scraper la nouvelle table d'annonces qui apparaît."
   ]
  },
  {
   "cell_type": "code",
   "execution_count": null,
   "metadata": {},
   "outputs": [],
   "source": [
    "import time"
   ]
  },
  {
   "cell_type": "code",
   "execution_count": null,
   "metadata": {},
   "outputs": [],
   "source": [
    "dfs = []\n",
    "while not is_list_end():\n",
    "    df = get_locanto()\n",
    "    dfs.append(df)\n",
    "    suivant = driver.find_element_by_css_selector(suivant_css)\n",
    "    suivant.clik()\n",
    "    time.sleep(5)\n",
    "print(\"Le nombre de page est:\", len(dfs))"
   ]
  },
  {
   "cell_type": "code",
   "execution_count": null,
   "metadata": {},
   "outputs": [],
   "source": []
  },
  {
   "cell_type": "markdown",
   "metadata": {},
   "source": [
    "# Q6-4 Concaténer les données de toutes les pages de **locanto**"
   ]
  },
  {
   "cell_type": "markdown",
   "metadata": {},
   "source": [
    "En vous servant de la fonction **pd.concat**, fusionner toutes les données contenues dans la liste **dfs** définie dans la question précédente."
   ]
  },
  {
   "cell_type": "code",
   "execution_count": null,
   "metadata": {},
   "outputs": [],
   "source": [
    "df_all = pd.concat(....) # Complétez le code\n",
    "df_all.head(10)"
   ]
  }
 ],
 "metadata": {
  "kernelspec": {
   "display_name": "Python 3",
   "language": "python",
   "name": "python3"
  },
  "language_info": {
   "codemirror_mode": {
    "name": "ipython",
    "version": 3
   },
   "file_extension": ".py",
   "mimetype": "text/x-python",
   "name": "python",
   "nbconvert_exporter": "python",
   "pygments_lexer": "ipython3",
   "version": "3.7.4"
  }
 },
 "nbformat": 4,
 "nbformat_minor": 2
}
