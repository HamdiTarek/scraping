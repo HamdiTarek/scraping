{
 "cells": [
  {
   "cell_type": "markdown",
   "metadata": {},
   "source": [
    "# Locanto"
   ]
  },
  {
   "cell_type": "markdown",
   "metadata": {},
   "source": [
    "Dans ce TP libre, nous allons essayer de scraper le site ivoirien [locanto](https://www.locanto.ci) . Nous allons nous intéresser aux [annonces de location de maisons](https://www.locanto.ci/Immobilier/R/?type=rent) ."
   ]
  },
  {
   "cell_type": "code",
   "execution_count": null,
   "metadata": {},
   "outputs": [],
   "source": []
  },
  {
   "cell_type": "markdown",
   "metadata": {},
   "source": [
    "# Importation des librairies"
   ]
  },
  {
   "cell_type": "markdown",
   "metadata": {},
   "source": [
    "On commence par importer les librairies idoines"
   ]
  },
  {
   "cell_type": "code",
   "execution_count": 1,
   "metadata": {},
   "outputs": [],
   "source": [
    "from selenium import webdriver\n",
    "from bs4 import BeautifulSoup"
   ]
  },
  {
   "cell_type": "code",
   "execution_count": 2,
   "metadata": {},
   "outputs": [],
   "source": [
    "# On définit la variable qui  pointe vers le driver\n",
    "driver_path = \"C:/Users/NKA/Downloads/chromedriver.exe\" # Saisissez le bon chemin ici"
   ]
  },
  {
   "cell_type": "code",
   "execution_count": null,
   "metadata": {},
   "outputs": [],
   "source": []
  },
  {
   "cell_type": "markdown",
   "metadata": {},
   "source": [
    "# Q1 : lancer le navigateur automatique\n",
    "\n",
    "En se servant du module importé **webdriver**, lancez le navigateur automatique. Si tout se passe bien, vous devriez voir un navigateur s'ouvrir (**Chromme** ou **Firefox** ). Le navigateur sera appelé `driver`."
   ]
  },
  {
   "cell_type": "code",
   "execution_count": 3,
   "metadata": {},
   "outputs": [],
   "source": [
    "driver = webdriver.Chrome(executable_path= driver_path)"
   ]
  },
  {
   "cell_type": "code",
   "execution_count": null,
   "metadata": {},
   "outputs": [],
   "source": []
  },
  {
   "cell_type": "markdown",
   "metadata": {},
   "source": [
    "# Q2 : Extraction du code source"
   ]
  },
  {
   "cell_type": "markdown",
   "metadata": {},
   "source": [
    "## Q2-1 Visiter la page de location de voiture sur locanto"
   ]
  },
  {
   "cell_type": "markdown",
   "metadata": {},
   "source": [
    "En utilisant la méthode **driver<font color=\"blue\">.get</font>**, naviguez à l'adresse https://www.locanto.ci/Immobilier/R/?type=rent . C'est sur cet adresse que nous pouvons accéder aux annonces de location de voiture de l'opérateur ivoirien **locanto** ."
   ]
  },
  {
   "cell_type": "code",
   "execution_count": 4,
   "metadata": {},
   "outputs": [],
   "source": [
    "url = \"https://www.locanto.ci/Immobilier/R/?type=rent\"\n",
    "\n",
    "driver.get( url ) # Remplacer les \"....\" par la bonne variabe"
   ]
  },
  {
   "cell_type": "code",
   "execution_count": null,
   "metadata": {},
   "outputs": [],
   "source": []
  },
  {
   "cell_type": "markdown",
   "metadata": {},
   "source": [
    "# Q2-2 : Extraire le code source de la page"
   ]
  },
  {
   "cell_type": "markdown",
   "metadata": {},
   "source": [
    "Définissez une variable `page`qui contient le code source de la page."
   ]
  },
  {
   "cell_type": "code",
   "execution_count": 5,
   "metadata": {},
   "outputs": [],
   "source": [
    "page = driver.page_source"
   ]
  },
  {
   "cell_type": "code",
   "execution_count": null,
   "metadata": {},
   "outputs": [],
   "source": []
  },
  {
   "cell_type": "markdown",
   "metadata": {},
   "source": [
    "# Q3 : Extraire toutes les lignes de la table"
   ]
  },
  {
   "cell_type": "markdown",
   "metadata": {},
   "source": [
    "En vous servant de votre navigateur, trouvez un sélecteur css qui caractérise  une ligne. On appellera ce sélecteur `row_css`."
   ]
  },
  {
   "cell_type": "code",
   "execution_count": 6,
   "metadata": {},
   "outputs": [
    {
     "name": "stdout",
     "output_type": "stream",
     "text": [
      "Le nombre de lignes sur la première page est:  24\n"
     ]
    }
   ],
   "source": [
    "soup = BeautifulSoup(page)\n",
    "# row_css = \".resultRow\" # Mettez le bonne classe \n",
    "row_css = \"[id^='resultRow']\"\n",
    "rows = soup.select(row_css)\n",
    "print(\"Le nombre de lignes sur la première page est: \", len(rows))"
   ]
  },
  {
   "cell_type": "code",
   "execution_count": null,
   "metadata": {},
   "outputs": [],
   "source": []
  },
  {
   "cell_type": "markdown",
   "metadata": {},
   "source": [
    "# Q4 : Extraction d'une ligne"
   ]
  },
  {
   "cell_type": "markdown",
   "metadata": {},
   "source": [
    "## Q4-1 Prendre une ligne quelconque\n",
    "Définissez une variable `row`qui représente une ligne quelconque (servez-vous de la variable `rows`). Nous allons nous servir de cette variable pour extraire les informations importantes d'une ligne."
   ]
  },
  {
   "cell_type": "code",
   "execution_count": 7,
   "metadata": {},
   "outputs": [],
   "source": [
    "row = rows[0] # Prenez une ligne quelconque, la 1ère, la 2ème, la dernière ..."
   ]
  },
  {
   "cell_type": "code",
   "execution_count": null,
   "metadata": {},
   "outputs": [],
   "source": []
  },
  {
   "cell_type": "markdown",
   "metadata": {},
   "source": [
    "En effet, une ligne contient plusieurs informations plus ou moins importantes.\n",
    "* Une **image** de l'immeuble (nous ommettrons ces images)\n",
    "* Un **titre** d'annonce (exemple: \"**Appart 2p a louer Riviera bonoumin**\" )\n",
    "* La **ville** où  se trouve l'immeuble (exemple:  \"**Abidjan**\")\n",
    "* Le **prix** en cfa de l'immeuble (expemple: **90,000 CFA**)\n",
    "* Une **description** textuelle de l'annonce (exemple: \"**Appartement de 2pieces a lieu a la Riviera bonoumin non loin d'Abidjan mall. Ch,salon, cuisine, placards,2dch WC,propre .**\" )\n",
    "* Un **pied** de carte qui varie selon le type de l'immeuble concerné par l'annonce : appartement, maison... Un exemple de pied de carte est \"**Location appartement Abidjan**\""
   ]
  },
  {
   "cell_type": "markdown",
   "metadata": {},
   "source": [
    "## Q4-2  Extraire le titre et la ville"
   ]
  },
  {
   "cell_type": "markdown",
   "metadata": {},
   "source": [
    "Copiez coller ce sélecteur css `.resultMain .textHeader .bp_ad__title_link` dans votre navigateur. Normalement le premier en-tête de toutes les cartes devraient être pris."
   ]
  },
  {
   "cell_type": "code",
   "execution_count": 8,
   "metadata": {},
   "outputs": [
    {
     "name": "stdout",
     "output_type": "stream",
     "text": [
      "<a class=\"bp_ad__title_link\" href=\"https://abidjan.locanto.ci/ID_4180312322/EN-LOCATION-RIVIERA-3-WORLD-CITY-VILLA-DUPLEX-DE-5-PIECES.html\">EN LOCATION RIVIERA 3 WORLD CITY VILLA …<div class=\"bp_ad__city smallgray\"><svg class=\"ysvg\" style=\"width: 10px; height:10px\"><use xlink:href=\"/assets/200116_111106/images/bg/icons/sprites/mobile/main/sprite.svg#pin\"></use></svg>Abidjan</div></a>\n"
     ]
    }
   ],
   "source": [
    "header1_css = \".resultMain .textHeader .bp_ad__title_link\"\n",
    "header1 = row.select_one(header1_css)\n",
    "print(header1)"
   ]
  },
  {
   "cell_type": "markdown",
   "metadata": {},
   "source": [
    "**Question**: Comment récupéreriez-vous le titre de l'annonce (servez-vous de la variable `header1`) ?"
   ]
  },
  {
   "cell_type": "code",
   "execution_count": 9,
   "metadata": {},
   "outputs": [],
   "source": [
    "titre = header1.text # Ecrivez dans cette case le code qu'il faut pour extraire le titre d'une annonce"
   ]
  },
  {
   "cell_type": "code",
   "execution_count": 11,
   "metadata": {},
   "outputs": [
    {
     "name": "stdout",
     "output_type": "stream",
     "text": [
      "Le titre est: EN LOCATION RIVIERA 3 WORLD CITY VILLA …Abidjan\n"
     ]
    }
   ],
   "source": [
    "print(\"Le titre est:\", titre)"
   ]
  },
  {
   "cell_type": "code",
   "execution_count": null,
   "metadata": {},
   "outputs": [],
   "source": []
  },
  {
   "cell_type": "markdown",
   "metadata": {},
   "source": [
    "**Question**: Comment récupéreriez-vous la ville (servez-vous de la variable `header1`)?"
   ]
  },
  {
   "cell_type": "code",
   "execution_count": 18,
   "metadata": {},
   "outputs": [],
   "source": [
    "ville_css = \".bp_ad__city\"\n",
    "ville = header1.select_one(ville_css).text # Ecrivez le code qui permet d'extraire la ville, et stockez le résultat dans la variable `ville`"
   ]
  },
  {
   "cell_type": "code",
   "execution_count": 19,
   "metadata": {},
   "outputs": [
    {
     "name": "stdout",
     "output_type": "stream",
     "text": [
      "La ville est : Abidjan\n"
     ]
    }
   ],
   "source": [
    "print(\"La ville est :\", ville)"
   ]
  },
  {
   "cell_type": "code",
   "execution_count": null,
   "metadata": {},
   "outputs": [],
   "source": []
  },
  {
   "cell_type": "markdown",
   "metadata": {},
   "source": [
    "## Q4-3 : Extraire le prix"
   ]
  },
  {
   "cell_type": "markdown",
   "metadata": {},
   "source": [
    "Trouvez une manière de sélectionner le prix de l'annonce."
   ]
  },
  {
   "cell_type": "code",
   "execution_count": 20,
   "metadata": {},
   "outputs": [],
   "source": [
    "price_css = \".bp_ad__price\" # Complétez le sélecteur"
   ]
  },
  {
   "cell_type": "code",
   "execution_count": 22,
   "metadata": {},
   "outputs": [
    {
     "name": "stdout",
     "output_type": "stream",
     "text": [
      "Le prix est : 1,500,000 CFA\n"
     ]
    }
   ],
   "source": [
    "price = row.select_one(price_css).text\n",
    "print(\"Le prix est :\", price)"
   ]
  },
  {
   "cell_type": "code",
   "execution_count": null,
   "metadata": {},
   "outputs": [],
   "source": []
  },
  {
   "cell_type": "markdown",
   "metadata": {},
   "source": [
    "## Q4-4 : Extraire la description"
   ]
  },
  {
   "cell_type": "markdown",
   "metadata": {},
   "source": [
    "En procédant de la même manière que précédemment (n'hésitez pas à  stocker votre sélecteur css dans une variable), extrayez la description de l'annonce et stockez-la dans la variable `description` ."
   ]
  },
  {
   "cell_type": "code",
   "execution_count": 26,
   "metadata": {},
   "outputs": [],
   "source": [
    "description_css = \".textDesc\" # Ecrivez le code qui permet d'extraire la description ici\n",
    "description  = row.select_one(description_css).text"
   ]
  },
  {
   "cell_type": "code",
   "execution_count": 28,
   "metadata": {},
   "outputs": [
    {
     "name": "stdout",
     "output_type": "stream",
     "text": [
      "la description de la page est : EN LOCATION RIVIERA 3 WORLD CITY : VILLA DUPLEX DE 5 PIÈCES.\n",
      "Zone : dans la Cité : World City ,pas loin du Lycée Français .\n",
      "Un Salon + une salle a Mangé .\n",
      "Une grande Cuisine .\n",
      "4 …\n"
     ]
    }
   ],
   "source": [
    "print(\"la description de la page est :\", description)"
   ]
  },
  {
   "cell_type": "code",
   "execution_count": null,
   "metadata": {},
   "outputs": [],
   "source": []
  },
  {
   "cell_type": "markdown",
   "metadata": {},
   "source": [
    "## Q4-5 : Extraire le pied de carte"
   ]
  },
  {
   "cell_type": "markdown",
   "metadata": {},
   "source": [
    "En procédant de la même manière que précédemment (n'hésitez pas à  stocker votre sélecteur css dans une variable), extrayez le pied  de carte et stockez-le dans la variable `type_loaction` ."
   ]
  },
  {
   "cell_type": "code",
   "execution_count": 31,
   "metadata": {},
   "outputs": [],
   "source": [
    "type_loaction_css = \".bp_ad__footer\"\n",
    "type_loaction = row.select_one(type_loaction_css).text"
   ]
  },
  {
   "cell_type": "code",
   "execution_count": 32,
   "metadata": {},
   "outputs": [
    {
     "name": "stdout",
     "output_type": "stream",
     "text": [
      "Le type de la location est: Location maison Abidjan\n"
     ]
    }
   ],
   "source": [
    "print(\"Le type de la location est:\", type_loaction)"
   ]
  },
  {
   "cell_type": "code",
   "execution_count": null,
   "metadata": {},
   "outputs": [],
   "source": []
  },
  {
   "cell_type": "markdown",
   "metadata": {},
   "source": [
    "## Q4-6 : Extraire la ligne en entier"
   ]
  },
  {
   "cell_type": "markdown",
   "metadata": {},
   "source": [
    "En vous servant des questions précédentes, excrire une fonction `get_row` qui extrait toutes les informations d'une ligne."
   ]
  },
  {
   "cell_type": "code",
   "execution_count": 42,
   "metadata": {},
   "outputs": [],
   "source": [
    "def get_text(element, css):\n",
    "    tag = element.select_one(css)\n",
    "    text = tag.text if tag else None\n",
    "    return text"
   ]
  },
  {
   "cell_type": "code",
   "execution_count": 45,
   "metadata": {},
   "outputs": [],
   "source": [
    "def get_row(row):\n",
    "    titre_css = \".resultMain .textHeader .bp_ad__title_link\"\n",
    "    titre = get_text(row, titre_css) \n",
    "    \n",
    "    ville_css = \".bp_ad__city\"\n",
    "    ville = get_text(row, ville_css)\n",
    "    \n",
    "    price_css = \".bp_ad__price\" # Complétez le sélecteur\n",
    "    price = get_text(row, price_css)\n",
    "#     price =  price.text if price  else None\n",
    "    \n",
    "    description_css = \".textDesc\" \n",
    "    description  = get_text(row, description_css)\n",
    "    \n",
    "    type_loaction_css = \".bp_ad__footer\"\n",
    "    type_loaction = get_text(row, type_loaction_css )\n",
    "    \n",
    "    return {\"titre\":titre, \"ville\":ville, \"price\":price, \n",
    "            \"description\":description, \"type_loaction\":type_loaction }"
   ]
  },
  {
   "cell_type": "code",
   "execution_count": 46,
   "metadata": {},
   "outputs": [
    {
     "name": "stdout",
     "output_type": "stream",
     "text": [
      "Un exemple de ligne est:\n",
      "\n",
      " {'titre': 'EN LOCATION RIVIERA 3 WORLD CITY VILLA …Abidjan', 'ville': 'Abidjan', 'price': '1,500,000 CFA', 'description': 'EN LOCATION RIVIERA 3 WORLD CITY : VILLA DUPLEX DE 5 PIÈCES.\\nZone : dans la Cité : World City ,pas loin du Lycée Français .\\nUn Salon + une salle a Mangé .\\nUne grande Cuisine .\\n4 …', 'type_loaction': 'Location maison Abidjan'}\n"
     ]
    }
   ],
   "source": [
    "print(\"Un exemple de ligne est:\\n\\n\", get_row(row))"
   ]
  },
  {
   "cell_type": "code",
   "execution_count": null,
   "metadata": {},
   "outputs": [],
   "source": []
  },
  {
   "cell_type": "markdown",
   "metadata": {},
   "source": [
    "## Q5 : Extraire toutes les annonces d'une page"
   ]
  },
  {
   "cell_type": "markdown",
   "metadata": {},
   "source": [
    "En se servant de la fonction `get_row` définie précédemment, définissez une fonction `get_locanto`qui récupère toutes les lignes présentes sur la page (vous pouvez ajoutez un `try...except` pour gérer les erreurs)."
   ]
  },
  {
   "cell_type": "code",
   "execution_count": null,
   "metadata": {},
   "outputs": [],
   "source": []
  },
  {
   "cell_type": "code",
   "execution_count": 51,
   "metadata": {},
   "outputs": [],
   "source": [
    "def get_locanto():\n",
    "    data = [get_row(row) for row in rows]\n",
    "    return data"
   ]
  },
  {
   "cell_type": "code",
   "execution_count": 52,
   "metadata": {},
   "outputs": [
    {
     "data": {
      "text/plain": [
       "[{'titre': 'EN LOCATION RIVIERA 3 WORLD CITY VILLA …Abidjan',\n",
       "  'ville': 'Abidjan',\n",
       "  'price': '1,500,000 CFA',\n",
       "  'description': 'EN LOCATION RIVIERA 3 WORLD CITY : VILLA DUPLEX DE 5 PIÈCES.\\nZone : dans la Cité : World City ,pas loin du Lycée Français .\\nUn Salon + une salle a Mangé .\\nUne grande Cuisine .\\n4 …',\n",
       "  'type_loaction': 'Location maison Abidjan'},\n",
       " {'titre': 'Chambre avec salon commum à MARCORYAbidjan',\n",
       "  'ville': 'Abidjan',\n",
       "  'price': '40,000 CFA',\n",
       "  'description': 'chambre (entrée couché),salon commun à Marcory vers Massarana\\nCondition :célibataire homme ou femme\\n04 mois seulement\\n07202626\\n76432626',\n",
       "  'type_loaction': 'Location appartement Abidjan'},\n",
       " {'titre': 'colocationCocody',\n",
       "  'ville': 'Cocody',\n",
       "  'price': None,\n",
       "  'description': 'Je recherche une personne avec qui prendre un studio à deux d un budget 25000fr à 30000fr dans la commune de cocody riviera angré en divisant la caution demandé à deux voici mon …',\n",
       "  'type_loaction': 'Colocation Abidjan'}]"
      ]
     },
     "execution_count": 52,
     "metadata": {},
     "output_type": "execute_result"
    }
   ],
   "source": [
    "data = get_locanto()\n",
    "data[:3]"
   ]
  },
  {
   "cell_type": "code",
   "execution_count": 53,
   "metadata": {},
   "outputs": [],
   "source": [
    "import pandas as pd"
   ]
  },
  {
   "cell_type": "code",
   "execution_count": 56,
   "metadata": {},
   "outputs": [
    {
     "data": {
      "text/plain": [
       "'0.25.1'"
      ]
     },
     "execution_count": 56,
     "metadata": {},
     "output_type": "execute_result"
    }
   ],
   "source": [
    "pd.__version__"
   ]
  },
  {
   "cell_type": "code",
   "execution_count": 54,
   "metadata": {},
   "outputs": [],
   "source": [
    "df = pd.DataFrame(data)"
   ]
  },
  {
   "cell_type": "code",
   "execution_count": 55,
   "metadata": {},
   "outputs": [
    {
     "data": {
      "text/html": [
       "<div>\n",
       "<style scoped>\n",
       "    .dataframe tbody tr th:only-of-type {\n",
       "        vertical-align: middle;\n",
       "    }\n",
       "\n",
       "    .dataframe tbody tr th {\n",
       "        vertical-align: top;\n",
       "    }\n",
       "\n",
       "    .dataframe thead th {\n",
       "        text-align: right;\n",
       "    }\n",
       "</style>\n",
       "<table border=\"1\" class=\"dataframe\">\n",
       "  <thead>\n",
       "    <tr style=\"text-align: right;\">\n",
       "      <th></th>\n",
       "      <th>titre</th>\n",
       "      <th>ville</th>\n",
       "      <th>price</th>\n",
       "      <th>description</th>\n",
       "      <th>type_loaction</th>\n",
       "    </tr>\n",
       "  </thead>\n",
       "  <tbody>\n",
       "    <tr>\n",
       "      <td>0</td>\n",
       "      <td>EN LOCATION RIVIERA 3 WORLD CITY VILLA …Abidjan</td>\n",
       "      <td>Abidjan</td>\n",
       "      <td>1,500,000 CFA</td>\n",
       "      <td>EN LOCATION RIVIERA 3 WORLD CITY : VILLA DUPLE...</td>\n",
       "      <td>Location maison Abidjan</td>\n",
       "    </tr>\n",
       "    <tr>\n",
       "      <td>1</td>\n",
       "      <td>Chambre avec salon commum à MARCORYAbidjan</td>\n",
       "      <td>Abidjan</td>\n",
       "      <td>40,000 CFA</td>\n",
       "      <td>chambre (entrée couché),salon commun à Marcory...</td>\n",
       "      <td>Location appartement Abidjan</td>\n",
       "    </tr>\n",
       "    <tr>\n",
       "      <td>2</td>\n",
       "      <td>colocationCocody</td>\n",
       "      <td>Cocody</td>\n",
       "      <td>None</td>\n",
       "      <td>Je recherche une personne avec qui prendre un ...</td>\n",
       "      <td>Colocation Abidjan</td>\n",
       "    </tr>\n",
       "    <tr>\n",
       "      <td>3</td>\n",
       "      <td>Villa basse à louerAbidjan</td>\n",
       "      <td>Abidjan</td>\n",
       "      <td>600,000 CFA</td>\n",
       "      <td>Villa basse 5 pièces avec garage de 3véhicules...</td>\n",
       "      <td>Location maison Abidjan</td>\n",
       "    </tr>\n",
       "    <tr>\n",
       "      <td>4</td>\n",
       "      <td>Duplex 4p a louer macaci 2platoAbidjan</td>\n",
       "      <td>Abidjan</td>\n",
       "      <td>250,000 CFA</td>\n",
       "      <td>Duplex de 4pieces a louer située au 2plateaux ...</td>\n",
       "      <td>Location maison Abidjan</td>\n",
       "    </tr>\n",
       "    <tr>\n",
       "      <td>5</td>\n",
       "      <td>Beau duplex a louéAbidjan</td>\n",
       "      <td>Abidjan</td>\n",
       "      <td>3 CFA</td>\n",
       "      <td>Beau Duplex haut standing de 7pieces avec pici...</td>\n",
       "      <td>Location maison Abidjan</td>\n",
       "    </tr>\n",
       "    <tr>\n",
       "      <td>6</td>\n",
       "      <td>grand et bel appart 4 pièces déjà meublé a lou...</td>\n",
       "      <td>Abidjan</td>\n",
       "      <td>850,000 CFA</td>\n",
       "      <td>nous disposons a la Riviera golf non loin de a...</td>\n",
       "      <td>Location appartement Abidjan</td>\n",
       "    </tr>\n",
       "    <tr>\n",
       "      <td>7</td>\n",
       "      <td>Villa duplex 17 pièces à louer angré 8ème tran...</td>\n",
       "      <td>Abidjan</td>\n",
       "      <td>900,000 CFA</td>\n",
       "      <td>Villa duplex 17 pièces à louer angré 8ème tran...</td>\n",
       "      <td>Location maison Abidjan</td>\n",
       "    </tr>\n",
       "    <tr>\n",
       "      <td>8</td>\n",
       "      <td>Location de chambre à Cocody-centreAbidjan</td>\n",
       "      <td>Abidjan</td>\n",
       "      <td>50,000 CFA</td>\n",
       "      <td>Chambre à louer à Cocody centre, derrière la C...</td>\n",
       "      <td>Location appartement Abidjan</td>\n",
       "    </tr>\n",
       "    <tr>\n",
       "      <td>9</td>\n",
       "      <td>Appart a louer 3p route du bateauAbidjan</td>\n",
       "      <td>Abidjan</td>\n",
       "      <td>100,000 CFA</td>\n",
       "      <td>Appartement de 3pieces a louer route du bateau...</td>\n",
       "      <td>Location appartement Abidjan</td>\n",
       "    </tr>\n",
       "  </tbody>\n",
       "</table>\n",
       "</div>"
      ],
      "text/plain": [
       "                                               titre    ville          price  \\\n",
       "0    EN LOCATION RIVIERA 3 WORLD CITY VILLA …Abidjan  Abidjan  1,500,000 CFA   \n",
       "1         Chambre avec salon commum à MARCORYAbidjan  Abidjan     40,000 CFA   \n",
       "2                                   colocationCocody   Cocody           None   \n",
       "3                         Villa basse à louerAbidjan  Abidjan    600,000 CFA   \n",
       "4             Duplex 4p a louer macaci 2platoAbidjan  Abidjan    250,000 CFA   \n",
       "5                          Beau duplex a louéAbidjan  Abidjan          3 CFA   \n",
       "6  grand et bel appart 4 pièces déjà meublé a lou...  Abidjan    850,000 CFA   \n",
       "7  Villa duplex 17 pièces à louer angré 8ème tran...  Abidjan    900,000 CFA   \n",
       "8         Location de chambre à Cocody-centreAbidjan  Abidjan     50,000 CFA   \n",
       "9           Appart a louer 3p route du bateauAbidjan  Abidjan    100,000 CFA   \n",
       "\n",
       "                                         description  \\\n",
       "0  EN LOCATION RIVIERA 3 WORLD CITY : VILLA DUPLE...   \n",
       "1  chambre (entrée couché),salon commun à Marcory...   \n",
       "2  Je recherche une personne avec qui prendre un ...   \n",
       "3  Villa basse 5 pièces avec garage de 3véhicules...   \n",
       "4  Duplex de 4pieces a louer située au 2plateaux ...   \n",
       "5  Beau Duplex haut standing de 7pieces avec pici...   \n",
       "6  nous disposons a la Riviera golf non loin de a...   \n",
       "7  Villa duplex 17 pièces à louer angré 8ème tran...   \n",
       "8  Chambre à louer à Cocody centre, derrière la C...   \n",
       "9  Appartement de 3pieces a louer route du bateau...   \n",
       "\n",
       "                  type_loaction  \n",
       "0       Location maison Abidjan  \n",
       "1  Location appartement Abidjan  \n",
       "2            Colocation Abidjan  \n",
       "3       Location maison Abidjan  \n",
       "4       Location maison Abidjan  \n",
       "5       Location maison Abidjan  \n",
       "6  Location appartement Abidjan  \n",
       "7       Location maison Abidjan  \n",
       "8  Location appartement Abidjan  \n",
       "9  Location appartement Abidjan  "
      ]
     },
     "execution_count": 55,
     "metadata": {},
     "output_type": "execute_result"
    }
   ],
   "source": [
    "df.head(10)"
   ]
  },
  {
   "cell_type": "code",
   "execution_count": null,
   "metadata": {},
   "outputs": [],
   "source": []
  },
  {
   "cell_type": "code",
   "execution_count": 61,
   "metadata": {},
   "outputs": [],
   "source": [
    "df[\"price_clean\"] = df[\"price\"].str.lower().str.replace(\",\", \"\"\n",
    "                        ).str.replace(\"cfa\", \"\").str.strip()\n",
    "\n",
    "df[\"price_clean\"]  = pd.to_numeric(df[\"price_clean\"] , errors=\"coerce\")"
   ]
  },
  {
   "cell_type": "code",
   "execution_count": 62,
   "metadata": {},
   "outputs": [
    {
     "data": {
      "text/html": [
       "<div>\n",
       "<style scoped>\n",
       "    .dataframe tbody tr th:only-of-type {\n",
       "        vertical-align: middle;\n",
       "    }\n",
       "\n",
       "    .dataframe tbody tr th {\n",
       "        vertical-align: top;\n",
       "    }\n",
       "\n",
       "    .dataframe thead th {\n",
       "        text-align: right;\n",
       "    }\n",
       "</style>\n",
       "<table border=\"1\" class=\"dataframe\">\n",
       "  <thead>\n",
       "    <tr style=\"text-align: right;\">\n",
       "      <th></th>\n",
       "      <th>titre</th>\n",
       "      <th>ville</th>\n",
       "      <th>price</th>\n",
       "      <th>description</th>\n",
       "      <th>type_loaction</th>\n",
       "      <th>price_clean</th>\n",
       "    </tr>\n",
       "  </thead>\n",
       "  <tbody>\n",
       "    <tr>\n",
       "      <td>0</td>\n",
       "      <td>EN LOCATION RIVIERA 3 WORLD CITY VILLA …Abidjan</td>\n",
       "      <td>Abidjan</td>\n",
       "      <td>1,500,000 CFA</td>\n",
       "      <td>EN LOCATION RIVIERA 3 WORLD CITY : VILLA DUPLE...</td>\n",
       "      <td>Location maison Abidjan</td>\n",
       "      <td>1500000.0</td>\n",
       "    </tr>\n",
       "    <tr>\n",
       "      <td>1</td>\n",
       "      <td>Chambre avec salon commum à MARCORYAbidjan</td>\n",
       "      <td>Abidjan</td>\n",
       "      <td>40,000 CFA</td>\n",
       "      <td>chambre (entrée couché),salon commun à Marcory...</td>\n",
       "      <td>Location appartement Abidjan</td>\n",
       "      <td>40000.0</td>\n",
       "    </tr>\n",
       "    <tr>\n",
       "      <td>2</td>\n",
       "      <td>colocationCocody</td>\n",
       "      <td>Cocody</td>\n",
       "      <td>None</td>\n",
       "      <td>Je recherche une personne avec qui prendre un ...</td>\n",
       "      <td>Colocation Abidjan</td>\n",
       "      <td>NaN</td>\n",
       "    </tr>\n",
       "    <tr>\n",
       "      <td>3</td>\n",
       "      <td>Villa basse à louerAbidjan</td>\n",
       "      <td>Abidjan</td>\n",
       "      <td>600,000 CFA</td>\n",
       "      <td>Villa basse 5 pièces avec garage de 3véhicules...</td>\n",
       "      <td>Location maison Abidjan</td>\n",
       "      <td>600000.0</td>\n",
       "    </tr>\n",
       "    <tr>\n",
       "      <td>4</td>\n",
       "      <td>Duplex 4p a louer macaci 2platoAbidjan</td>\n",
       "      <td>Abidjan</td>\n",
       "      <td>250,000 CFA</td>\n",
       "      <td>Duplex de 4pieces a louer située au 2plateaux ...</td>\n",
       "      <td>Location maison Abidjan</td>\n",
       "      <td>250000.0</td>\n",
       "    </tr>\n",
       "    <tr>\n",
       "      <td>5</td>\n",
       "      <td>Beau duplex a louéAbidjan</td>\n",
       "      <td>Abidjan</td>\n",
       "      <td>3 CFA</td>\n",
       "      <td>Beau Duplex haut standing de 7pieces avec pici...</td>\n",
       "      <td>Location maison Abidjan</td>\n",
       "      <td>3.0</td>\n",
       "    </tr>\n",
       "    <tr>\n",
       "      <td>6</td>\n",
       "      <td>grand et bel appart 4 pièces déjà meublé a lou...</td>\n",
       "      <td>Abidjan</td>\n",
       "      <td>850,000 CFA</td>\n",
       "      <td>nous disposons a la Riviera golf non loin de a...</td>\n",
       "      <td>Location appartement Abidjan</td>\n",
       "      <td>850000.0</td>\n",
       "    </tr>\n",
       "    <tr>\n",
       "      <td>7</td>\n",
       "      <td>Villa duplex 17 pièces à louer angré 8ème tran...</td>\n",
       "      <td>Abidjan</td>\n",
       "      <td>900,000 CFA</td>\n",
       "      <td>Villa duplex 17 pièces à louer angré 8ème tran...</td>\n",
       "      <td>Location maison Abidjan</td>\n",
       "      <td>900000.0</td>\n",
       "    </tr>\n",
       "    <tr>\n",
       "      <td>8</td>\n",
       "      <td>Location de chambre à Cocody-centreAbidjan</td>\n",
       "      <td>Abidjan</td>\n",
       "      <td>50,000 CFA</td>\n",
       "      <td>Chambre à louer à Cocody centre, derrière la C...</td>\n",
       "      <td>Location appartement Abidjan</td>\n",
       "      <td>50000.0</td>\n",
       "    </tr>\n",
       "    <tr>\n",
       "      <td>9</td>\n",
       "      <td>Appart a louer 3p route du bateauAbidjan</td>\n",
       "      <td>Abidjan</td>\n",
       "      <td>100,000 CFA</td>\n",
       "      <td>Appartement de 3pieces a louer route du bateau...</td>\n",
       "      <td>Location appartement Abidjan</td>\n",
       "      <td>100000.0</td>\n",
       "    </tr>\n",
       "  </tbody>\n",
       "</table>\n",
       "</div>"
      ],
      "text/plain": [
       "                                               titre    ville          price  \\\n",
       "0    EN LOCATION RIVIERA 3 WORLD CITY VILLA …Abidjan  Abidjan  1,500,000 CFA   \n",
       "1         Chambre avec salon commum à MARCORYAbidjan  Abidjan     40,000 CFA   \n",
       "2                                   colocationCocody   Cocody           None   \n",
       "3                         Villa basse à louerAbidjan  Abidjan    600,000 CFA   \n",
       "4             Duplex 4p a louer macaci 2platoAbidjan  Abidjan    250,000 CFA   \n",
       "5                          Beau duplex a louéAbidjan  Abidjan          3 CFA   \n",
       "6  grand et bel appart 4 pièces déjà meublé a lou...  Abidjan    850,000 CFA   \n",
       "7  Villa duplex 17 pièces à louer angré 8ème tran...  Abidjan    900,000 CFA   \n",
       "8         Location de chambre à Cocody-centreAbidjan  Abidjan     50,000 CFA   \n",
       "9           Appart a louer 3p route du bateauAbidjan  Abidjan    100,000 CFA   \n",
       "\n",
       "                                         description  \\\n",
       "0  EN LOCATION RIVIERA 3 WORLD CITY : VILLA DUPLE...   \n",
       "1  chambre (entrée couché),salon commun à Marcory...   \n",
       "2  Je recherche une personne avec qui prendre un ...   \n",
       "3  Villa basse 5 pièces avec garage de 3véhicules...   \n",
       "4  Duplex de 4pieces a louer située au 2plateaux ...   \n",
       "5  Beau Duplex haut standing de 7pieces avec pici...   \n",
       "6  nous disposons a la Riviera golf non loin de a...   \n",
       "7  Villa duplex 17 pièces à louer angré 8ème tran...   \n",
       "8  Chambre à louer à Cocody centre, derrière la C...   \n",
       "9  Appartement de 3pieces a louer route du bateau...   \n",
       "\n",
       "                  type_loaction  price_clean  \n",
       "0       Location maison Abidjan    1500000.0  \n",
       "1  Location appartement Abidjan      40000.0  \n",
       "2            Colocation Abidjan          NaN  \n",
       "3       Location maison Abidjan     600000.0  \n",
       "4       Location maison Abidjan     250000.0  \n",
       "5       Location maison Abidjan          3.0  \n",
       "6  Location appartement Abidjan     850000.0  \n",
       "7       Location maison Abidjan     900000.0  \n",
       "8  Location appartement Abidjan      50000.0  \n",
       "9  Location appartement Abidjan     100000.0  "
      ]
     },
     "execution_count": 62,
     "metadata": {},
     "output_type": "execute_result"
    }
   ],
   "source": [
    "df.head(10)"
   ]
  },
  {
   "cell_type": "code",
   "execution_count": 63,
   "metadata": {},
   "outputs": [
    {
     "data": {
      "text/html": [
       "<div>\n",
       "<style scoped>\n",
       "    .dataframe tbody tr th:only-of-type {\n",
       "        vertical-align: middle;\n",
       "    }\n",
       "\n",
       "    .dataframe tbody tr th {\n",
       "        vertical-align: top;\n",
       "    }\n",
       "\n",
       "    .dataframe thead th {\n",
       "        text-align: right;\n",
       "    }\n",
       "</style>\n",
       "<table border=\"1\" class=\"dataframe\">\n",
       "  <thead>\n",
       "    <tr style=\"text-align: right;\">\n",
       "      <th></th>\n",
       "      <th>titre</th>\n",
       "      <th>ville</th>\n",
       "      <th>price</th>\n",
       "      <th>description</th>\n",
       "      <th>type_loaction</th>\n",
       "      <th>price_clean</th>\n",
       "    </tr>\n",
       "  </thead>\n",
       "  <tbody>\n",
       "    <tr>\n",
       "      <td>2</td>\n",
       "      <td>colocationCocody</td>\n",
       "      <td>Cocody</td>\n",
       "      <td>None</td>\n",
       "      <td>Je recherche une personne avec qui prendre un ...</td>\n",
       "      <td>Colocation Abidjan</td>\n",
       "      <td>NaN</td>\n",
       "    </tr>\n",
       "  </tbody>\n",
       "</table>\n",
       "</div>"
      ],
      "text/plain": [
       "              titre   ville price  \\\n",
       "2  colocationCocody  Cocody  None   \n",
       "\n",
       "                                         description       type_loaction  \\\n",
       "2  Je recherche une personne avec qui prendre un ...  Colocation Abidjan   \n",
       "\n",
       "   price_clean  \n",
       "2          NaN  "
      ]
     },
     "execution_count": 63,
     "metadata": {},
     "output_type": "execute_result"
    }
   ],
   "source": [
    "df[df.price_clean.isnull()]"
   ]
  },
  {
   "cell_type": "code",
   "execution_count": 64,
   "metadata": {},
   "outputs": [
    {
     "data": {
      "text/plain": [
       "'Je recherche une personne avec qui prendre un studio à deux d un budget 25000fr à 30000fr dans la commune de cocody riviera angré en divisant la caution demandé à deux voici mon …'"
      ]
     },
     "execution_count": 64,
     "metadata": {},
     "output_type": "execute_result"
    }
   ],
   "source": [
    "df.loc[2, \"description\"]"
   ]
  },
  {
   "cell_type": "code",
   "execution_count": 66,
   "metadata": {},
   "outputs": [
    {
     "data": {
      "text/plain": [
       "<matplotlib.axes._subplots.AxesSubplot at 0x1e50f690508>"
      ]
     },
     "execution_count": 66,
     "metadata": {},
     "output_type": "execute_result"
    },
    {
     "data": {
      "image/png": "[encoded data removed]",
      "text/plain": [
       "<Figure size 432x288 with 1 Axes>"
      ]
     },
     "metadata": {
      "needs_background": "light"
     },
     "output_type": "display_data"
    }
   ],
   "source": [
    "df.price_clean.hist()"
   ]
  },
  {
   "cell_type": "code",
   "execution_count": null,
   "metadata": {},
   "outputs": [],
   "source": []
  },
  {
   "cell_type": "code",
   "execution_count": 58,
   "metadata": {},
   "outputs": [],
   "source": []
  },
  {
   "cell_type": "markdown",
   "metadata": {},
   "source": [
    "## Q6 : Extraire toutes les annonces de Locanto"
   ]
  },
  {
   "cell_type": "markdown",
   "metadata": {},
   "source": [
    "Avez-vous remarqué que **Locanto** n'affiche que les 24 premiers éléments ? Quand une page limite volontairement le nombre d'éléments à  afficher, on parle de [pagination](https://fr.ryte.com/magazine/pagination-le-guide-pratique-pour-debutants). Nous allons cliquer automatiquement pour pouvoir afficher le reste des annonces."
   ]
  },
  {
   "cell_type": "markdown",
   "metadata": {},
   "source": [
    "## Q6-1 : Sélecteur du bouton 'Suivant'\n",
    "Défiler les annonces jusqu'en bas. Avez-vous vu la liste numérotée dont les numéros commencent par **1** et s'incrémentent à chaque fois de **1** ? En cliquant sur ces numéros, **Locanto** nous affiche le reste des annonces."
   ]
  },
  {
   "cell_type": "markdown",
   "metadata": {},
   "source": [
    "**Question** : Trouvez un sélecteur qui permet de sélectionner le 'bouton'  qui affiche le texte '**Suivant**'"
   ]
  },
  {
   "cell_type": "code",
   "execution_count": 99,
   "metadata": {},
   "outputs": [],
   "source": [
    "suivant_css = \".paging>a:last-of-type>strong\" # Mettez votre CSS ici"
   ]
  },
  {
   "cell_type": "markdown",
   "metadata": {},
   "source": [
    "## Q6-2 : Cliquer sur 'Suivant'"
   ]
  },
  {
   "cell_type": "markdown",
   "metadata": {},
   "source": [
    "Complétez le code ci-dessous pour pouvoir cliquer sur le bouton '**Suivant**'"
   ]
  },
  {
   "cell_type": "code",
   "execution_count": 76,
   "metadata": {},
   "outputs": [],
   "source": [
    "suivant = driver.find_element_by_css_selector(suivant_css)"
   ]
  },
  {
   "cell_type": "markdown",
   "metadata": {},
   "source": [
    "## Q6-3 : Arrêter de cliquer une fois en fin de liste"
   ]
  },
  {
   "cell_type": "code",
   "execution_count": 77,
   "metadata": {},
   "outputs": [],
   "source": [
    "from selenium.common.exceptions import NoSuchElementException"
   ]
  },
  {
   "cell_type": "markdown",
   "metadata": {},
   "source": [
    "En cliquant plusieurs fois sur '**Suivant**', on arrive à un moment donné à la fin de la liste. Comment savoir si on est à la fin de la liste ? En fin de liste, le bouton '**Suivant**' disparait ! Donc quand vous tentez de sélectionner l'élément '**Suivant**'  avec **Selenium**, vous allez recevoir une erreur de type `NoSuchElementException`. Nous allons alors définir une fonction qui ne prend aucun argument et vous retourne `True` si on est en fin de liste et `False` sinon."
   ]
  },
  {
   "cell_type": "code",
   "execution_count": 78,
   "metadata": {},
   "outputs": [
    {
     "data": {
      "text/plain": [
       "'Suivant ›'"
      ]
     },
     "execution_count": 78,
     "metadata": {},
     "output_type": "execute_result"
    }
   ],
   "source": [
    "suivant.text"
   ]
  },
  {
   "cell_type": "code",
   "execution_count": 81,
   "metadata": {},
   "outputs": [],
   "source": [
    "def is_list_end():\n",
    "    try:\n",
    "        suivant = driver.find_element_by_css_selector(suivant_css)\n",
    "        return not \"suivant\" in suivant.text.lower()\n",
    "    except NoSuchElementException:\n",
    "        return True"
   ]
  },
  {
   "cell_type": "code",
   "execution_count": 86,
   "metadata": {},
   "outputs": [],
   "source": [
    "# cette fonction fait exactement la même chose que l'autre\n",
    "# Sauf qu'elle utilise du xpath \n",
    "def is_list_end_xpath():\n",
    "    try:\n",
    "        xpath_selector = '//div[@class=\"paging\"]//strong'+\\\n",
    "        '[contains(., \"Suivant\")]/ancestor::a'\n",
    "        suivant = driver.find_element_by_xpath(xpath_selector)\n",
    "        return False\n",
    "    except NoSuchElementException:\n",
    "        return True"
   ]
  },
  {
   "cell_type": "code",
   "execution_count": 87,
   "metadata": {},
   "outputs": [],
   "source": [
    "### Note \n",
    "\n",
    "# "
   ]
  },
  {
   "cell_type": "code",
   "execution_count": 92,
   "metadata": {},
   "outputs": [
    {
     "data": {
      "text/plain": [
       "False"
      ]
     },
     "execution_count": 92,
     "metadata": {},
     "output_type": "execute_result"
    }
   ],
   "source": [
    "is_list_end()"
   ]
  },
  {
   "cell_type": "code",
   "execution_count": 93,
   "metadata": {},
   "outputs": [
    {
     "data": {
      "text/plain": [
       "False"
      ]
     },
     "execution_count": 93,
     "metadata": {},
     "output_type": "execute_result"
    }
   ],
   "source": [
    "is_list_end_xpath()"
   ]
  },
  {
   "cell_type": "code",
   "execution_count": null,
   "metadata": {},
   "outputs": [],
   "source": []
  },
  {
   "cell_type": "markdown",
   "metadata": {},
   "source": [
    "En vous servant de la fonction **is_list_end**, itérer dans une boucle **while** jusqu'à ce que vous ne soyez à la fin de la liste. A chaque fois que vous cliquez sur le bouton '**Suivant**', scraper la nouvelle table d'annonces qui apparaît."
   ]
  },
  {
   "cell_type": "code",
   "execution_count": 94,
   "metadata": {},
   "outputs": [],
   "source": [
    "import time"
   ]
  },
  {
   "cell_type": "code",
   "execution_count": 109,
   "metadata": {},
   "outputs": [
    {
     "data": {
      "text/plain": [
       "'<a page=\"2\" href=\"https://www.locanto.ci/Immobilier/R/?type=rent&amp;page=1\"><strong>Suivant ›</strong></a>'"
      ]
     },
     "execution_count": 109,
     "metadata": {},
     "output_type": "execute_result"
    }
   ],
   "source": [
    "suivant.get_attribute(\"outerHTML\")"
   ]
  },
  {
   "cell_type": "code",
   "execution_count": 142,
   "metadata": {},
   "outputs": [],
   "source": [
    "suivant_css = \".paging>a:last-of-type\" # Mettez votre CSS ici"
   ]
  },
  {
   "cell_type": "code",
   "execution_count": 143,
   "metadata": {},
   "outputs": [],
   "source": [
    "from selenium.webdriver.common.action_chains import ActionChains"
   ]
  },
  {
   "cell_type": "code",
   "execution_count": 155,
   "metadata": {},
   "outputs": [],
   "source": [
    "from selenium.common.exceptions import ElementNotInteractableException, ElementClickInterceptedException\n",
    "from selenium.webdriver.common.keys import Keys\n",
    "from selenium.webdriver.common.action_chains import ActionChains\n",
    "from selenium.webdriver.support.ui import WebDriverWait\n",
    "from selenium.webdriver.support import expected_conditions as EC"
   ]
  },
  {
   "cell_type": "code",
   "execution_count": 172,
   "metadata": {},
   "outputs": [],
   "source": [
    "# def wait_until(driver, css, timeout = None, poll = None, sleep = None):\n",
    "#     if timeout is None :\n",
    "#         timeout = 10\n",
    "#     if poll is None :\n",
    "#         poll = 0.1\n",
    "#     if sleep is None :\n",
    "#         sleep = 0.1\n",
    "\n",
    "#     wait = WebDriverWait(driver, timeout, poll)\n",
    "#     wait.until(EC.visibility_of_element_located((By.CSS_SELECTOR, css)))\n",
    "#     time.sleep(sleep)"
   ]
  },
  {
   "cell_type": "code",
   "execution_count": 145,
   "metadata": {},
   "outputs": [],
   "source": [
    "# def click(element = '', driver = None, wait = 0.5, timeout = None, poll = None, sleep = None):\n",
    "#     if isinstance(element, str):\n",
    "#         assert driver is not None\n",
    "#         element = driver.find_element_by_css_selector(element)\n",
    "\n",
    "\n",
    "    \n",
    "#     execption = (ElementClickInterceptedException, ElementNotInteractableException)\n",
    "#     try:\n",
    "#         element.click()\n",
    "#     except execption as e:\n",
    "#         print(\"connectors_utils--direct_click--error: {}\".format(e) )\n",
    "#         try :\n",
    "#             element.send_keys(Keys.ENTER)\n",
    "#         except execption as e :\n",
    "#             print(\"connectors_utils--enter_key--error: {}\".format(e) )\n",
    "\n",
    "#             if driver is not None :\n",
    "#                 try :\n",
    "#                     ActionChains(driver).move_to_element(element).click(element).perform()\n",
    "#                 except execption as e:\n",
    "#                     print(\"connectors_utils--chain_action_click--error: {}\".format(e) )\n",
    "#                     try :\n",
    "#                         ActionChains(driver).move_to_element(element).send_keys(Keys.RETURN).perform()\n",
    "#                     except execption as e :\n",
    "#                         print(\"connectors_utils--chain_action_enter_key--error: {}\".format(e) )\n",
    "#                         raise e"
   ]
  },
  {
   "cell_type": "code",
   "execution_count": 158,
   "metadata": {},
   "outputs": [],
   "source": [
    "def click():\n",
    "    \"\"\"\n",
    "    Cette fonction clique sur le bouton Suivant en envoyant\n",
    "    au naviagteur la touche 'ENTREE'\n",
    "    \"\"\"\n",
    "    suivant = driver.find_element_by_css_selector(suivant_css)\n",
    "    suivant.send_keys(Keys.ENTER)"
   ]
  },
  {
   "cell_type": "code",
   "execution_count": 154,
   "metadata": {},
   "outputs": [],
   "source": []
  },
  {
   "cell_type": "code",
   "execution_count": 151,
   "metadata": {},
   "outputs": [],
   "source": []
  },
  {
   "cell_type": "code",
   "execution_count": 159,
   "metadata": {},
   "outputs": [],
   "source": [
    "driver.get(url)"
   ]
  },
  {
   "cell_type": "code",
   "execution_count": 160,
   "metadata": {},
   "outputs": [
    {
     "name": "stdout",
     "output_type": "stream",
     "text": [
      "Le nombre de page est: 9\n"
     ]
    }
   ],
   "source": [
    "dfs = []\n",
    "while not is_list_end():\n",
    "    df = get_locanto()\n",
    "    dfs.append(df)\n",
    "    \n",
    "    if not is_list_end() :\n",
    "        click()\n",
    "        time.sleep(3) # Attendre pour que le navigateur passe à la page cliquée\n",
    "print(\"Le nombre de page est:\", len(dfs))"
   ]
  },
  {
   "cell_type": "code",
   "execution_count": null,
   "metadata": {},
   "outputs": [],
   "source": []
  },
  {
   "cell_type": "code",
   "execution_count": null,
   "metadata": {},
   "outputs": [],
   "source": []
  },
  {
   "cell_type": "markdown",
   "metadata": {},
   "source": [
    "# Q6-4 Concaténer les données de toutes les pages de **locanto**"
   ]
  },
  {
   "cell_type": "markdown",
   "metadata": {},
   "source": [
    "En vous servant de la fonction **pd.concat**, fusionner toutes les données contenues dans la liste **dfs** définie dans la question précédente."
   ]
  },
  {
   "cell_type": "code",
   "execution_count": 178,
   "metadata": {},
   "outputs": [],
   "source": [
    "# df_all = pd.concat(....) # Complétez le code\n",
    "# df_all.head(10)"
   ]
  },
  {
   "cell_type": "code",
   "execution_count": 179,
   "metadata": {},
   "outputs": [
    {
     "name": "stdout",
     "output_type": "stream",
     "text": [
      "Nombre de lignes: 216\n"
     ]
    }
   ],
   "source": [
    "df_flat = []\n",
    "for df in  dfs :\n",
    "    df_flat =  df_flat + data # On fusionne les listes\n",
    "print(\"Nombre de lignes:\", len(df_flat))"
   ]
  },
  {
   "cell_type": "code",
   "execution_count": null,
   "metadata": {},
   "outputs": [],
   "source": []
  },
  {
   "cell_type": "code",
   "execution_count": 180,
   "metadata": {},
   "outputs": [
    {
     "data": {
      "text/plain": [
       "[{'titre': 'EN LOCATION RIVIERA 3 WORLD CITY VILLA …Abidjan',\n",
       "  'ville': 'Abidjan',\n",
       "  'price': '1,500,000 CFA',\n",
       "  'description': 'EN LOCATION RIVIERA 3 WORLD CITY : VILLA DUPLEX DE 5 PIÈCES.\\nZone : dans la Cité : World City ,pas loin du Lycée Français .\\nUn Salon + une salle a Mangé .\\nUne grande Cuisine .\\n4 …',\n",
       "  'type_loaction': 'Location maison Abidjan'},\n",
       " {'titre': 'Chambre avec salon commum à MARCORYAbidjan',\n",
       "  'ville': 'Abidjan',\n",
       "  'price': '40,000 CFA',\n",
       "  'description': 'chambre (entrée couché),salon commun à Marcory vers Massarana\\nCondition :célibataire homme ou femme\\n04 mois seulement\\n07202626\\n76432626',\n",
       "  'type_loaction': 'Location appartement Abidjan'}]"
      ]
     },
     "execution_count": 180,
     "metadata": {},
     "output_type": "execute_result"
    }
   ],
   "source": [
    "df[:2]"
   ]
  },
  {
   "cell_type": "code",
   "execution_count": 181,
   "metadata": {},
   "outputs": [
    {
     "data": {
      "text/plain": [
       "(216, 5)"
      ]
     },
     "execution_count": 181,
     "metadata": {},
     "output_type": "execute_result"
    }
   ],
   "source": [
    "df_all = pd.DataFrame(df_flat) # COnvertir en python\n",
    "df_all.shape"
   ]
  },
  {
   "cell_type": "code",
   "execution_count": 182,
   "metadata": {},
   "outputs": [
    {
     "data": {
      "text/html": [
       "<div>\n",
       "<style scoped>\n",
       "    .dataframe tbody tr th:only-of-type {\n",
       "        vertical-align: middle;\n",
       "    }\n",
       "\n",
       "    .dataframe tbody tr th {\n",
       "        vertical-align: top;\n",
       "    }\n",
       "\n",
       "    .dataframe thead th {\n",
       "        text-align: right;\n",
       "    }\n",
       "</style>\n",
       "<table border=\"1\" class=\"dataframe\">\n",
       "  <thead>\n",
       "    <tr style=\"text-align: right;\">\n",
       "      <th></th>\n",
       "      <th>titre</th>\n",
       "      <th>ville</th>\n",
       "      <th>price</th>\n",
       "      <th>description</th>\n",
       "      <th>type_loaction</th>\n",
       "    </tr>\n",
       "  </thead>\n",
       "  <tbody>\n",
       "    <tr>\n",
       "      <td>0</td>\n",
       "      <td>EN LOCATION RIVIERA 3 WORLD CITY VILLA …Abidjan</td>\n",
       "      <td>Abidjan</td>\n",
       "      <td>1,500,000 CFA</td>\n",
       "      <td>EN LOCATION RIVIERA 3 WORLD CITY : VILLA DUPLE...</td>\n",
       "      <td>Location maison Abidjan</td>\n",
       "    </tr>\n",
       "    <tr>\n",
       "      <td>1</td>\n",
       "      <td>Chambre avec salon commum à MARCORYAbidjan</td>\n",
       "      <td>Abidjan</td>\n",
       "      <td>40,000 CFA</td>\n",
       "      <td>chambre (entrée couché),salon commun à Marcory...</td>\n",
       "      <td>Location appartement Abidjan</td>\n",
       "    </tr>\n",
       "    <tr>\n",
       "      <td>2</td>\n",
       "      <td>colocationCocody</td>\n",
       "      <td>Cocody</td>\n",
       "      <td>None</td>\n",
       "      <td>Je recherche une personne avec qui prendre un ...</td>\n",
       "      <td>Colocation Abidjan</td>\n",
       "    </tr>\n",
       "    <tr>\n",
       "      <td>3</td>\n",
       "      <td>Villa basse à louerAbidjan</td>\n",
       "      <td>Abidjan</td>\n",
       "      <td>600,000 CFA</td>\n",
       "      <td>Villa basse 5 pièces avec garage de 3véhicules...</td>\n",
       "      <td>Location maison Abidjan</td>\n",
       "    </tr>\n",
       "    <tr>\n",
       "      <td>4</td>\n",
       "      <td>Duplex 4p a louer macaci 2platoAbidjan</td>\n",
       "      <td>Abidjan</td>\n",
       "      <td>250,000 CFA</td>\n",
       "      <td>Duplex de 4pieces a louer située au 2plateaux ...</td>\n",
       "      <td>Location maison Abidjan</td>\n",
       "    </tr>\n",
       "    <tr>\n",
       "      <td>5</td>\n",
       "      <td>Beau duplex a louéAbidjan</td>\n",
       "      <td>Abidjan</td>\n",
       "      <td>3 CFA</td>\n",
       "      <td>Beau Duplex haut standing de 7pieces avec pici...</td>\n",
       "      <td>Location maison Abidjan</td>\n",
       "    </tr>\n",
       "    <tr>\n",
       "      <td>6</td>\n",
       "      <td>grand et bel appart 4 pièces déjà meublé a lou...</td>\n",
       "      <td>Abidjan</td>\n",
       "      <td>850,000 CFA</td>\n",
       "      <td>nous disposons a la Riviera golf non loin de a...</td>\n",
       "      <td>Location appartement Abidjan</td>\n",
       "    </tr>\n",
       "    <tr>\n",
       "      <td>7</td>\n",
       "      <td>Villa duplex 17 pièces à louer angré 8ème tran...</td>\n",
       "      <td>Abidjan</td>\n",
       "      <td>900,000 CFA</td>\n",
       "      <td>Villa duplex 17 pièces à louer angré 8ème tran...</td>\n",
       "      <td>Location maison Abidjan</td>\n",
       "    </tr>\n",
       "    <tr>\n",
       "      <td>8</td>\n",
       "      <td>Location de chambre à Cocody-centreAbidjan</td>\n",
       "      <td>Abidjan</td>\n",
       "      <td>50,000 CFA</td>\n",
       "      <td>Chambre à louer à Cocody centre, derrière la C...</td>\n",
       "      <td>Location appartement Abidjan</td>\n",
       "    </tr>\n",
       "    <tr>\n",
       "      <td>9</td>\n",
       "      <td>Appart a louer 3p route du bateauAbidjan</td>\n",
       "      <td>Abidjan</td>\n",
       "      <td>100,000 CFA</td>\n",
       "      <td>Appartement de 3pieces a louer route du bateau...</td>\n",
       "      <td>Location appartement Abidjan</td>\n",
       "    </tr>\n",
       "  </tbody>\n",
       "</table>\n",
       "</div>"
      ],
      "text/plain": [
       "                                               titre    ville          price  \\\n",
       "0    EN LOCATION RIVIERA 3 WORLD CITY VILLA …Abidjan  Abidjan  1,500,000 CFA   \n",
       "1         Chambre avec salon commum à MARCORYAbidjan  Abidjan     40,000 CFA   \n",
       "2                                   colocationCocody   Cocody           None   \n",
       "3                         Villa basse à louerAbidjan  Abidjan    600,000 CFA   \n",
       "4             Duplex 4p a louer macaci 2platoAbidjan  Abidjan    250,000 CFA   \n",
       "5                          Beau duplex a louéAbidjan  Abidjan          3 CFA   \n",
       "6  grand et bel appart 4 pièces déjà meublé a lou...  Abidjan    850,000 CFA   \n",
       "7  Villa duplex 17 pièces à louer angré 8ème tran...  Abidjan    900,000 CFA   \n",
       "8         Location de chambre à Cocody-centreAbidjan  Abidjan     50,000 CFA   \n",
       "9           Appart a louer 3p route du bateauAbidjan  Abidjan    100,000 CFA   \n",
       "\n",
       "                                         description  \\\n",
       "0  EN LOCATION RIVIERA 3 WORLD CITY : VILLA DUPLE...   \n",
       "1  chambre (entrée couché),salon commun à Marcory...   \n",
       "2  Je recherche une personne avec qui prendre un ...   \n",
       "3  Villa basse 5 pièces avec garage de 3véhicules...   \n",
       "4  Duplex de 4pieces a louer située au 2plateaux ...   \n",
       "5  Beau Duplex haut standing de 7pieces avec pici...   \n",
       "6  nous disposons a la Riviera golf non loin de a...   \n",
       "7  Villa duplex 17 pièces à louer angré 8ème tran...   \n",
       "8  Chambre à louer à Cocody centre, derrière la C...   \n",
       "9  Appartement de 3pieces a louer route du bateau...   \n",
       "\n",
       "                  type_loaction  \n",
       "0       Location maison Abidjan  \n",
       "1  Location appartement Abidjan  \n",
       "2            Colocation Abidjan  \n",
       "3       Location maison Abidjan  \n",
       "4       Location maison Abidjan  \n",
       "5       Location maison Abidjan  \n",
       "6  Location appartement Abidjan  \n",
       "7       Location maison Abidjan  \n",
       "8  Location appartement Abidjan  \n",
       "9  Location appartement Abidjan  "
      ]
     },
     "execution_count": 182,
     "metadata": {},
     "output_type": "execute_result"
    }
   ],
   "source": [
    "df_all.head(10)"
   ]
  },
  {
   "cell_type": "code",
   "execution_count": null,
   "metadata": {},
   "outputs": [],
   "source": []
  }
 ],
 "metadata": {
  "kernelspec": {
   "display_name": "Python 3",
   "language": "python",
   "name": "python3"
  },
  "language_info": {
   "codemirror_mode": {
    "name": "ipython",
    "version": 3
   },
   "file_extension": ".py",
   "mimetype": "text/x-python",
   "name": "python",
   "nbconvert_exporter": "python",
   "pygments_lexer": "ipython3",
   "version": "3.7.4"
  }
 },
 "nbformat": 4,
 "nbformat_minor": 2
}
