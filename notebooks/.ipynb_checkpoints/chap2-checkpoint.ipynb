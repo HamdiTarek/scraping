{
 "cells": [
  {
   "cell_type": "code",
   "execution_count": 11,
   "metadata": {},
   "outputs": [
    {
     "name": "stdout",
     "output_type": "stream",
     "text": [
      "code  d'état : 200\n"
     ]
    }
   ],
   "source": [
    "import requests\n",
    "# Nous envoyons une requête `GET` à l'URL 'http://api.worldbank.org/v2/country/br'\n",
    "reponse = requests.get(\"http://api.worldbank.org/v2/country/ci\")\n",
    "code_etat = reponse.status_code\n",
    "print(\"code  d'état : {}\".format(code_etat))"
   ]
  },
  {
   "cell_type": "code",
   "execution_count": 12,
   "metadata": {},
   "outputs": [
    {
     "name": "stdout",
     "output_type": "stream",
     "text": [
      "Contenu au format XML :\n",
      " ﻿<?xml version=\"1.0\" encoding=\"utf-8\"?>\r\n",
      "<wb:countries page=\"1\" pages=\"1\" per_page=\"50\" total=\"1\" xmlns:wb=\"http://www.worldbank.org\">\r\n",
      "  <wb:country id=\"CIV\">\r\n",
      "    <wb:iso2Code>CI</wb:iso2Code>\r\n",
      "    <wb:name>Cote d'Ivoire</wb:name>\r\n",
      "    <wb:region id=\"SSF\" iso2code=\"ZG\">Sub-Saharan Africa </wb:region>\r\n",
      "    <wb:adminregion id=\"SSA\" iso2code=\"ZF\">Sub-Saharan Africa (excluding high income)</wb:adminregion>\r\n",
      "    <wb:incomeLevel id=\"LMC\" iso2code=\"XN\">Lower middle income</wb:incomeLevel>\r\n",
      "    <wb:lendingType id=\"IDX\" iso2code=\"XI\">IDA</wb:lendingType>\r\n",
      "    <wb:capitalCity>Yamoussoukro</wb:capitalCity>\r\n",
      "    <wb:longitude>-4.0305</wb:longitude>\r\n",
      "    <wb:latitude>5.332</wb:latitude>\r\n",
      "  </wb:country>\r\n",
      "</wb:countries>\n"
     ]
    }
   ],
   "source": [
    "contenu = reponse.text # Le contenu est au format xml\n",
    "print(\"Contenu au format XML :\\n\", contenu)"
   ]
  },
  {
   "cell_type": "code",
   "execution_count": null,
   "metadata": {},
   "outputs": [],
   "source": []
  },
  {
   "cell_type": "code",
   "execution_count": 13,
   "metadata": {},
   "outputs": [],
   "source": [
    "from bs4 import BeautifulSoup"
   ]
  },
  {
   "cell_type": "code",
   "execution_count": 19,
   "metadata": {},
   "outputs": [],
   "source": [
    "soup = BeautifulSoup(contenu, 'lxml-xml')"
   ]
  },
  {
   "cell_type": "code",
   "execution_count": 15,
   "metadata": {},
   "outputs": [
    {
     "name": "stdout",
     "output_type": "stream",
     "text": [
      "Le  nom du pays est : <wb:name>Cote d'Ivoire</wb:name>\n"
     ]
    }
   ],
   "source": [
    "country = soup.country\n",
    "print(\"Le  nom du pays est :\", country.find(\"name\"))"
   ]
  },
  {
   "cell_type": "code",
   "execution_count": 16,
   "metadata": {},
   "outputs": [
    {
     "name": "stdout",
     "output_type": "stream",
     "text": [
      "Le  nom du pays est : Cote d'Ivoire\n"
     ]
    }
   ],
   "source": [
    "print(\"Le  nom du pays est :\", country.find(\"name\").text)"
   ]
  },
  {
   "cell_type": "code",
   "execution_count": null,
   "metadata": {},
   "outputs": [],
   "source": []
  },
  {
   "cell_type": "code",
   "execution_count": 17,
   "metadata": {},
   "outputs": [
    {
     "name": "stdout",
     "output_type": "stream",
     "text": [
      "Son code ISO à 2 lettres est : <wb:iso2Code>CI</wb:iso2Code>\n"
     ]
    }
   ],
   "source": [
    "print(\"Son code ISO à 2 lettres est :\", country.iso2Code)"
   ]
  },
  {
   "cell_type": "code",
   "execution_count": 97,
   "metadata": {},
   "outputs": [],
   "source": [
    "page = \"\"\"<!DOCTYPE html>\n",
    "<html lang=\"fr\">\n",
    "  <head>\n",
    "    <meta charset=\"utf-8\">\n",
    "    <title>Un exemple de document profond</title>\n",
    "    <!-- On peut avoir d'autres méta-données ici -->\n",
    "  </head>\n",
    "  <body>\n",
    "    <!-- Ici, on placera tout le contenu à destination de l'utilisateur -->\n",
    "    <div class=\"conteneur exterieur\" id=\"racine\" title=\"Je suis le premier div.\" >\n",
    "        <span class=\"debut\" data=\"Voici un element span\">Niveau 1</span>\n",
    "        <div class=\"conteneur interieur\" title=\"Mon predecesseur est un div avec id.\">\n",
    "            <span>Niveau 2</span>\n",
    "            <div class=\"conteneur interieur milieu\" title=\"Je suis un div sans attribut id. Je suis au milieu.\">\n",
    "                <p class=\"paragraphe milieu\" type=\"paragraphe-milieu\">Ecrire un paragraph ici.</p>\n",
    "                <span class=\"milieu\">Niveau 3</span>\n",
    "                <div class=\"conteneur interieur\">\n",
    "                    <span>Niveau 4</span>\n",
    "                    <div class=\"conteneur interieur fin\" id=\"feuille\" title=\"Extraire mon contenu.\">\n",
    "                        <p class=\"paragraphe fin\" type=\"paragraphe-fin\">Paragraphe de fin ici.</p>\n",
    "                        <span class=\"fin\">Niveau 5</span>\n",
    "                    </div>\n",
    "                </div>\n",
    "            </div>\n",
    "        </div>\n",
    "    </div>\n",
    "  </body>\n",
    "</html>\"\"\""
   ]
  },
  {
   "cell_type": "code",
   "execution_count": 98,
   "metadata": {},
   "outputs": [
    {
     "data": {
      "text/plain": [
       "'<!DOCTYPE html>\\n<html lang=\"fr\">\\n  <head>\\n    <meta charset=\"utf-8\">\\n    <title>Un exemple de document profond</title>\\n    <!-- On peut avoir d\\'autres méta-données ici -->\\n  </head>\\n  <body>\\n    <!-- Ici, on placera tout le contenu à destination de l\\'utilisateur -->\\n    <div class=\"conteneur exterieur\" id=\"racine\" title=\"Je suis le premier div.\" >\\n        <span class=\"debut\" data=\"Voici un element span\">Niveau 1</span>\\n        <div class=\"conteneur interieur\" title=\"Mon predecesseur est un div avec id.\">\\n            <span>Niveau 2</span>\\n            <div class=\"conteneur interieur milieu\" title=\"Je suis un div sans attribut id. Je suis au milieu.\">\\n                <p class=\"paragraphe milieu\" type=\"paragraphe-milieu\">Ecrire un paragraph ici.</p>\\n                <span class=\"milieu\">Niveau 3</span>\\n                <div class=\"conteneur interieur\">\\n                    <span>Niveau 4</span>\\n                    <div class=\"conteneur interieur fin\" id=\"feuille\" title=\"Extraire mon contenu.\">\\n                        <p class=\"paragraphe fin\" type=\"paragraphe-fin\">Paragraphe de fin ici.</p>\\n                        <span class=\"fin\">Niveau 5</span>\\n                    </div>\\n                </div>\\n            </div>\\n        </div>\\n    </div>\\n  </body>\\n</html>'"
      ]
     },
     "execution_count": 98,
     "metadata": {},
     "output_type": "execute_result"
    }
   ],
   "source": [
    "page"
   ]
  },
  {
   "cell_type": "code",
   "execution_count": 99,
   "metadata": {},
   "outputs": [
    {
     "name": "stdout",
     "output_type": "stream",
     "text": [
      "Le champ 'title' du plus profond élémetn 'div' est : Extraire mon contenu.\n"
     ]
    }
   ],
   "source": [
    "soup = BeautifulSoup(page, 'lxml-xml')\n",
    "deepest_div = soup.div.div.div.div.div\n",
    "deepest_div_title = deepest_div.attrs[\"title\"]\n",
    "print(\"Le champ 'title' du plus profond élémetn 'div' est :\", deepest_div_title)"
   ]
  },
  {
   "cell_type": "code",
   "execution_count": 100,
   "metadata": {},
   "outputs": [
    {
     "data": {
      "text/plain": [
       "<div class=\"conteneur interieur fin\" id=\"feuille\" title=\"Extraire mon contenu.\">\n",
       "<p class=\"paragraphe fin\" type=\"paragraphe-fin\">Paragraphe de fin ici.</p>\n",
       "<span class=\"fin\">Niveau 5</span>\n",
       "</div>"
      ]
     },
     "execution_count": 100,
     "metadata": {},
     "output_type": "execute_result"
    }
   ],
   "source": [
    "deepest_div = soup.find(\"div\", id=\"feuille\") #\n",
    "deepest_div"
   ]
  },
  {
   "cell_type": "code",
   "execution_count": 101,
   "metadata": {},
   "outputs": [
    {
     "data": {
      "text/plain": [
       "'feuille'"
      ]
     },
     "execution_count": 101,
     "metadata": {},
     "output_type": "execute_result"
    }
   ],
   "source": [
    "deepest_div.attrs[\"id\"]"
   ]
  },
  {
   "cell_type": "code",
   "execution_count": 146,
   "metadata": {},
   "outputs": [
    {
     "name": "stdout",
     "output_type": "stream",
     "text": [
      "Elément(s) div avec une classe 'interieur mais sans attribut `title` est :\n",
      " [<div class=\"conteneur interieur\">\n",
      "<span>Niveau 4</span>\n",
      "<div class=\"conteneur interieur fin\" id=\"feuille\" title=\"Extraire mon contenu.\">\n",
      "<p class=\"paragraphe fin\" type=\"paragraphe-fin\">Paragraphe de fin ici.</p>\n",
      "<span class=\"fin\">Niveau 5</span>\n",
      "</div>\n",
      "</div>]\n"
     ]
    }
   ],
   "source": [
    "div_interieur_sans_titre = soup.find_all(\"div\",\n",
    "                    attrs = { \n",
    "                        \"title\" : None,\n",
    "                             \"class\": lambda cls: cls and \"interieur\" in cls, \n",
    "                            }) \n",
    "print(\"Elément(s) div avec une classe 'interieur mais sans attribut `title` est :\\n\", div_interieur_sans_titre)"
   ]
  },
  {
   "cell_type": "code",
   "execution_count": null,
   "metadata": {},
   "outputs": [],
   "source": []
  },
  {
   "cell_type": "code",
   "execution_count": 152,
   "metadata": {},
   "outputs": [
    {
     "name": "stdout",
     "output_type": "stream",
     "text": [
      "<div class=\"conteneur interieur\">\n",
      " <span>\n",
      "  Niveau 4\n",
      " </span>\n",
      " <div class=\"conteneur interieur fin\" id=\"feuille\" title=\"Extraire mon contenu.\">\n",
      "  <p class=\"paragraphe fin\" type=\"paragraphe-fin\">\n",
      "   Paragraphe de fin ici.\n",
      "  </p>\n",
      "  <span class=\"fin\">\n",
      "   Niveau 5\n",
      "  </span>\n",
      " </div>\n",
      "</div>\n",
      "\n"
     ]
    }
   ],
   "source": [
    "print(div_interieur_sans_titre[0].prettify())"
   ]
  },
  {
   "cell_type": "code",
   "execution_count": 149,
   "metadata": {},
   "outputs": [
    {
     "data": {
      "text/plain": [
       "1"
      ]
     },
     "execution_count": 149,
     "metadata": {},
     "output_type": "execute_result"
    }
   ],
   "source": [
    "len(div_interieur_sans_titre)"
   ]
  },
  {
   "cell_type": "code",
   "execution_count": 129,
   "metadata": {},
   "outputs": [
    {
     "data": {
      "text/plain": [
       "[]"
      ]
     },
     "execution_count": 129,
     "metadata": {},
     "output_type": "execute_result"
    }
   ],
   "source": [
    "soup.find_all(\"div\", class_ =  \"conteneur\")"
   ]
  },
  {
   "cell_type": "code",
   "execution_count": 130,
   "metadata": {},
   "outputs": [],
   "source": [
    "import bs4"
   ]
  },
  {
   "cell_type": "code",
   "execution_count": 132,
   "metadata": {},
   "outputs": [
    {
     "data": {
      "text/plain": [
       "'4.8.0'"
      ]
     },
     "execution_count": 132,
     "metadata": {},
     "output_type": "execute_result"
    }
   ],
   "source": [
    "bs4.__version__"
   ]
  },
  {
   "cell_type": "code",
   "execution_count": 120,
   "metadata": {},
   "outputs": [
    {
     "name": "stdout",
     "output_type": "stream",
     "text": [
      "Elément(s) div avec une classe 'interieur mais sans attribut `title` est :\n",
      " <div class=\"conteneur interieur\">\n",
      "<span>Niveau 4</span>\n",
      "<div class=\"conteneur interieur fin\" id=\"feuille\" title=\"Extraire mon contenu.\">\n",
      "<p class=\"paragraphe fin\" type=\"paragraphe-fin\">Paragraphe de fin ici.</p>\n",
      "<span class=\"fin\">Niveau 5</span>\n",
      "</div>\n",
      "</div>\n"
     ]
    }
   ],
   "source": [
    "# div_interieur_sans_titre = soup.find(\"div\",\n",
    "#                     attrs = { \"title\" : False})#.find(\"div\", { \"class\": \"interieur\" }) \n",
    "# print(\"Elément(s) div avec une classe 'interieur mais sans attribut `title` est :\\n\", div_interieur_sans_titre)"
   ]
  },
  {
   "cell_type": "code",
   "execution_count": 128,
   "metadata": {},
   "outputs": [
    {
     "data": {
      "text/plain": [
       "[]"
      ]
     },
     "execution_count": 128,
     "metadata": {},
     "output_type": "execute_result"
    }
   ],
   "source": []
  },
  {
   "cell_type": "code",
   "execution_count": 125,
   "metadata": {},
   "outputs": [],
   "source": [
    "# soup.find_all(\"div\", class_ =  lambda x:  x and \"conteneur\" in x)"
   ]
  },
  {
   "cell_type": "code",
   "execution_count": 104,
   "metadata": {},
   "outputs": [
    {
     "name": "stdout",
     "output_type": "stream",
     "text": [
      "Elément div avec un titre contenant la chaîne 'contenu' :\n",
      " <div class=\"conteneur interieur fin\" id=\"feuille\" title=\"Extraire mon contenu.\">\n",
      "<p class=\"paragraphe fin\" type=\"paragraphe-fin\">Paragraphe de fin ici.</p>\n",
      "<span class=\"fin\">Niveau 5</span>\n",
      "</div>\n"
     ]
    }
   ],
   "source": [
    "# Sélectionner un élément `div` l'attribut `title` contient la chaine \"contenu\"\n",
    "div_interieur_sans_titre = soup.find(\"div\", title = lambda x: x and \"contenu\" in x) \n",
    "print(\"Elément div avec un titre contenant la chaîne 'contenu' :\\n\", div_interieur_sans_titre)"
   ]
  },
  {
   "cell_type": "code",
   "execution_count": 153,
   "metadata": {},
   "outputs": [
    {
     "name": "stdout",
     "output_type": "stream",
     "text": [
      "Un élément div `interieur` avec un attribut `title` contenant la chaîne 'suis':\n",
      " <div class=\"conteneur interieur milieu\" title=\"Je suis un div sans attribut id. Je suis au milieu.\">\n",
      "<p class=\"paragraphe milieu\" type=\"paragraphe-milieu\">Ecrire un paragraph ici.</p>\n",
      "<span class=\"milieu\">Niveau 3</span>\n",
      "<div class=\"conteneur interieur\">\n",
      "<span>Niveau 4</span>\n",
      "<div class=\"conteneur interieur fin\" id=\"feuille\" title=\"Extraire mon contenu.\">\n",
      "<p class=\"paragraphe fin\" type=\"paragraphe-fin\">Paragraphe de fin ici.</p>\n",
      "<span class=\"fin\">Niveau 5</span>\n",
      "</div>\n",
      "</div>\n",
      "</div>\n"
     ]
    }
   ],
   "source": [
    "interior_div_with_title_containing_suis = soup.select_one(\"div[title*='suis'][class*='interieur']\")\n",
    "print(\"Un élément div `interieur` avec un attribut `title` contenant la chaîne 'suis':\\n\", interior_div_with_title_containing_suis)"
   ]
  },
  {
   "cell_type": "code",
   "execution_count": 154,
   "metadata": {},
   "outputs": [],
   "source": [
    "import bs4"
   ]
  },
  {
   "cell_type": "code",
   "execution_count": 155,
   "metadata": {},
   "outputs": [
    {
     "data": {
      "text/plain": [
       "'4.8.0'"
      ]
     },
     "execution_count": 155,
     "metadata": {},
     "output_type": "execute_result"
    }
   ],
   "source": [
    "bs4.__version__"
   ]
  }
 ],
 "metadata": {
  "kernelspec": {
   "display_name": "Python 3",
   "language": "python",
   "name": "python3"
  },
  "language_info": {
   "codemirror_mode": {
    "name": "ipython",
    "version": 3
   },
   "file_extension": ".py",
   "mimetype": "text/x-python",
   "name": "python",
   "nbconvert_exporter": "python",
   "pygments_lexer": "ipython3",
   "version": "3.7.4"
  }
 },
 "nbformat": 4,
 "nbformat_minor": 2
}
